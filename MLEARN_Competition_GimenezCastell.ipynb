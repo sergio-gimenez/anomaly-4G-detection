{
  "nbformat": 4,
  "nbformat_minor": 0,
  "metadata": {
    "colab": {
      "name": "MLEARN_Competition_GimenezCastell.ipynb",
      "provenance": [],
      "collapsed_sections": [
        "QzW43GdlCXoF",
        "Wn4TROMqCcUY",
        "uMVDRYGJBkgO"
      ]
    },
    "kernelspec": {
      "name": "python3",
      "display_name": "Python 3"
    },
    "accelerator": "TPU"
  },
  "cells": [
    {
      "cell_type": "markdown",
      "metadata": {
        "id": "QzW43GdlCXoF"
      },
      "source": [
        "# Load Datasets"
      ]
    },
    {
      "cell_type": "code",
      "metadata": {
        "id": "HdfF9Rz4nS1i"
      },
      "source": [
        "import numpy as np\n",
        "import pandas as pd\n",
        "import os\n",
        "\n",
        "import sklearn.tree\n",
        "import sklearn.ensemble\n",
        "\n",
        "from sklearn.preprocessing import StandardScaler\n",
        "from sklearn.model_selection import train_test_split\n",
        "from sklearn.metrics import classification_report, accuracy_score, confusion_matrix\n",
        "from sklearn.pipeline import Pipeline\n",
        "from sklearn.model_selection import GridSearchCV, RandomizedSearchCV\n",
        "from sklearn.decomposition import PCA"
      ],
      "execution_count": 1,
      "outputs": []
    },
    {
      "cell_type": "code",
      "metadata": {
        "colab": {
          "base_uri": "https://localhost:8080/"
        },
        "id": "mvdFxXlkwPIz",
        "outputId": "ca739eed-54c0-487a-8ba6-94be36c0bd02"
      },
      "source": [
        "# Clone repository in order to get access locally to the datasets\n",
        "!rm -rf .git README.md\n",
        "!git clone -b playing-emsembled-methods https://github.com/sergio-gimenez/anomaly-4G-detection "
      ],
      "execution_count": 2,
      "outputs": [
        {
          "output_type": "stream",
          "text": [
            "Cloning into 'anomaly-4G-detection'...\n",
            "remote: Enumerating objects: 114, done.\u001b[K\n",
            "remote: Counting objects: 100% (114/114), done.\u001b[K\n",
            "remote: Compressing objects: 100% (79/79), done.\u001b[K\n",
            "remote: Total 114 (delta 65), reused 81 (delta 33), pack-reused 0\u001b[K\n",
            "Receiving objects: 100% (114/114), 14.02 MiB | 23.12 MiB/s, done.\n",
            "Resolving deltas: 100% (65/65), done.\n"
          ],
          "name": "stdout"
        }
      ]
    },
    {
      "cell_type": "code",
      "metadata": {
        "id": "BkZG0vkAQiRr",
        "colab": {
          "base_uri": "https://localhost:8080/"
        },
        "outputId": "e682404d-63e5-489f-8c3d-8d19512afadc"
      },
      "source": [
        "!ls -la"
      ],
      "execution_count": 3,
      "outputs": [
        {
          "output_type": "stream",
          "text": [
            "total 20\n",
            "drwxr-xr-x 1 root root 4096 Jan  5 15:14 .\n",
            "drwxr-xr-x 1 root root 4096 Jan  5 15:05 ..\n",
            "drwxr-xr-x 3 root root 4096 Jan  5 15:14 anomaly-4G-detection\n",
            "drwxr-xr-x 1 root root 4096 Dec 21 17:29 .config\n",
            "drwxr-xr-x 1 root root 4096 Dec 21 17:29 sample_data\n"
          ],
          "name": "stdout"
        }
      ]
    },
    {
      "cell_type": "code",
      "metadata": {
        "id": "EiO_tVqEtbhr"
      },
      "source": [
        "train = pd.read_csv('anomaly-4G-detection/ML-MATT-CompetitionQT2021_train.csv', sep=';')\n",
        "test = pd.read_csv('anomaly-4G-detection/ML-MATT-CompetitionQT2021_test.xls', sep=';' )"
      ],
      "execution_count": 4,
      "outputs": []
    },
    {
      "cell_type": "code",
      "metadata": {
        "id": "1pQIAxp_wxGk"
      },
      "source": [
        "# Separate labels from data \n",
        "X = train.drop('Unusual', axis='columns')#.to_numpy()\n",
        "y = train['Unusual']#.to_numpy()\n",
        "\n",
        "# We split the data into training and validation subsets (80% and 20%) in\n",
        "# order to validate our training\n",
        "X_train, X_validation, y_train, y_validation = train_test_split(X, y, \n",
        "                                                                train_size=0.8,\n",
        "                                                                random_state=1, stratify = y)\n",
        "X_test = test"
      ],
      "execution_count": 5,
      "outputs": []
    },
    {
      "cell_type": "code",
      "metadata": {
        "id": "pkMgA0YsluhJ"
      },
      "source": [
        "#Refactor time feature to minuts and cellName to unique identifier 1:1\n",
        "def getTimeInMinutes(x):\n",
        "  hh, mm  = x.split(\":\")\n",
        "  return int(hh)* 60 + int(mm)\n",
        "\n",
        "def createCellNameDictionary(data):\n",
        "  cellList = []\n",
        "  for i in data[\"CellName\"]:\n",
        "    cellList.append(i)\n",
        "  cellList = set(cellList)\n",
        "  cellDict = {}\n",
        "  for idx, value in enumerate(cellList):\n",
        "    cellDict[value]=idx\n",
        "  return cellDict\n",
        "\n",
        "def refactorFeaturesDataframe(data):\n",
        "  data[\"Time\"] = data[\"Time\"].apply(lambda x: getTimeInMinutes(x))\n",
        "  cellNameDict = createCellNameDictionary(data);\n",
        "  data[\"CellName\"] = data[\"CellName\"].apply(lambda x: cellNameDict[x])\n",
        "  return data\n"
      ],
      "execution_count": 6,
      "outputs": []
    },
    {
      "cell_type": "code",
      "metadata": {
        "id": "vIoTgjuA0yak",
        "colab": {
          "base_uri": "https://localhost:8080/"
        },
        "outputId": "c8fc4c5b-22dc-42bd-8a0d-87c0111e4a81"
      },
      "source": [
        "#Refactoring data from features to useful values\n",
        "X_train = refactorFeaturesDataframe(X_train).to_numpy()\n",
        "y_train = y_train.to_numpy()\n",
        "\n",
        "X_validation = refactorFeaturesDataframe(X_validation).to_numpy()\n",
        "y_validation = y_validation.to_numpy()\n",
        "\n",
        "X_test = refactorFeaturesDataframe(test).to_numpy()"
      ],
      "execution_count": 7,
      "outputs": [
        {
          "output_type": "stream",
          "text": [
            "/usr/local/lib/python3.6/dist-packages/ipykernel_launcher.py:17: SettingWithCopyWarning: \n",
            "A value is trying to be set on a copy of a slice from a DataFrame.\n",
            "Try using .loc[row_indexer,col_indexer] = value instead\n",
            "\n",
            "See the caveats in the documentation: https://pandas.pydata.org/pandas-docs/stable/user_guide/indexing.html#returning-a-view-versus-a-copy\n",
            "/usr/local/lib/python3.6/dist-packages/ipykernel_launcher.py:19: SettingWithCopyWarning: \n",
            "A value is trying to be set on a copy of a slice from a DataFrame.\n",
            "Try using .loc[row_indexer,col_indexer] = value instead\n",
            "\n",
            "See the caveats in the documentation: https://pandas.pydata.org/pandas-docs/stable/user_guide/indexing.html#returning-a-view-versus-a-copy\n"
          ],
          "name": "stderr"
        }
      ]
    },
    {
      "cell_type": "markdown",
      "metadata": {
        "id": "Wn4TROMqCcUY"
      },
      "source": [
        "# Solving the Classification Problem"
      ]
    },
    {
      "cell_type": "code",
      "metadata": {
        "id": "JSk27jtY2xyB"
      },
      "source": [
        "clf = sklearn.tree.DecisionTreeClassifier(random_state=1)\n",
        "pipe = Pipeline(steps=[('std_slc', StandardScaler()),\n",
        "                           ('dec_tree', clf)])\n",
        "\n",
        "n_components = list(range(1,X_train.shape[1]+1,2))\n",
        "criterion = ['gini', 'entropy']\n",
        "max_depth = [None,2,8,12]\n",
        "min_samples_split = [2,4,8,10]\n",
        "min_samples_leaf = [1,2,5]\n",
        "\n",
        "parameters = dict(dec_tree__criterion=criterion,\n",
        "                      dec_tree__min_samples_split=min_samples_split,\n",
        "                      dec_tree__min_samples_leaf=min_samples_leaf,\n",
        "                      dec_tree__max_depth=max_depth)\n",
        "#clf_GS = GridSearchCV(pipe, parameters)\n",
        "#clf_GS.fit(X_train, y_train)\n",
        "\n",
        "#clf.fit(X_train, y_train)"
      ],
      "execution_count": 8,
      "outputs": []
    },
    {
      "cell_type": "code",
      "metadata": {
        "id": "N6s3bW7121UD"
      },
      "source": [
        "#pred_train = clf_GS.predict(X_train)\n",
        "#pred_val = clf_GS.predict(X_validation)"
      ],
      "execution_count": 9,
      "outputs": []
    },
    {
      "cell_type": "markdown",
      "metadata": {
        "id": "P31bEittujim"
      },
      "source": [
        "## Voting Classifier with GridSearch"
      ]
    },
    {
      "cell_type": "code",
      "metadata": {
        "id": "DHDdmOgCuo_P"
      },
      "source": [
        "from sklearn.ensemble import VotingClassifier\n",
        "from sklearn.ensemble import GradientBoostingClassifier\n",
        "from sklearn.ensemble import AdaBoostClassifier\n",
        "from sklearn.tree import DecisionTreeClassifier\n",
        "from sklearn.neighbors import KNeighborsClassifier\n",
        "from xgboost import XGBClassifier\n",
        "from joblib import dump, load\n",
        "from google.colab import files\n",
        "from scipy.stats import uniform, randint\n",
        "\n",
        "#if performVoting == 'y':\n",
        "  \n",
        "try:\n",
        "  clf_GS = load('anomaly-4G-detection/voting_model.joblib') \n",
        "  \n",
        "\n",
        "except:\n",
        "  voting_clf = VotingClassifier( estimators=[ \n",
        "      ('xgb', XGBClassifier(random_state=1)),\n",
        "      ('dt', DecisionTreeClassifier(random_state=1)),\n",
        "      ('knn', KNeighborsClassifier())\n",
        "      ], voting='soft')\n",
        "  \n",
        "  pipe = Pipeline(steps=[('std_slc', StandardScaler()),\n",
        "                              ('voting_clf', XGBClassifier(random_state=1))])\n",
        "  \n",
        "  parameters = {\n",
        "  #'voting_clf__dt__criterion'    : ['entropy', 'gini'],\n",
        "  #'voting_clf__dt__min_samples_leaf'    : randint(2, 30),\n",
        "  #'voting_clf__dt__min_samples_split'    : randint(2, 30),\n",
        "  #'voting_clf__dt__max_depth'    : randint(2, 30),\n",
        "  #'voting_clf__knn__n_neighbors'    : randint(5, 30),\n",
        "  #'voting_clf__knn__metric'    : ['euclidean', 'manhattan'],\n",
        "  #'voting_clf__knn__weights'    : ['uniform', 'distance'],\n",
        "  #'voting_clf__knn__p'    : randint(1, 5),\n",
        "  'voting_clf__eta'    : uniform(0.1, 0.3),\n",
        "  \"voting_clf__colsample_bytree\": uniform(0.0, 0.3),\n",
        "  \"voting_clf__min_child_weight\": randint(1, 5),\n",
        "  \"voting_clf__gamma\": uniform(0, 0.5),\n",
        "  \"voting_clf__learning_rate\": uniform(0.03, 0.3), # default 0.1 \n",
        "  \"voting_clf__max_depth\": randint(2, 20), # default 3\n",
        "  \"voting_clf__n_estimators\": randint(100, 1000), # default 100\n",
        "  \"voting_clf__subsample\": uniform(0.9, 0.4)\n",
        "  }\n",
        "\n",
        "  #clf_GS = GridSearchCV(estimator=pipe, param_grid=parameters, n_jobs=10, verbose=1, )\n",
        "  clf_GS = RandomizedSearchCV(estimator=pipe, param_distributions=parameters, n_jobs=10, verbose=1, cv=5, n_iter= 1000 )\n",
        "  clf_GS.fit(X_train,y_train)\n",
        "\n",
        "  #Save the model in a file and download locally.\n",
        "  dump(clf_GS, 'voting_model.joblib')\n",
        "  files.download('voting_model.joblib') "
      ],
      "execution_count": 10,
      "outputs": []
    },
    {
      "cell_type": "code",
      "metadata": {
        "id": "F6XZezYqNpOh"
      },
      "source": [
        "pred_train = clf_GS.predict(X_train)\n",
        "pred_val = clf_GS.predict(X_validation)"
      ],
      "execution_count": 11,
      "outputs": []
    },
    {
      "cell_type": "code",
      "metadata": {
        "id": "luMnqSly3KZq",
        "colab": {
          "base_uri": "https://localhost:8080/"
        },
        "outputId": "f310b361-8304-4c0a-b0eb-a4b085c4ddde"
      },
      "source": [
        "print(\"TRAINING\\n\" + classification_report(y_train, pred_train))\n",
        "print(\"\\nTESTING\\n\" + classification_report(y_validation, pred_val))"
      ],
      "execution_count": 12,
      "outputs": [
        {
          "output_type": "stream",
          "text": [
            "TRAINING\n",
            "              precision    recall  f1-score   support\n",
            "\n",
            "           0       1.00      1.00      1.00     21377\n",
            "           1       1.00      1.00      1.00      8146\n",
            "\n",
            "    accuracy                           1.00     29523\n",
            "   macro avg       1.00      1.00      1.00     29523\n",
            "weighted avg       1.00      1.00      1.00     29523\n",
            "\n",
            "\n",
            "TESTING\n",
            "              precision    recall  f1-score   support\n",
            "\n",
            "           0       0.99      1.00      1.00      5344\n",
            "           1       1.00      0.98      0.99      2037\n",
            "\n",
            "    accuracy                           0.99      7381\n",
            "   macro avg       1.00      0.99      0.99      7381\n",
            "weighted avg       0.99      0.99      0.99      7381\n",
            "\n"
          ],
          "name": "stdout"
        }
      ]
    },
    {
      "cell_type": "code",
      "metadata": {
        "id": "VJ3k3xOb3j2U",
        "colab": {
          "base_uri": "https://localhost:8080/"
        },
        "outputId": "e8b54f9c-044d-4e8e-eb51-80b664984f6d"
      },
      "source": [
        "train_error = 1. - accuracy_score(y_train, pred_train)\n",
        "train_cmat = confusion_matrix(y_train, pred_train)\n",
        "val_error = 1. - accuracy_score(y_validation, pred_val)\n",
        "val_cmat = confusion_matrix(y_validation, pred_val)\n",
        "\n",
        "print('train error: %f ' % train_error)\n",
        "print('train confusion matrix:')\n",
        "print(train_cmat)\n",
        "print('test error: %f ' % val_error)\n",
        "print('test confusion matrix:')\n",
        "print(val_cmat)"
      ],
      "execution_count": 13,
      "outputs": [
        {
          "output_type": "stream",
          "text": [
            "train error: 0.001118 \n",
            "train confusion matrix:\n",
            "[[21377     0]\n",
            " [   33  8113]]\n",
            "test error: 0.006774 \n",
            "test confusion matrix:\n",
            "[[5344    0]\n",
            " [  50 1987]]\n"
          ],
          "name": "stdout"
        }
      ]
    },
    {
      "cell_type": "markdown",
      "metadata": {
        "id": "L2fpveVd70PE"
      },
      "source": [
        "### Analyzing Missclassified Data"
      ]
    },
    {
      "cell_type": "code",
      "metadata": {
        "id": "h7DeacOA7gnn",
        "colab": {
          "base_uri": "https://localhost:8080/",
          "height": 455
        },
        "outputId": "152b5dec-a6e5-492f-9df8-cb3d2dd18036"
      },
      "source": [
        "from tabulate import tabulate\n",
        "X_miss= []\n",
        "y_miss = [] # Valor de las muestras mal clasificadas\n",
        "y_miss_global = [] # Índice de las muestras mal clasificadas\n",
        "for input, prediction, label in zip(X_validation, pred_val, y_validation):\n",
        "  if prediction != label:\n",
        "    X_miss.append(input.tolist())\n",
        "    y_miss.append(label)\n",
        "    #print(input, 'has been classified as ', prediction, 'and should be ', label, '\\n')\n",
        "    y_miss_global.append('miss')\n",
        "  else:\n",
        "    y_miss_global.append('hit')\n",
        "\n",
        "#table = tabulate(X_miss, headers=['Time','CellName','PRBUsageUL','PRBUsageDL','meanThr_DL','meanThr_UL','maxThr_DL','maxThr_UL','meanUE_DL','meanUE_UL','maxUE_DL','maxUE_UL','maxUE_UL+DL'], tablefmt=\"fancy_grid\")\n",
        "#print(table)\n",
        "\n",
        "miss_dataframe = pd.DataFrame(X_miss, columns=['Time','CellName','PRBUsageUL','PRBUsageDL','meanThr_DL','meanThr_UL','maxThr_DL','maxThr_UL','meanUE_DL','meanUE_UL','maxUE_DL','maxUE_UL','maxUE_UL+DL']) \n",
        "miss_dataframe.to_csv('missclassifications.csv', index=True)\n",
        "# miss_dataframe"
      ],
      "execution_count": 34,
      "outputs": [
        {
          "output_type": "execute_result",
          "data": {
            "text/html": [
              "<div>\n",
              "<style scoped>\n",
              "    .dataframe tbody tr th:only-of-type {\n",
              "        vertical-align: middle;\n",
              "    }\n",
              "\n",
              "    .dataframe tbody tr th {\n",
              "        vertical-align: top;\n",
              "    }\n",
              "\n",
              "    .dataframe thead th {\n",
              "        text-align: right;\n",
              "    }\n",
              "</style>\n",
              "<table border=\"1\" class=\"dataframe\">\n",
              "  <thead>\n",
              "    <tr style=\"text-align: right;\">\n",
              "      <th></th>\n",
              "      <th>Time</th>\n",
              "      <th>CellName</th>\n",
              "      <th>PRBUsageUL</th>\n",
              "      <th>PRBUsageDL</th>\n",
              "      <th>meanThr_DL</th>\n",
              "      <th>meanThr_UL</th>\n",
              "      <th>maxThr_DL</th>\n",
              "      <th>maxThr_UL</th>\n",
              "      <th>meanUE_DL</th>\n",
              "      <th>meanUE_UL</th>\n",
              "      <th>maxUE_DL</th>\n",
              "      <th>maxUE_UL</th>\n",
              "      <th>maxUE_UL+DL</th>\n",
              "    </tr>\n",
              "  </thead>\n",
              "  <tbody>\n",
              "    <tr>\n",
              "      <th>Time</th>\n",
              "      <td>1.000000</td>\n",
              "      <td>0.328989</td>\n",
              "      <td>0.252734</td>\n",
              "      <td>0.149326</td>\n",
              "      <td>0.018753</td>\n",
              "      <td>0.242251</td>\n",
              "      <td>-0.123580</td>\n",
              "      <td>0.263813</td>\n",
              "      <td>0.275717</td>\n",
              "      <td>0.119806</td>\n",
              "      <td>0.201090</td>\n",
              "      <td>0.192922</td>\n",
              "      <td>0.224860</td>\n",
              "    </tr>\n",
              "    <tr>\n",
              "      <th>CellName</th>\n",
              "      <td>0.328989</td>\n",
              "      <td>1.000000</td>\n",
              "      <td>0.520760</td>\n",
              "      <td>0.219099</td>\n",
              "      <td>0.427136</td>\n",
              "      <td>0.271000</td>\n",
              "      <td>0.184519</td>\n",
              "      <td>-0.058962</td>\n",
              "      <td>0.302229</td>\n",
              "      <td>0.555415</td>\n",
              "      <td>0.321879</td>\n",
              "      <td>0.529762</td>\n",
              "      <td>0.494077</td>\n",
              "    </tr>\n",
              "    <tr>\n",
              "      <th>PRBUsageUL</th>\n",
              "      <td>0.252734</td>\n",
              "      <td>0.520760</td>\n",
              "      <td>1.000000</td>\n",
              "      <td>0.055785</td>\n",
              "      <td>0.450568</td>\n",
              "      <td>0.367326</td>\n",
              "      <td>0.160366</td>\n",
              "      <td>0.097094</td>\n",
              "      <td>0.747299</td>\n",
              "      <td>0.902593</td>\n",
              "      <td>0.769376</td>\n",
              "      <td>0.713589</td>\n",
              "      <td>0.845425</td>\n",
              "    </tr>\n",
              "    <tr>\n",
              "      <th>PRBUsageDL</th>\n",
              "      <td>0.149326</td>\n",
              "      <td>0.219099</td>\n",
              "      <td>0.055785</td>\n",
              "      <td>1.000000</td>\n",
              "      <td>0.585264</td>\n",
              "      <td>0.099785</td>\n",
              "      <td>0.004988</td>\n",
              "      <td>0.106141</td>\n",
              "      <td>0.316445</td>\n",
              "      <td>0.107969</td>\n",
              "      <td>0.189282</td>\n",
              "      <td>0.240349</td>\n",
              "      <td>0.247329</td>\n",
              "    </tr>\n",
              "    <tr>\n",
              "      <th>meanThr_DL</th>\n",
              "      <td>0.018753</td>\n",
              "      <td>0.427136</td>\n",
              "      <td>0.450568</td>\n",
              "      <td>0.585264</td>\n",
              "      <td>1.000000</td>\n",
              "      <td>0.016725</td>\n",
              "      <td>0.275543</td>\n",
              "      <td>-0.029195</td>\n",
              "      <td>0.437094</td>\n",
              "      <td>0.520005</td>\n",
              "      <td>0.502540</td>\n",
              "      <td>0.484410</td>\n",
              "      <td>0.563329</td>\n",
              "    </tr>\n",
              "    <tr>\n",
              "      <th>meanThr_UL</th>\n",
              "      <td>0.242251</td>\n",
              "      <td>0.271000</td>\n",
              "      <td>0.367326</td>\n",
              "      <td>0.099785</td>\n",
              "      <td>0.016725</td>\n",
              "      <td>1.000000</td>\n",
              "      <td>-0.117756</td>\n",
              "      <td>0.631784</td>\n",
              "      <td>0.262419</td>\n",
              "      <td>0.202023</td>\n",
              "      <td>0.178378</td>\n",
              "      <td>0.223538</td>\n",
              "      <td>0.231281</td>\n",
              "    </tr>\n",
              "    <tr>\n",
              "      <th>maxThr_DL</th>\n",
              "      <td>-0.123580</td>\n",
              "      <td>0.184519</td>\n",
              "      <td>0.160366</td>\n",
              "      <td>0.004988</td>\n",
              "      <td>0.275543</td>\n",
              "      <td>-0.117756</td>\n",
              "      <td>1.000000</td>\n",
              "      <td>-0.079324</td>\n",
              "      <td>0.062823</td>\n",
              "      <td>0.242156</td>\n",
              "      <td>0.115600</td>\n",
              "      <td>0.142322</td>\n",
              "      <td>0.148339</td>\n",
              "    </tr>\n",
              "    <tr>\n",
              "      <th>maxThr_UL</th>\n",
              "      <td>0.263813</td>\n",
              "      <td>-0.058962</td>\n",
              "      <td>0.097094</td>\n",
              "      <td>0.106141</td>\n",
              "      <td>-0.029195</td>\n",
              "      <td>0.631784</td>\n",
              "      <td>-0.079324</td>\n",
              "      <td>1.000000</td>\n",
              "      <td>0.132639</td>\n",
              "      <td>0.048857</td>\n",
              "      <td>-0.004931</td>\n",
              "      <td>0.143821</td>\n",
              "      <td>0.084676</td>\n",
              "    </tr>\n",
              "    <tr>\n",
              "      <th>meanUE_DL</th>\n",
              "      <td>0.275717</td>\n",
              "      <td>0.302229</td>\n",
              "      <td>0.747299</td>\n",
              "      <td>0.316445</td>\n",
              "      <td>0.437094</td>\n",
              "      <td>0.262419</td>\n",
              "      <td>0.062823</td>\n",
              "      <td>0.132639</td>\n",
              "      <td>1.000000</td>\n",
              "      <td>0.679305</td>\n",
              "      <td>0.817480</td>\n",
              "      <td>0.654413</td>\n",
              "      <td>0.835269</td>\n",
              "    </tr>\n",
              "    <tr>\n",
              "      <th>meanUE_UL</th>\n",
              "      <td>0.119806</td>\n",
              "      <td>0.555415</td>\n",
              "      <td>0.902593</td>\n",
              "      <td>0.107969</td>\n",
              "      <td>0.520005</td>\n",
              "      <td>0.202023</td>\n",
              "      <td>0.242156</td>\n",
              "      <td>0.048857</td>\n",
              "      <td>0.679305</td>\n",
              "      <td>1.000000</td>\n",
              "      <td>0.687670</td>\n",
              "      <td>0.828953</td>\n",
              "      <td>0.871693</td>\n",
              "    </tr>\n",
              "    <tr>\n",
              "      <th>maxUE_DL</th>\n",
              "      <td>0.201090</td>\n",
              "      <td>0.321879</td>\n",
              "      <td>0.769376</td>\n",
              "      <td>0.189282</td>\n",
              "      <td>0.502540</td>\n",
              "      <td>0.178378</td>\n",
              "      <td>0.115600</td>\n",
              "      <td>-0.004931</td>\n",
              "      <td>0.817480</td>\n",
              "      <td>0.687670</td>\n",
              "      <td>1.000000</td>\n",
              "      <td>0.529385</td>\n",
              "      <td>0.857143</td>\n",
              "    </tr>\n",
              "    <tr>\n",
              "      <th>maxUE_UL</th>\n",
              "      <td>0.192922</td>\n",
              "      <td>0.529762</td>\n",
              "      <td>0.713589</td>\n",
              "      <td>0.240349</td>\n",
              "      <td>0.484410</td>\n",
              "      <td>0.223538</td>\n",
              "      <td>0.142322</td>\n",
              "      <td>0.143821</td>\n",
              "      <td>0.654413</td>\n",
              "      <td>0.828953</td>\n",
              "      <td>0.529385</td>\n",
              "      <td>1.000000</td>\n",
              "      <td>0.890742</td>\n",
              "    </tr>\n",
              "    <tr>\n",
              "      <th>maxUE_UL+DL</th>\n",
              "      <td>0.224860</td>\n",
              "      <td>0.494077</td>\n",
              "      <td>0.845425</td>\n",
              "      <td>0.247329</td>\n",
              "      <td>0.563329</td>\n",
              "      <td>0.231281</td>\n",
              "      <td>0.148339</td>\n",
              "      <td>0.084676</td>\n",
              "      <td>0.835269</td>\n",
              "      <td>0.871693</td>\n",
              "      <td>0.857143</td>\n",
              "      <td>0.890742</td>\n",
              "      <td>1.000000</td>\n",
              "    </tr>\n",
              "  </tbody>\n",
              "</table>\n",
              "</div>"
            ],
            "text/plain": [
              "                 Time  CellName  PRBUsageUL  ...  maxUE_DL  maxUE_UL  maxUE_UL+DL\n",
              "Time         1.000000  0.328989    0.252734  ...  0.201090  0.192922     0.224860\n",
              "CellName     0.328989  1.000000    0.520760  ...  0.321879  0.529762     0.494077\n",
              "PRBUsageUL   0.252734  0.520760    1.000000  ...  0.769376  0.713589     0.845425\n",
              "PRBUsageDL   0.149326  0.219099    0.055785  ...  0.189282  0.240349     0.247329\n",
              "meanThr_DL   0.018753  0.427136    0.450568  ...  0.502540  0.484410     0.563329\n",
              "meanThr_UL   0.242251  0.271000    0.367326  ...  0.178378  0.223538     0.231281\n",
              "maxThr_DL   -0.123580  0.184519    0.160366  ...  0.115600  0.142322     0.148339\n",
              "maxThr_UL    0.263813 -0.058962    0.097094  ... -0.004931  0.143821     0.084676\n",
              "meanUE_DL    0.275717  0.302229    0.747299  ...  0.817480  0.654413     0.835269\n",
              "meanUE_UL    0.119806  0.555415    0.902593  ...  0.687670  0.828953     0.871693\n",
              "maxUE_DL     0.201090  0.321879    0.769376  ...  1.000000  0.529385     0.857143\n",
              "maxUE_UL     0.192922  0.529762    0.713589  ...  0.529385  1.000000     0.890742\n",
              "maxUE_UL+DL  0.224860  0.494077    0.845425  ...  0.857143  0.890742     1.000000\n",
              "\n",
              "[13 rows x 13 columns]"
            ]
          },
          "metadata": {
            "tags": []
          },
          "execution_count": 34
        }
      ]
    },
    {
      "cell_type": "markdown",
      "metadata": {
        "id": "LtGjxpMxIDr0"
      },
      "source": [
        "##### Correlation Matrix"
      ]
    },
    {
      "cell_type": "code",
      "metadata": {
        "colab": {
          "base_uri": "https://localhost:8080/",
          "height": 334
        },
        "id": "-gIM7H74IGV9",
        "outputId": "95b1e544-f24c-4c74-8aa1-6cf70b6c56da"
      },
      "source": [
        "import seaborn as sn\n",
        "\n",
        "corrMatrix = miss_dataframe.corr()\n",
        "sn.heatmap(corrMatrix, annot=True)\n",
        "plt.show()"
      ],
      "execution_count": 50,
      "outputs": [
        {
          "output_type": "display_data",
          "data": {
            "image/png": "[encoded data removed]",
            "text/plain": [
              "<Figure size 432x288 with 2 Axes>"
            ]
          },
          "metadata": {
            "tags": [],
            "needs_background": "light"
          }
        }
      ]
    },
    {
      "cell_type": "markdown",
      "metadata": {
        "id": "zQgf5eoxIPgW"
      },
      "source": [
        "##### Plots"
      ]
    },
    {
      "cell_type": "markdown",
      "metadata": {
        "id": "5P_L1vBe9AJH"
      },
      "source": [
        "###### 3D Plot"
      ]
    },
    {
      "cell_type": "code",
      "metadata": {
        "id": "3cLxMbku8B5X"
      },
      "source": [
        "from mpl_toolkits.mplot3d import Axes3D\n",
        "import matplotlib.pyplot as plt\n",
        "from sklearn.decomposition import PCA"
      ],
      "execution_count": 35,
      "outputs": []
    },
    {
      "cell_type": "markdown",
      "metadata": {
        "id": "rVVbiqq69v5d"
      },
      "source": [
        "**All samples:**"
      ]
    },
    {
      "cell_type": "code",
      "metadata": {
        "id": "4tn2r3Yz9xm0"
      },
      "source": [
        "colors=['blue' if l=='hit' else 'red' for l in y_miss_global]"
      ],
      "execution_count": 36,
      "outputs": []
    },
    {
      "cell_type": "code",
      "metadata": {
        "id": "Xamn5jpz_VO3"
      },
      "source": [
        "pca = PCA(n_components=3)  # Reduce to k=3 dimensions\n",
        "scaler = StandardScaler()\n",
        "X_valdiation_norm = scaler.fit_transform(X_validation)\n",
        "X_validation_reduce = pca.fit_transform(X_valdiation_norm)"
      ],
      "execution_count": 37,
      "outputs": []
    },
    {
      "cell_type": "code",
      "metadata": {
        "id": "3hpylGX-_fb0",
        "colab": {
          "base_uri": "https://localhost:8080/",
          "height": 248
        },
        "outputId": "e1b64e73-1576-4719-9034-b6b60cad2c76"
      },
      "source": [
        "fig = plt.figure()\n",
        "ax = fig.add_subplot(111, projection='3d')\n",
        "ax.scatter(X_validation_reduce[:,0], X_validation_reduce[:, 1], X_validation_reduce[:, 2], s=4, alpha=1,color=colors)\n",
        "plt.show()"
      ],
      "execution_count": 38,
      "outputs": [
        {
          "output_type": "display_data",
          "data": {
            "image/png": "[encoded data removed]",
            "text/plain": [
              "<Figure size 432x288 with 1 Axes>"
            ]
          },
          "metadata": {
            "tags": [],
            "needs_background": "light"
          }
        }
      ]
    },
    {
      "cell_type": "markdown",
      "metadata": {
        "id": "Y9QgKDEI9nSV"
      },
      "source": [
        "**Only missclassified samples**"
      ]
    },
    {
      "cell_type": "code",
      "metadata": {
        "id": "FWp4-_P0_KL5"
      },
      "source": [
        "colors=['green' if l==0 else 'red' for l in y_miss]"
      ],
      "execution_count": 39,
      "outputs": []
    },
    {
      "cell_type": "code",
      "metadata": {
        "id": "FgbDKWPE7wnq"
      },
      "source": [
        "pca = PCA(n_components=3)\n",
        "scaler = StandardScaler()\n",
        "X_miss_norm = scaler.fit_transform(X_miss)\n",
        "X_miss_reduce = pca.fit_transform(X_miss_norm)"
      ],
      "execution_count": 40,
      "outputs": []
    },
    {
      "cell_type": "code",
      "metadata": {
        "id": "978qj_xi9EJj",
        "colab": {
          "base_uri": "https://localhost:8080/",
          "height": 248
        },
        "outputId": "2e8bd346-d4e8-42e5-8978-41397ca950da"
      },
      "source": [
        "fig = plt.figure()\n",
        "ax = fig.add_subplot(111, projection='3d')\n",
        "ax.scatter(X_miss_reduce[:,0], X_miss_reduce[:, 1], X_miss_reduce[:, 2], s=4, alpha=1,color=colors)\n",
        "plt.show()"
      ],
      "execution_count": 41,
      "outputs": [
        {
          "output_type": "display_data",
          "data": {
            "image/png": "[encoded data removed]",
            "text/plain": [
              "<Figure size 432x288 with 1 Axes>"
            ]
          },
          "metadata": {
            "tags": [],
            "needs_background": "light"
          }
        }
      ]
    },
    {
      "cell_type": "markdown",
      "metadata": {
        "id": "_mxghUVH9B9P"
      },
      "source": [
        "###### 2D Plot"
      ]
    },
    {
      "cell_type": "markdown",
      "metadata": {
        "id": "efuH9U4B90dH"
      },
      "source": [
        "**All samples**"
      ]
    },
    {
      "cell_type": "code",
      "metadata": {
        "id": "vPjMiQgD93Ju"
      },
      "source": [
        "colors=['blue' if l=='hit' else 'red' for l in y_miss_global]"
      ],
      "execution_count": 42,
      "outputs": []
    },
    {
      "cell_type": "code",
      "metadata": {
        "id": "Eji0fksM_00U"
      },
      "source": [
        "pca = PCA(n_components=2)  # Reduce to k=2 dimensions\n",
        "scaler = StandardScaler()\n",
        "X_valdiation_norm = scaler.fit_transform(X_validation)\n",
        "X_validation_reduce = pca.fit_transform(X_valdiation_norm)"
      ],
      "execution_count": 43,
      "outputs": []
    },
    {
      "cell_type": "code",
      "metadata": {
        "id": "yZnVyE1t_7NL",
        "colab": {
          "base_uri": "https://localhost:8080/",
          "height": 265
        },
        "outputId": "8de31f55-8c6b-4a47-f22e-0a9f72d2b3cb"
      },
      "source": [
        "fig, ax = plt.subplots()\n",
        "ax.scatter(X_validation_reduce[:,0], X_validation_reduce[:, 1], s=4,color=colors)\n",
        "plt.show()"
      ],
      "execution_count": 44,
      "outputs": [
        {
          "output_type": "display_data",
          "data": {
            "image/png": "[encoded data removed]",
            "text/plain": [
              "<Figure size 432x288 with 1 Axes>"
            ]
          },
          "metadata": {
            "tags": [],
            "needs_background": "light"
          }
        }
      ]
    },
    {
      "cell_type": "markdown",
      "metadata": {
        "id": "c6Z3Owrc9ssw"
      },
      "source": [
        "**Only missclassified samples:**"
      ]
    },
    {
      "cell_type": "code",
      "metadata": {
        "id": "tWW2J-fnCCcz"
      },
      "source": [
        "colors=['green' if l==0 else 'red' for l in y_miss]"
      ],
      "execution_count": 45,
      "outputs": []
    },
    {
      "cell_type": "code",
      "metadata": {
        "id": "TlQDdbAA9T98"
      },
      "source": [
        "pca = PCA(n_components=2)\n",
        "scaler = StandardScaler()\n",
        "X_miss_norm = scaler.fit_transform(X_miss)\n",
        "X_miss_reduce = pca.fit_transform(X_miss_norm)"
      ],
      "execution_count": 46,
      "outputs": []
    },
    {
      "cell_type": "code",
      "metadata": {
        "id": "pfInrpr49clI",
        "colab": {
          "base_uri": "https://localhost:8080/",
          "height": 265
        },
        "outputId": "0ccd897d-b845-4e4c-c529-8ba1e12d6df8"
      },
      "source": [
        "fig, ax = plt.subplots()\n",
        "ax.scatter(X_miss_reduce[:,0], X_miss_reduce[:, 1], s=4,color=colors)\n",
        "plt.show()"
      ],
      "execution_count": 47,
      "outputs": [
        {
          "output_type": "display_data",
          "data": {
            "image/png": "[encoded data removed]",
            "text/plain": [
              "<Figure size 432x288 with 1 Axes>"
            ]
          },
          "metadata": {
            "tags": [],
            "needs_background": "light"
          }
        }
      ]
    },
    {
      "cell_type": "markdown",
      "metadata": {
        "id": "uMVDRYGJBkgO"
      },
      "source": [
        "# Submission Formatting"
      ]
    },
    {
      "cell_type": "code",
      "metadata": {
        "id": "5naGrGwR75uH"
      },
      "source": [
        "pred_test = clf_GS.predict(X_test)"
      ],
      "execution_count": 28,
      "outputs": []
    },
    {
      "cell_type": "code",
      "metadata": {
        "id": "3H-d7HbGA1I2",
        "colab": {
          "base_uri": "https://localhost:8080/"
        },
        "outputId": "3bf6f22d-3702-4dc6-bc68-5373a31dd07b"
      },
      "source": [
        "%%shell\n",
        "# Create submission file if it does not exists\n",
        "file=predictions.csv\n",
        "if [ ! -e \"$file\" ] ; then\n",
        "    touch anomaly-4G-detection/\"$file\"\n",
        "fi"
      ],
      "execution_count": 29,
      "outputs": [
        {
          "output_type": "execute_result",
          "data": {
            "text/plain": [
              ""
            ]
          },
          "metadata": {
            "tags": []
          },
          "execution_count": 29
        }
      ]
    },
    {
      "cell_type": "code",
      "metadata": {
        "id": "U9CouZll67HG",
        "colab": {
          "base_uri": "https://localhost:8080/",
          "height": 0
        },
        "outputId": "e51ee19a-b5ea-45fd-ac5e-05bdb6e184dc"
      },
      "source": [
        "# Create index column in data frame object\n",
        "submission_dataframe = pd.DataFrame(np.arange(1, 9159), columns=['Id']) \n",
        "\n",
        "# Append predictions of test data as column\n",
        "submission_dataframe['Label'] = pred_test\n",
        "\n",
        "# Convert Data Frame object to CSV\n",
        "submission_dataframe.to_csv('predictions.csv', index=False)\n",
        "\n",
        "!mv predictions.csv anomaly-4G-detection/\n",
        "predictions = pd.read_csv('anomaly-4G-detection/predictions.csv')\n",
        "predictions"
      ],
      "execution_count": 30,
      "outputs": [
        {
          "output_type": "execute_result",
          "data": {
            "text/html": [
              "<div>\n",
              "<style scoped>\n",
              "    .dataframe tbody tr th:only-of-type {\n",
              "        vertical-align: middle;\n",
              "    }\n",
              "\n",
              "    .dataframe tbody tr th {\n",
              "        vertical-align: top;\n",
              "    }\n",
              "\n",
              "    .dataframe thead th {\n",
              "        text-align: right;\n",
              "    }\n",
              "</style>\n",
              "<table border=\"1\" class=\"dataframe\">\n",
              "  <thead>\n",
              "    <tr style=\"text-align: right;\">\n",
              "      <th></th>\n",
              "      <th>Id</th>\n",
              "      <th>Label</th>\n",
              "    </tr>\n",
              "  </thead>\n",
              "  <tbody>\n",
              "    <tr>\n",
              "      <th>0</th>\n",
              "      <td>1</td>\n",
              "      <td>1</td>\n",
              "    </tr>\n",
              "    <tr>\n",
              "      <th>1</th>\n",
              "      <td>2</td>\n",
              "      <td>0</td>\n",
              "    </tr>\n",
              "    <tr>\n",
              "      <th>2</th>\n",
              "      <td>3</td>\n",
              "      <td>0</td>\n",
              "    </tr>\n",
              "    <tr>\n",
              "      <th>3</th>\n",
              "      <td>4</td>\n",
              "      <td>0</td>\n",
              "    </tr>\n",
              "    <tr>\n",
              "      <th>4</th>\n",
              "      <td>5</td>\n",
              "      <td>1</td>\n",
              "    </tr>\n",
              "    <tr>\n",
              "      <th>...</th>\n",
              "      <td>...</td>\n",
              "      <td>...</td>\n",
              "    </tr>\n",
              "    <tr>\n",
              "      <th>9153</th>\n",
              "      <td>9154</td>\n",
              "      <td>0</td>\n",
              "    </tr>\n",
              "    <tr>\n",
              "      <th>9154</th>\n",
              "      <td>9155</td>\n",
              "      <td>1</td>\n",
              "    </tr>\n",
              "    <tr>\n",
              "      <th>9155</th>\n",
              "      <td>9156</td>\n",
              "      <td>0</td>\n",
              "    </tr>\n",
              "    <tr>\n",
              "      <th>9156</th>\n",
              "      <td>9157</td>\n",
              "      <td>0</td>\n",
              "    </tr>\n",
              "    <tr>\n",
              "      <th>9157</th>\n",
              "      <td>9158</td>\n",
              "      <td>0</td>\n",
              "    </tr>\n",
              "  </tbody>\n",
              "</table>\n",
              "<p>9158 rows × 2 columns</p>\n",
              "</div>"
            ],
            "text/plain": [
              "        Id  Label\n",
              "0        1      1\n",
              "1        2      0\n",
              "2        3      0\n",
              "3        4      0\n",
              "4        5      1\n",
              "...    ...    ...\n",
              "9153  9154      0\n",
              "9154  9155      1\n",
              "9155  9156      0\n",
              "9156  9157      0\n",
              "9157  9158      0\n",
              "\n",
              "[9158 rows x 2 columns]"
            ]
          },
          "metadata": {
            "tags": []
          },
          "execution_count": 30
        }
      ]
    },
    {
      "cell_type": "code",
      "metadata": {
        "id": "pWZoB4CM4Qbo"
      },
      "source": [
        "#!rm anomaly-4G-detection/predictions.csv"
      ],
      "execution_count": 31,
      "outputs": []
    },
    {
      "cell_type": "code",
      "metadata": {
        "id": "ASKJSoDN6Hhx",
        "colab": {
          "base_uri": "https://localhost:8080/"
        },
        "outputId": "2b39037c-c2f1-4a78-cfc0-c6e37718cec1"
      },
      "source": [
        "clf_GS.best_params_\n",
        "#print(clf_GS.grid_scores_)"
      ],
      "execution_count": 32,
      "outputs": [
        {
          "output_type": "execute_result",
          "data": {
            "text/plain": [
              "{'voting_clf__colsample_bytree': 0.08216376983211655,\n",
              " 'voting_clf__eta': 0.3035863100820831,\n",
              " 'voting_clf__gamma': 0.8025688925845532,\n",
              " 'voting_clf__learning_rate': 0.1350522573909821,\n",
              " 'voting_clf__max_depth': 22,\n",
              " 'voting_clf__min_child_weight': 1,\n",
              " 'voting_clf__n_estimators': 672,\n",
              " 'voting_clf__subsample': 0.9863216350553967}"
            ]
          },
          "metadata": {
            "tags": []
          },
          "execution_count": 32
        }
      ]
    }
  ]
}