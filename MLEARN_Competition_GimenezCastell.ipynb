{
  "nbformat": 4,
  "nbformat_minor": 0,
  "metadata": {
    "colab": {
      "name": "Copia de Copia de MLEARN_Competition_GimenezCastell.ipynb",
      "provenance": [],
      "collapsed_sections": [
        "TBKwWcFh0K9A",
        "Eu_WhVAg0sJs",
        "Tr4D2Fle0gvo",
        "uMVDRYGJBkgO"
      ]
    },
    "kernelspec": {
      "name": "python3",
      "display_name": "Python 3"
    },
    "accelerator": "TPU"
  },
  "cells": [
    {
      "cell_type": "markdown",
      "metadata": {
        "id": "QzW43GdlCXoF"
      },
      "source": [
        "# Load Datasets"
      ]
    },
    {
      "cell_type": "code",
      "metadata": {
        "id": "HdfF9Rz4nS1i"
      },
      "source": [
        "import numpy as np\n",
        "import pandas as pd\n",
        "import os\n",
        "import matplotlib.pyplot as plt\n",
        "\n",
        "import sklearn.tree\n",
        "import sklearn.ensemble\n",
        "\n",
        "from sklearn.model_selection import train_test_split\n",
        "from sklearn.metrics import classification_report, accuracy_score, confusion_matrix\n",
        "\n",
        "# SVM Classifier\n",
        "from sklearn.pipeline import Pipeline\n",
        "from sklearn.preprocessing import StandardScaler\n",
        "from sklearn.model_selection import train_test_split\n",
        "from sklearn.svm import SVC\n",
        "\n",
        "# GridSearchCV\n",
        "from sklearn.model_selection import GridSearchCV\n",
        "from sklearn.model_selection import ShuffleSplit"
      ],
      "execution_count": null,
      "outputs": []
    },
    {
      "cell_type": "code",
      "metadata": {
        "colab": {
          "base_uri": "https://localhost:8080/"
        },
        "id": "mvdFxXlkwPIz",
        "outputId": "feb2a538-73d6-4c86-af5d-3a596165cf5a"
      },
      "source": [
        "# Clone repository in order to get access locally to the datasets\n",
        "!git clone https://github.com/sergio-gimenez/anomaly-4G-detection"
      ],
      "execution_count": null,
      "outputs": [
        {
          "output_type": "stream",
          "text": [
            "fatal: destination path 'anomaly-4G-detection' already exists and is not an empty directory.\n"
          ],
          "name": "stdout"
        }
      ]
    },
    {
      "cell_type": "code",
      "metadata": {
        "id": "EiO_tVqEtbhr"
      },
      "source": [
        "train = pd.read_csv('anomaly-4G-detection/ML-MATT-CompetitionQT2021_train.csv', sep=';')\n",
        "test = pd.read_csv('anomaly-4G-detection/ML-MATT-CompetitionQT2021_test.xls', sep=';' )"
      ],
      "execution_count": null,
      "outputs": []
    },
    {
      "cell_type": "code",
      "metadata": {
        "id": "1pQIAxp_wxGk"
      },
      "source": [
        "# Separate labels from data \n",
        "X = train.drop('Unusual', axis='columns')#.to_numpy()\n",
        "y = train['Unusual']#.to_numpy()\n",
        "\n",
        "# We split the data into training and validation subsets (80% and 20%) in\n",
        "# order to validate our training\n",
        "X_train, X_validation, y_train, y_validation = train_test_split(X, y, \n",
        "                                                                train_size=0.8,\n",
        "                                                                random_state=1, stratify = y)\n",
        "X_test = test"
      ],
      "execution_count": null,
      "outputs": []
    },
    {
      "cell_type": "code",
      "metadata": {
        "id": "pkMgA0YsluhJ"
      },
      "source": [
        "#Refactor time feature to minuts and cellName to unique identifier 1:1\n",
        "def getTimeInMinutes(x):\n",
        "  hh, mm  = x.split(\":\")\n",
        "  return int(hh)* 60 + int(mm)\n",
        "\n",
        "def createCellNameDictionary(data):\n",
        "  cellList = []\n",
        "  for i in data[\"CellName\"]:\n",
        "    cellList.append(i)\n",
        "  cellList = set(cellList)\n",
        "  cellDict = {}\n",
        "  for idx, value in enumerate(cellList):\n",
        "    cellDict[value]=idx\n",
        "  return cellDict\n",
        "\n",
        "def refactorFeaturesDataframe(data):\n",
        "  data[\"Time\"] = data[\"Time\"].apply(lambda x: getTimeInMinutes(x))\n",
        "  cellNameDict = createCellNameDictionary(data);\n",
        "  data[\"CellName\"] = data[\"CellName\"].apply(lambda x: cellNameDict[x])\n",
        "  return data\n"
      ],
      "execution_count": null,
      "outputs": []
    },
    {
      "cell_type": "code",
      "metadata": {
        "id": "vIoTgjuA0yak",
        "colab": {
          "base_uri": "https://localhost:8080/"
        },
        "outputId": "ff71a96c-613d-4c14-9e4d-8a27ebbd84ba"
      },
      "source": [
        "#Refactoring data from features to useful values\n",
        "X_train = refactorFeaturesDataframe(X_train).to_numpy()\n",
        "y_train = y_train.to_numpy()\n",
        "\n",
        "X_validation = refactorFeaturesDataframe(X_validation).to_numpy()\n",
        "y_validation = y_validation.to_numpy()\n",
        "\n",
        "X_test = refactorFeaturesDataframe(test).to_numpy()"
      ],
      "execution_count": null,
      "outputs": [
        {
          "output_type": "stream",
          "text": [
            "/usr/local/lib/python3.6/dist-packages/ipykernel_launcher.py:17: SettingWithCopyWarning: \n",
            "A value is trying to be set on a copy of a slice from a DataFrame.\n",
            "Try using .loc[row_indexer,col_indexer] = value instead\n",
            "\n",
            "See the caveats in the documentation: https://pandas.pydata.org/pandas-docs/stable/user_guide/indexing.html#returning-a-view-versus-a-copy\n",
            "/usr/local/lib/python3.6/dist-packages/ipykernel_launcher.py:19: SettingWithCopyWarning: \n",
            "A value is trying to be set on a copy of a slice from a DataFrame.\n",
            "Try using .loc[row_indexer,col_indexer] = value instead\n",
            "\n",
            "See the caveats in the documentation: https://pandas.pydata.org/pandas-docs/stable/user_guide/indexing.html#returning-a-view-versus-a-copy\n"
          ],
          "name": "stderr"
        }
      ]
    },
    {
      "cell_type": "markdown",
      "metadata": {
        "id": "kPSrNtnWOoQd"
      },
      "source": [
        "# Using PCA and MDA\n"
      ]
    },
    {
      "cell_type": "code",
      "metadata": {
        "id": "t88BWtzpOlvk"
      },
      "source": [
        "from sklearn.decomposition import PCA\n",
        "# #for n_features in range(1, len(X_train.shape[-1])):\n",
        "\n",
        "# # TODO Do scalling here\n",
        "# pca = PCA(n_components=3)\n",
        "# pca.fit(X_train)\n",
        "# X_train = pca.transform(X_train)\n",
        "# X_validation  = pca.transform(X_validation)\n",
        "# X_test  = pca.transform(X_test)"
      ],
      "execution_count": null,
      "outputs": []
    },
    {
      "cell_type": "code",
      "metadata": {
        "id": "oLACVbocUhRy",
        "colab": {
          "base_uri": "https://localhost:8080/",
          "height": 248
        },
        "outputId": "b6d43af6-29a2-4de4-c8d1-ff9a2c5bc2e4"
      },
      "source": [
        "# from mpl_toolkits.mplot3d import Axes3D\n",
        "\n",
        "# pca = PCA(n_components=3)  # Reduce to k=3 dimensions\n",
        "# scaler = StandardScaler()\n",
        "# #normalize the metrics\n",
        "# X_norm = scaler.fit_transform(X_train)\n",
        "# X_reduce = pca.fit_transform(X_norm)\n",
        "\n",
        "# fig = plt.figure()\n",
        "# ax = fig.add_subplot(111, projection='3d')\n",
        "# ax.set_zlabel(\"x_composite_3\")# Plot the compressed data points\n",
        "# ax.scatter(X_reduce[:, 0], X_reduce[:, 1], zs=X_reduce[:, 2], s=4, lw=1, label=\"inliers\",c=\"green\")# Plot x's for the ground truth outliers\n",
        "\n",
        "\n",
        "# ax.scatter(X_reduce[outlier_index,0],X_reduce[outlier_index,1], X_reduce[outlier_index,2],\n",
        "#            lw=2, s=60, marker=\"x\", c=\"red\", label=\"outliers\")\n",
        "# ax.legend()\n",
        "# plt.show()"
      ],
      "execution_count": null,
      "outputs": [
        {
          "output_type": "display_data",
          "data": {
            "image/png": "[encoded data removed]",
            "text/plain": [
              "<Figure size 432x288 with 1 Axes>"
            ]
          },
          "metadata": {
            "tags": [],
            "needs_background": "light"
          }
        }
      ]
    },
    {
      "cell_type": "markdown",
      "metadata": {
        "id": "Wn4TROMqCcUY"
      },
      "source": [
        "# Solving the Classification Problem"
      ]
    },
    {
      "cell_type": "markdown",
      "metadata": {
        "id": "TBKwWcFh0K9A"
      },
      "source": [
        "## Decision Tree"
      ]
    },
    {
      "cell_type": "code",
      "metadata": {
        "id": "JSk27jtY2xyB"
      },
      "source": [
        "# clf = sklearn.tree.DecisionTreeClassifier(criterion='entropy', random_state=1)\n",
        "# clf.fit(X_train, y_train)"
      ],
      "execution_count": null,
      "outputs": []
    },
    {
      "cell_type": "code",
      "metadata": {
        "id": "N6s3bW7121UD"
      },
      "source": [
        "# pred_train = clf.predict(X_train)\n",
        "# pred_val = clf.predict(X_validation)"
      ],
      "execution_count": null,
      "outputs": []
    },
    {
      "cell_type": "code",
      "metadata": {
        "id": "luMnqSly3KZq"
      },
      "source": [
        "# print(\"TRAINING\\n\" + classification_report(y_train, pred_train))\n",
        "# print(\"\\nTESTING\\n\" + classification_report(y_validation, pred_val))"
      ],
      "execution_count": null,
      "outputs": []
    },
    {
      "cell_type": "code",
      "metadata": {
        "id": "VJ3k3xOb3j2U"
      },
      "source": [
        "# train_error = 1. - accuracy_score(y_train, pred_train)\n",
        "# train_cmat = confusion_matrix(y_train, pred_train)\n",
        "# val_error = 1. - accuracy_score(y_validation, pred_val)\n",
        "# val_cmat = confusion_matrix(y_validation, pred_val)\n",
        "\n",
        "# print('train error: %f ' % train_error)\n",
        "# print('train confusion matrix:')\n",
        "# print(train_cmat)\n",
        "# print('test error: %f ' % val_error)\n",
        "# print('test confusion matrix:')\n",
        "# print(val_cmat)"
      ],
      "execution_count": null,
      "outputs": []
    },
    {
      "cell_type": "markdown",
      "metadata": {
        "id": "Eu_WhVAg0sJs"
      },
      "source": [
        "## Non-linear SVM Classifier"
      ]
    },
    {
      "cell_type": "code",
      "metadata": {
        "id": "RDA0spWc0vow"
      },
      "source": [
        "svm_clf = SVC(kernel=\"rbf\")\n",
        "\n",
        "svm_model = Pipeline([\n",
        "    ('center', StandardScaler()),\n",
        "    ('clf', svm_clf)\n",
        "])"
      ],
      "execution_count": null,
      "outputs": []
    },
    {
      "cell_type": "code",
      "metadata": {
        "id": "vz9IoVTk0xQH"
      },
      "source": [
        "#svm_model.fit(X_train, y_train)\n",
        "# svm_clf.fit(X_train, y_train)"
      ],
      "execution_count": null,
      "outputs": []
    },
    {
      "cell_type": "code",
      "metadata": {
        "id": "QnmB-l_C127x"
      },
      "source": [
        "# svm_model_pred_train = svm_model.predict(X_train)\n",
        "# svm_model_pred_val = svm_model.predict(X_validation)\n",
        "\n",
        "# print(\"TRAINING\\n\" + classification_report(y_train, svm_model_pred_train))\n",
        "# print(\"\\nTESTING\\n\" + classification_report(y_validation, svm_model_pred_val))"
      ],
      "execution_count": null,
      "outputs": []
    },
    {
      "cell_type": "code",
      "metadata": {
        "id": "MlZeKW5O163J"
      },
      "source": [
        "# svm_train_error = 1. - accuracy_score(y_train, svm_model_pred_train)\n",
        "# svm_train_cmat = confusion_matrix(y_train, svm_model_pred_train)\n",
        "# svm_val_error = 1. - accuracy_score(y_validation, svm_model_pred_val)\n",
        "# svm_val_cmat = confusion_matrix(y_validation, svm_model_pred_val)\n",
        "\n",
        "# print('train error: %f ' % svm_train_error)\n",
        "# print('train confusion matrix:')\n",
        "# print(svm_train_cmat)\n",
        "# print('test error: %f ' % svm_val_error)\n",
        "# print('test confusion matrix:')\n",
        "# print(svm_val_cmat)"
      ],
      "execution_count": null,
      "outputs": []
    },
    {
      "cell_type": "markdown",
      "metadata": {
        "id": "dzUCgUR44KFY"
      },
      "source": [
        "## Non-linear SVM hyper-parameter search\n"
      ]
    },
    {
      "cell_type": "code",
      "metadata": {
        "id": "tW9Wt6ju4ghq"
      },
      "source": [
        "Cs = [1, 5, 10, 100]\n",
        "gammas = [0.001, 0.01, 0.1, 1]"
      ],
      "execution_count": null,
      "outputs": []
    },
    {
      "cell_type": "code",
      "metadata": {
        "id": "Y6rRPYGJ4QC3"
      },
      "source": [
        "grid_search = GridSearchCV(svm_model,\n",
        "                           param_grid={\"clf__C\": Cs, \"clf__gamma\": gammas},\n",
        "                           cv=ShuffleSplit(n_splits=1, train_size=0.75),\n",
        "                           return_train_score=True)\n",
        "grid_search.fit(X_train, y_train)"
      ],
      "execution_count": null,
      "outputs": []
    },
    {
      "cell_type": "code",
      "metadata": {
        "id": "RWy_3ctC4c1c"
      },
      "source": [
        "# Calling predict makes predictions using the best set of hyper-parameters\n",
        "pred_train = grid_search.predict(X_train)\n",
        "pred_val = grid_search.predict(X_validation)\n",
        "\n",
        "# print classification report \n",
        "print(\"CLASSIFICATION REPORT:\\n----------------------\")\n",
        "print(\"TRAINING\\n\" + classification_report(y_train, pred_train))\n",
        "print(\"\\nTESTING\\n\" + classification_report(y_validation, pred_val))\n",
        "\n",
        "# print error and confusion matrices\n",
        "print(\"\\nERROR & CONF. MATRIX:\\n---------------------\")\n",
        "train_error = 1. - accuracy_score(y_train, pred_train)\n",
        "train_cmat = confusion_matrix(y_train, pred_train)\n",
        "test_error = 1. - accuracy_score(y_validation, pred_val)\n",
        "test_cmat = confusion_matrix(y_validation, pred_val)\n",
        "\n",
        "print('train error: %f ' % train_error)\n",
        "print('train confusion matrix:')\n",
        "print(train_cmat)\n",
        "\n",
        "print('\\ntest error: %f ' % test_error)\n",
        "print('test confusion matrix:')\n",
        "print(test_cmat)"
      ],
      "execution_count": null,
      "outputs": []
    },
    {
      "cell_type": "code",
      "metadata": {
        "id": "GjYPPl2x4nLf"
      },
      "source": [
        "clf = grid_search"
      ],
      "execution_count": null,
      "outputs": []
    },
    {
      "cell_type": "markdown",
      "metadata": {
        "id": "Tr4D2Fle0gvo"
      },
      "source": [
        "## Test Prediction"
      ]
    },
    {
      "cell_type": "code",
      "metadata": {
        "id": "9Tbj-UBH5Piz"
      },
      "source": [
        "pred_test = clf.predict(X_test)"
      ],
      "execution_count": null,
      "outputs": []
    },
    {
      "cell_type": "markdown",
      "metadata": {
        "id": "uMVDRYGJBkgO"
      },
      "source": [
        "# Submission Formatting"
      ]
    },
    {
      "cell_type": "code",
      "metadata": {
        "id": "3H-d7HbGA1I2"
      },
      "source": [
        "%%shell\n",
        "# Create submission file if it does not exists\n",
        "file=predictions.csv\n",
        "if [ ! -e \"$file\" ] ; then\n",
        "    touch anomaly-4G-detection/\"$file\"\n",
        "fi"
      ],
      "execution_count": null,
      "outputs": []
    },
    {
      "cell_type": "code",
      "metadata": {
        "id": "U9CouZll67HG"
      },
      "source": [
        "# Create index column in data frame object\n",
        "submission_dataframe = pd.DataFrame(np.arange(1, 9159), columns=['Id']) \n",
        "\n",
        "# Append predictions of test data as column\n",
        "submission_dataframe['Label'] = pred_test\n",
        "\n",
        "# Convert Data Frame object to CSV\n",
        "submission_dataframe.to_csv('predictions.csv', index=False)\n",
        "\n",
        "!mv predictions.csv anomaly-4G-detection/\n",
        "predictions = pd.read_csv('anomaly-4G-detection/predictions.csv')\n",
        "predictions"
      ],
      "execution_count": null,
      "outputs": []
    },
    {
      "cell_type": "code",
      "metadata": {
        "id": "pWZoB4CM4Qbo"
      },
      "source": [
        "#!rm anomaly-4G-detection/predictions.csv"
      ],
      "execution_count": null,
      "outputs": []
    }
  ]
}