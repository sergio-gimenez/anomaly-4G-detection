{
  "nbformat": 4,
  "nbformat_minor": 0,
  "metadata": {
    "colab": {
      "name": "MLEARN_Competition_GimenezCastell.ipynb",
      "provenance": [],
      "collapsed_sections": []
    },
    "kernelspec": {
      "name": "python3",
      "display_name": "Python 3"
    }
  },
  "cells": [
    {
      "cell_type": "code",
      "metadata": {
        "colab": {
          "base_uri": "https://localhost:8080/"
        },
        "id": "mvdFxXlkwPIz",
        "outputId": "af1e91de-30d2-49b4-951c-364382294092"
      },
      "source": [
        "!git clone https://github.com/sergio-gimenez/anomaly-4G-detection"
      ],
      "execution_count": 50,
      "outputs": [
        {
          "output_type": "stream",
          "text": [
            "fatal: destination path 'anomaly-4G-detection' already exists and is not an empty directory.\n"
          ],
          "name": "stdout"
        }
      ]
    },
    {
      "cell_type": "code",
      "metadata": {
        "id": "HdfF9Rz4nS1i"
      },
      "source": [
        "import matplotlib.pyplot as plt\n",
        "import seaborn as sns\n",
        "import numpy as np\n",
        "import pandas as pd\n",
        "import os\n",
        "\n",
        "\n",
        "import sklearn.tree\n",
        "import sklearn.ensemble\n",
        "\n",
        "from sklearn.model_selection import train_test_split\n",
        "from sklearn.metrics import classification_report, accuracy_score, confusion_matrix"
      ],
      "execution_count": 51,
      "outputs": []
    },
    {
      "cell_type": "code",
      "metadata": {
        "id": "EiO_tVqEtbhr"
      },
      "source": [
        "train = pd.read_csv('anomaly-4G-detection/ML-MATT-CompetitionQT2021_train.csv', sep=';')\n",
        "test = pd.read_csv('anomaly-4G-detection/ML-MATT-CompetitionQT2021_test.xls', sep=';' )"
      ],
      "execution_count": 52,
      "outputs": []
    },
    {
      "cell_type": "code",
      "metadata": {
        "colab": {
          "base_uri": "https://localhost:8080/",
          "height": 218
        },
        "id": "9QwRg0DavErc",
        "outputId": "416b45fb-6eec-442a-a840-53bd8611a6fd"
      },
      "source": [
        "train.head(5)"
      ],
      "execution_count": 53,
      "outputs": [
        {
          "output_type": "execute_result",
          "data": {
            "text/html": [
              "<div>\n",
              "<style scoped>\n",
              "    .dataframe tbody tr th:only-of-type {\n",
              "        vertical-align: middle;\n",
              "    }\n",
              "\n",
              "    .dataframe tbody tr th {\n",
              "        vertical-align: top;\n",
              "    }\n",
              "\n",
              "    .dataframe thead th {\n",
              "        text-align: right;\n",
              "    }\n",
              "</style>\n",
              "<table border=\"1\" class=\"dataframe\">\n",
              "  <thead>\n",
              "    <tr style=\"text-align: right;\">\n",
              "      <th></th>\n",
              "      <th>Time</th>\n",
              "      <th>CellName</th>\n",
              "      <th>PRBUsageUL</th>\n",
              "      <th>PRBUsageDL</th>\n",
              "      <th>meanThr_DL</th>\n",
              "      <th>meanThr_UL</th>\n",
              "      <th>maxThr_DL</th>\n",
              "      <th>maxThr_UL</th>\n",
              "      <th>meanUE_DL</th>\n",
              "      <th>meanUE_UL</th>\n",
              "      <th>maxUE_DL</th>\n",
              "      <th>maxUE_UL</th>\n",
              "      <th>maxUE_UL+DL</th>\n",
              "      <th>Unusual</th>\n",
              "    </tr>\n",
              "  </thead>\n",
              "  <tbody>\n",
              "    <tr>\n",
              "      <th>0</th>\n",
              "      <td>10:45</td>\n",
              "      <td>3BLTE</td>\n",
              "      <td>12.3848</td>\n",
              "      <td>1.4019</td>\n",
              "      <td>0.3927</td>\n",
              "      <td>0.0438</td>\n",
              "      <td>16.6522</td>\n",
              "      <td>0.6806</td>\n",
              "      <td>1.1293</td>\n",
              "      <td>1.0491</td>\n",
              "      <td>5</td>\n",
              "      <td>3</td>\n",
              "      <td>8</td>\n",
              "      <td>1</td>\n",
              "    </tr>\n",
              "    <tr>\n",
              "      <th>1</th>\n",
              "      <td>9:45</td>\n",
              "      <td>1BLTE</td>\n",
              "      <td>22.0438</td>\n",
              "      <td>2.0016</td>\n",
              "      <td>0.5620</td>\n",
              "      <td>0.2697</td>\n",
              "      <td>10.3994</td>\n",
              "      <td>1.1771</td>\n",
              "      <td>1.4480</td>\n",
              "      <td>1.1630</td>\n",
              "      <td>6</td>\n",
              "      <td>5</td>\n",
              "      <td>11</td>\n",
              "      <td>1</td>\n",
              "    </tr>\n",
              "    <tr>\n",
              "      <th>2</th>\n",
              "      <td>7:45</td>\n",
              "      <td>9BLTE</td>\n",
              "      <td>0.5105</td>\n",
              "      <td>0.4258</td>\n",
              "      <td>0.0152</td>\n",
              "      <td>0.0106</td>\n",
              "      <td>0.2755</td>\n",
              "      <td>0.1685</td>\n",
              "      <td>1.0379</td>\n",
              "      <td>1.0535</td>\n",
              "      <td>1</td>\n",
              "      <td>2</td>\n",
              "      <td>3</td>\n",
              "      <td>1</td>\n",
              "    </tr>\n",
              "    <tr>\n",
              "      <th>3</th>\n",
              "      <td>2:45</td>\n",
              "      <td>4ALTE</td>\n",
              "      <td>1.9963</td>\n",
              "      <td>1.1513</td>\n",
              "      <td>0.9908</td>\n",
              "      <td>0.0245</td>\n",
              "      <td>64.7465</td>\n",
              "      <td>0.8747</td>\n",
              "      <td>1.0766</td>\n",
              "      <td>1.0526</td>\n",
              "      <td>3</td>\n",
              "      <td>2</td>\n",
              "      <td>5</td>\n",
              "      <td>1</td>\n",
              "    </tr>\n",
              "    <tr>\n",
              "      <th>4</th>\n",
              "      <td>3:30</td>\n",
              "      <td>10BLTE</td>\n",
              "      <td>0.3030</td>\n",
              "      <td>0.4040</td>\n",
              "      <td>0.0160</td>\n",
              "      <td>0.0130</td>\n",
              "      <td>0.3480</td>\n",
              "      <td>0.1680</td>\n",
              "      <td>1.0110</td>\n",
              "      <td>1.0110</td>\n",
              "      <td>2</td>\n",
              "      <td>1</td>\n",
              "      <td>3</td>\n",
              "      <td>0</td>\n",
              "    </tr>\n",
              "  </tbody>\n",
              "</table>\n",
              "</div>"
            ],
            "text/plain": [
              "    Time CellName  PRBUsageUL  ...  maxUE_UL  maxUE_UL+DL  Unusual\n",
              "0  10:45    3BLTE     12.3848  ...         3            8        1\n",
              "1   9:45    1BLTE     22.0438  ...         5           11        1\n",
              "2   7:45    9BLTE      0.5105  ...         2            3        1\n",
              "3   2:45    4ALTE      1.9963  ...         2            5        1\n",
              "4   3:30   10BLTE      0.3030  ...         1            3        0\n",
              "\n",
              "[5 rows x 14 columns]"
            ]
          },
          "metadata": {
            "tags": []
          },
          "execution_count": 53
        }
      ]
    },
    {
      "cell_type": "code",
      "metadata": {
        "id": "OdPPYNKp5bQk"
      },
      "source": [
        ""
      ],
      "execution_count": null,
      "outputs": []
    },
    {
      "cell_type": "code",
      "metadata": {
        "colab": {
          "base_uri": "https://localhost:8080/",
          "height": 198
        },
        "id": "314tKDgvv-k2",
        "outputId": "d838919c-0bd4-46fa-825e-e39c5ad725de"
      },
      "source": [
        "test.head(5)"
      ],
      "execution_count": 54,
      "outputs": [
        {
          "output_type": "execute_result",
          "data": {
            "text/html": [
              "<div>\n",
              "<style scoped>\n",
              "    .dataframe tbody tr th:only-of-type {\n",
              "        vertical-align: middle;\n",
              "    }\n",
              "\n",
              "    .dataframe tbody tr th {\n",
              "        vertical-align: top;\n",
              "    }\n",
              "\n",
              "    .dataframe thead th {\n",
              "        text-align: right;\n",
              "    }\n",
              "</style>\n",
              "<table border=\"1\" class=\"dataframe\">\n",
              "  <thead>\n",
              "    <tr style=\"text-align: right;\">\n",
              "      <th></th>\n",
              "      <th>Time</th>\n",
              "      <th>CellName</th>\n",
              "      <th>PRBUsageUL</th>\n",
              "      <th>PRBUsageDL</th>\n",
              "      <th>meanThr_DL</th>\n",
              "      <th>meanThr_UL</th>\n",
              "      <th>maxThr_DL</th>\n",
              "      <th>maxThr_UL</th>\n",
              "      <th>meanUE_DL</th>\n",
              "      <th>meanUE_UL</th>\n",
              "      <th>maxUE_DL</th>\n",
              "      <th>maxUE_UL</th>\n",
              "      <th>maxUE_UL+DL</th>\n",
              "    </tr>\n",
              "  </thead>\n",
              "  <tbody>\n",
              "    <tr>\n",
              "      <th>0</th>\n",
              "      <td>3:00</td>\n",
              "      <td>6ALTE</td>\n",
              "      <td>3.8177</td>\n",
              "      <td>1.5251</td>\n",
              "      <td>0.5829</td>\n",
              "      <td>0.0445</td>\n",
              "      <td>23.1688</td>\n",
              "      <td>0.7669</td>\n",
              "      <td>1.0262</td>\n",
              "      <td>0.0100</td>\n",
              "      <td>3</td>\n",
              "      <td>3</td>\n",
              "      <td>6</td>\n",
              "    </tr>\n",
              "    <tr>\n",
              "      <th>1</th>\n",
              "      <td>20:30</td>\n",
              "      <td>6ULTE</td>\n",
              "      <td>2.0210</td>\n",
              "      <td>3.3350</td>\n",
              "      <td>0.5690</td>\n",
              "      <td>0.0750</td>\n",
              "      <td>29.2650</td>\n",
              "      <td>1.0490</td>\n",
              "      <td>1.3140</td>\n",
              "      <td>0.0100</td>\n",
              "      <td>6</td>\n",
              "      <td>3</td>\n",
              "      <td>9</td>\n",
              "    </tr>\n",
              "    <tr>\n",
              "      <th>2</th>\n",
              "      <td>11:30</td>\n",
              "      <td>2ALTE</td>\n",
              "      <td>0.5050</td>\n",
              "      <td>0.4040</td>\n",
              "      <td>0.0140</td>\n",
              "      <td>0.0100</td>\n",
              "      <td>0.2270</td>\n",
              "      <td>0.0970</td>\n",
              "      <td>1.0110</td>\n",
              "      <td>0.0100</td>\n",
              "      <td>2</td>\n",
              "      <td>1</td>\n",
              "      <td>3</td>\n",
              "    </tr>\n",
              "    <tr>\n",
              "      <th>3</th>\n",
              "      <td>6:45</td>\n",
              "      <td>3CLTE</td>\n",
              "      <td>1.0110</td>\n",
              "      <td>0.5050</td>\n",
              "      <td>0.2380</td>\n",
              "      <td>0.0210</td>\n",
              "      <td>20.9620</td>\n",
              "      <td>0.6090</td>\n",
              "      <td>1.0110</td>\n",
              "      <td>1.0110</td>\n",
              "      <td>2</td>\n",
              "      <td>1</td>\n",
              "      <td>3</td>\n",
              "    </tr>\n",
              "    <tr>\n",
              "      <th>4</th>\n",
              "      <td>15:45</td>\n",
              "      <td>6CLTE</td>\n",
              "      <td>4.0269</td>\n",
              "      <td>0.5104</td>\n",
              "      <td>0.0807</td>\n",
              "      <td>0.0414</td>\n",
              "      <td>3.9317</td>\n",
              "      <td>1.7811</td>\n",
              "      <td>1.0575</td>\n",
              "      <td>0.0107</td>\n",
              "      <td>3</td>\n",
              "      <td>2</td>\n",
              "      <td>5</td>\n",
              "    </tr>\n",
              "  </tbody>\n",
              "</table>\n",
              "</div>"
            ],
            "text/plain": [
              "    Time CellName  PRBUsageUL  ...  maxUE_DL  maxUE_UL  maxUE_UL+DL\n",
              "0   3:00    6ALTE      3.8177  ...         3         3            6\n",
              "1  20:30    6ULTE      2.0210  ...         6         3            9\n",
              "2  11:30    2ALTE      0.5050  ...         2         1            3\n",
              "3   6:45    3CLTE      1.0110  ...         2         1            3\n",
              "4  15:45    6CLTE      4.0269  ...         3         2            5\n",
              "\n",
              "[5 rows x 13 columns]"
            ]
          },
          "metadata": {
            "tags": []
          },
          "execution_count": 54
        }
      ]
    },
    {
      "cell_type": "code",
      "metadata": {
        "id": "1pQIAxp_wxGk",
        "colab": {
          "base_uri": "https://localhost:8080/",
          "height": 427
        },
        "outputId": "e6a6253f-f0e6-4943-d83d-88b1780da6e1"
      },
      "source": [
        "X = train.drop('Unusual', axis='columns')#.to_numpy()\n",
        "y = train['Unusual']#.to_numpy()\n",
        "X_train, X_validation, y_train, y_validation = train_test_split(X, y, train_size=0.8, random_state=1)\n",
        "X_test = test\n",
        "\n",
        "\n",
        "X"
      ],
      "execution_count": 55,
      "outputs": [
        {
          "output_type": "execute_result",
          "data": {
            "text/html": [
              "<div>\n",
              "<style scoped>\n",
              "    .dataframe tbody tr th:only-of-type {\n",
              "        vertical-align: middle;\n",
              "    }\n",
              "\n",
              "    .dataframe tbody tr th {\n",
              "        vertical-align: top;\n",
              "    }\n",
              "\n",
              "    .dataframe thead th {\n",
              "        text-align: right;\n",
              "    }\n",
              "</style>\n",
              "<table border=\"1\" class=\"dataframe\">\n",
              "  <thead>\n",
              "    <tr style=\"text-align: right;\">\n",
              "      <th></th>\n",
              "      <th>Time</th>\n",
              "      <th>CellName</th>\n",
              "      <th>PRBUsageUL</th>\n",
              "      <th>PRBUsageDL</th>\n",
              "      <th>meanThr_DL</th>\n",
              "      <th>meanThr_UL</th>\n",
              "      <th>maxThr_DL</th>\n",
              "      <th>maxThr_UL</th>\n",
              "      <th>meanUE_DL</th>\n",
              "      <th>meanUE_UL</th>\n",
              "      <th>maxUE_DL</th>\n",
              "      <th>maxUE_UL</th>\n",
              "      <th>maxUE_UL+DL</th>\n",
              "    </tr>\n",
              "  </thead>\n",
              "  <tbody>\n",
              "    <tr>\n",
              "      <th>0</th>\n",
              "      <td>10:45</td>\n",
              "      <td>3BLTE</td>\n",
              "      <td>12.3848</td>\n",
              "      <td>1.4019</td>\n",
              "      <td>0.3927</td>\n",
              "      <td>0.0438</td>\n",
              "      <td>16.6522</td>\n",
              "      <td>0.6806</td>\n",
              "      <td>1.1293</td>\n",
              "      <td>1.0491</td>\n",
              "      <td>5</td>\n",
              "      <td>3</td>\n",
              "      <td>8</td>\n",
              "    </tr>\n",
              "    <tr>\n",
              "      <th>1</th>\n",
              "      <td>9:45</td>\n",
              "      <td>1BLTE</td>\n",
              "      <td>22.0438</td>\n",
              "      <td>2.0016</td>\n",
              "      <td>0.5620</td>\n",
              "      <td>0.2697</td>\n",
              "      <td>10.3994</td>\n",
              "      <td>1.1771</td>\n",
              "      <td>1.4480</td>\n",
              "      <td>1.1630</td>\n",
              "      <td>6</td>\n",
              "      <td>5</td>\n",
              "      <td>11</td>\n",
              "    </tr>\n",
              "    <tr>\n",
              "      <th>2</th>\n",
              "      <td>7:45</td>\n",
              "      <td>9BLTE</td>\n",
              "      <td>0.5105</td>\n",
              "      <td>0.4258</td>\n",
              "      <td>0.0152</td>\n",
              "      <td>0.0106</td>\n",
              "      <td>0.2755</td>\n",
              "      <td>0.1685</td>\n",
              "      <td>1.0379</td>\n",
              "      <td>1.0535</td>\n",
              "      <td>1</td>\n",
              "      <td>2</td>\n",
              "      <td>3</td>\n",
              "    </tr>\n",
              "    <tr>\n",
              "      <th>3</th>\n",
              "      <td>2:45</td>\n",
              "      <td>4ALTE</td>\n",
              "      <td>1.9963</td>\n",
              "      <td>1.1513</td>\n",
              "      <td>0.9908</td>\n",
              "      <td>0.0245</td>\n",
              "      <td>64.7465</td>\n",
              "      <td>0.8747</td>\n",
              "      <td>1.0766</td>\n",
              "      <td>1.0526</td>\n",
              "      <td>3</td>\n",
              "      <td>2</td>\n",
              "      <td>5</td>\n",
              "    </tr>\n",
              "    <tr>\n",
              "      <th>4</th>\n",
              "      <td>3:30</td>\n",
              "      <td>10BLTE</td>\n",
              "      <td>0.3030</td>\n",
              "      <td>0.4040</td>\n",
              "      <td>0.0160</td>\n",
              "      <td>0.0130</td>\n",
              "      <td>0.3480</td>\n",
              "      <td>0.1680</td>\n",
              "      <td>1.0110</td>\n",
              "      <td>1.0110</td>\n",
              "      <td>2</td>\n",
              "      <td>1</td>\n",
              "      <td>3</td>\n",
              "    </tr>\n",
              "    <tr>\n",
              "      <th>...</th>\n",
              "      <td>...</td>\n",
              "      <td>...</td>\n",
              "      <td>...</td>\n",
              "      <td>...</td>\n",
              "      <td>...</td>\n",
              "      <td>...</td>\n",
              "      <td>...</td>\n",
              "      <td>...</td>\n",
              "      <td>...</td>\n",
              "      <td>...</td>\n",
              "      <td>...</td>\n",
              "      <td>...</td>\n",
              "      <td>...</td>\n",
              "    </tr>\n",
              "    <tr>\n",
              "      <th>36899</th>\n",
              "      <td>21:30</td>\n",
              "      <td>6ALTE</td>\n",
              "      <td>7.5790</td>\n",
              "      <td>0.8080</td>\n",
              "      <td>0.1640</td>\n",
              "      <td>0.0370</td>\n",
              "      <td>7.9800</td>\n",
              "      <td>0.3750</td>\n",
              "      <td>1.1010</td>\n",
              "      <td>0.0100</td>\n",
              "      <td>4</td>\n",
              "      <td>3</td>\n",
              "      <td>7</td>\n",
              "    </tr>\n",
              "    <tr>\n",
              "      <th>36900</th>\n",
              "      <td>9:45</td>\n",
              "      <td>8CLTE</td>\n",
              "      <td>9.0950</td>\n",
              "      <td>1.2130</td>\n",
              "      <td>0.1890</td>\n",
              "      <td>0.0300</td>\n",
              "      <td>19.5100</td>\n",
              "      <td>1.5830</td>\n",
              "      <td>1.1220</td>\n",
              "      <td>1.0310</td>\n",
              "      <td>4</td>\n",
              "      <td>2</td>\n",
              "      <td>6</td>\n",
              "    </tr>\n",
              "    <tr>\n",
              "      <th>36901</th>\n",
              "      <td>13:30</td>\n",
              "      <td>9BLTE</td>\n",
              "      <td>4.5128</td>\n",
              "      <td>0.9309</td>\n",
              "      <td>0.3475</td>\n",
              "      <td>0.0311</td>\n",
              "      <td>12.6148</td>\n",
              "      <td>0.5500</td>\n",
              "      <td>1.1407</td>\n",
              "      <td>1.0220</td>\n",
              "      <td>4</td>\n",
              "      <td>4</td>\n",
              "      <td>8</td>\n",
              "    </tr>\n",
              "    <tr>\n",
              "      <th>36902</th>\n",
              "      <td>12:30</td>\n",
              "      <td>3CLTE</td>\n",
              "      <td>13.3390</td>\n",
              "      <td>2.7280</td>\n",
              "      <td>0.5590</td>\n",
              "      <td>0.0650</td>\n",
              "      <td>28.1870</td>\n",
              "      <td>0.8940</td>\n",
              "      <td>1.2230</td>\n",
              "      <td>1.0610</td>\n",
              "      <td>5</td>\n",
              "      <td>4</td>\n",
              "      <td>9</td>\n",
              "    </tr>\n",
              "    <tr>\n",
              "      <th>36903</th>\n",
              "      <td>15:45</td>\n",
              "      <td>5BLTE</td>\n",
              "      <td>22.2310</td>\n",
              "      <td>2.6270</td>\n",
              "      <td>0.8140</td>\n",
              "      <td>0.0760</td>\n",
              "      <td>80.8040</td>\n",
              "      <td>0.8520</td>\n",
              "      <td>1.3240</td>\n",
              "      <td>1.1420</td>\n",
              "      <td>6</td>\n",
              "      <td>4</td>\n",
              "      <td>10</td>\n",
              "    </tr>\n",
              "  </tbody>\n",
              "</table>\n",
              "<p>36904 rows × 13 columns</p>\n",
              "</div>"
            ],
            "text/plain": [
              "        Time CellName  PRBUsageUL  ...  maxUE_DL  maxUE_UL  maxUE_UL+DL\n",
              "0      10:45    3BLTE     12.3848  ...         5         3            8\n",
              "1       9:45    1BLTE     22.0438  ...         6         5           11\n",
              "2       7:45    9BLTE      0.5105  ...         1         2            3\n",
              "3       2:45    4ALTE      1.9963  ...         3         2            5\n",
              "4       3:30   10BLTE      0.3030  ...         2         1            3\n",
              "...      ...      ...         ...  ...       ...       ...          ...\n",
              "36899  21:30    6ALTE      7.5790  ...         4         3            7\n",
              "36900   9:45    8CLTE      9.0950  ...         4         2            6\n",
              "36901  13:30    9BLTE      4.5128  ...         4         4            8\n",
              "36902  12:30    3CLTE     13.3390  ...         5         4            9\n",
              "36903  15:45    5BLTE     22.2310  ...         6         4           10\n",
              "\n",
              "[36904 rows x 13 columns]"
            ]
          },
          "metadata": {
            "tags": []
          },
          "execution_count": 55
        }
      ]
    },
    {
      "cell_type": "code",
      "metadata": {
        "colab": {
          "base_uri": "https://localhost:8080/"
        },
        "id": "S_3ItOW42hi-",
        "outputId": "060dd2ad-556e-43f1-d1be-f97322833ec3"
      },
      "source": [
        "y"
      ],
      "execution_count": 56,
      "outputs": [
        {
          "output_type": "execute_result",
          "data": {
            "text/plain": [
              "0        1\n",
              "1        1\n",
              "2        1\n",
              "3        1\n",
              "4        0\n",
              "        ..\n",
              "36899    0\n",
              "36900    0\n",
              "36901    1\n",
              "36902    0\n",
              "36903    0\n",
              "Name: Unusual, Length: 36904, dtype: int64"
            ]
          },
          "metadata": {
            "tags": []
          },
          "execution_count": 56
        }
      ]
    },
    {
      "cell_type": "code",
      "metadata": {
        "id": "vIoTgjuA0yak"
      },
      "source": [
        "X_train = X_train.iloc[:,3:13].to_numpy()\n",
        "y_train = y_train.to_numpy()\n",
        "\n",
        "X_validation = X_validation.iloc[:,3:13].to_numpy()\n",
        "y_validation = y_validation.to_numpy()"
      ],
      "execution_count": 58,
      "outputs": []
    },
    {
      "cell_type": "code",
      "metadata": {
        "colab": {
          "base_uri": "https://localhost:8080/"
        },
        "id": "JSk27jtY2xyB",
        "outputId": "2afb29f2-a4bf-4d26-e290-1fa342e17785"
      },
      "source": [
        "clf = sklearn.tree.DecisionTreeClassifier(criterion='entropy', random_state=1)\n",
        "clf.fit(X_train, y_train)"
      ],
      "execution_count": 59,
      "outputs": [
        {
          "output_type": "execute_result",
          "data": {
            "text/plain": [
              "DecisionTreeClassifier(ccp_alpha=0.0, class_weight=None, criterion='entropy',\n",
              "                       max_depth=None, max_features=None, max_leaf_nodes=None,\n",
              "                       min_impurity_decrease=0.0, min_impurity_split=None,\n",
              "                       min_samples_leaf=1, min_samples_split=2,\n",
              "                       min_weight_fraction_leaf=0.0, presort='deprecated',\n",
              "                       random_state=1, splitter='best')"
            ]
          },
          "metadata": {
            "tags": []
          },
          "execution_count": 59
        }
      ]
    },
    {
      "cell_type": "code",
      "metadata": {
        "id": "N6s3bW7121UD"
      },
      "source": [
        "pred_train = clf.predict(X_train)\n",
        "pred_val = clf.predict(X_validation)"
      ],
      "execution_count": 63,
      "outputs": []
    },
    {
      "cell_type": "code",
      "metadata": {
        "colab": {
          "base_uri": "https://localhost:8080/"
        },
        "id": "luMnqSly3KZq",
        "outputId": "9d114b96-ce99-4645-f432-954b811cc8e8"
      },
      "source": [
        "print(\"TRAINING\\n\" + classification_report(y_train, pred_train))\n",
        "print(\"\\nTESTING\\n\" + classification_report(y_validation, pred_val))"
      ],
      "execution_count": 64,
      "outputs": [
        {
          "output_type": "stream",
          "text": [
            "TRAINING\n",
            "              precision    recall  f1-score   support\n",
            "\n",
            "           0       1.00      1.00      1.00     21378\n",
            "           1       1.00      1.00      1.00      8145\n",
            "\n",
            "    accuracy                           1.00     29523\n",
            "   macro avg       1.00      1.00      1.00     29523\n",
            "weighted avg       1.00      1.00      1.00     29523\n",
            "\n",
            "\n",
            "TESTING\n",
            "              precision    recall  f1-score   support\n",
            "\n",
            "           0       0.98      0.99      0.98      5343\n",
            "           1       0.96      0.95      0.96      2038\n",
            "\n",
            "    accuracy                           0.98      7381\n",
            "   macro avg       0.97      0.97      0.97      7381\n",
            "weighted avg       0.98      0.98      0.98      7381\n",
            "\n"
          ],
          "name": "stdout"
        }
      ]
    },
    {
      "cell_type": "code",
      "metadata": {
        "colab": {
          "base_uri": "https://localhost:8080/"
        },
        "id": "VJ3k3xOb3j2U",
        "outputId": "b8f5a43d-ff45-47f0-dc5b-1f2193580c50"
      },
      "source": [
        "train_error = 1. - accuracy_score(y_train, pred_train)\n",
        "train_cmat = confusion_matrix(y_train, pred_train)\n",
        "val_error = 1. - accuracy_score(y_validation, pred_val)\n",
        "val_cmat = confusion_matrix(y_validation, pred_val)\n",
        "\n",
        "print('train error: %f ' % train_error)\n",
        "print('train confusion matrix:')\n",
        "print(train_cmat)\n",
        "print('test error: %f ' % val_error)\n",
        "print('test confusion matrix:')\n",
        "print(val_cmat)"
      ],
      "execution_count": 68,
      "outputs": [
        {
          "output_type": "stream",
          "text": [
            "train error: 0.000000 \n",
            "train confusion matrix:\n",
            "[[21378     0]\n",
            " [    0  8145]]\n",
            "test error: 0.023980 \n",
            "test confusion matrix:\n",
            "[[5264   79]\n",
            " [  98 1940]]\n"
          ],
          "name": "stdout"
        }
      ]
    },
    {
      "cell_type": "code",
      "metadata": {
        "id": "9Tbj-UBH5Piz"
      },
      "source": [
        "# Submission formatting\n",
        "# ..."
      ],
      "execution_count": null,
      "outputs": []
    }
  ]
}