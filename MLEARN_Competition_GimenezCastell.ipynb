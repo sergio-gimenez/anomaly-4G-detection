{
  "nbformat": 4,
  "nbformat_minor": 0,
  "metadata": {
    "colab": {
      "name": "MLEARN_Competition_GimenezCastell.ipynb",
      "provenance": [],
      "collapsed_sections": []
    },
    "kernelspec": {
      "name": "python3",
      "display_name": "Python 3"
    },
    "accelerator": "TPU"
  },
  "cells": [
    {
      "cell_type": "markdown",
      "metadata": {
        "id": "QzW43GdlCXoF"
      },
      "source": [
        "# Load Datasets"
      ]
    },
    {
      "cell_type": "code",
      "metadata": {
        "id": "HdfF9Rz4nS1i"
      },
      "source": [
        "import numpy as np\n",
        "import pandas as pd\n",
        "import os\n",
        "\n",
        "# Decision tree classifier\n",
        "import sklearn.tree\n",
        "import sklearn.ensemble\n",
        "\n",
        "# SVM Classifier\n",
        "from sklearn.pipeline import Pipeline\n",
        "from sklearn.preprocessing import StandardScaler\n",
        "from sklearn.model_selection import train_test_split\n",
        "from sklearn.svm import SVC\n",
        "\n",
        "# MLP Classifier\n",
        "import sklearn.neural_network\n",
        "\n",
        "# Voting Classifier\n",
        "from sklearn.ensemble import VotingClassifier\n",
        "\n",
        "# Reporting tools\n",
        "from sklearn.model_selection import train_test_split\n",
        "from sklearn.metrics import classification_report, accuracy_score, confusion_matrix"
      ],
      "execution_count": 15,
      "outputs": []
    },
    {
      "cell_type": "code",
      "metadata": {
        "colab": {
          "base_uri": "https://localhost:8080/"
        },
        "id": "mvdFxXlkwPIz",
        "outputId": "f8d04fb0-73ab-494f-9714-8322566d357d"
      },
      "source": [
        "# Clone repository in order to get access locally to the datasets\n",
        "!git clone https://github.com/sergio-gimenez/anomaly-4G-detection"
      ],
      "execution_count": 2,
      "outputs": [
        {
          "output_type": "stream",
          "text": [
            "fatal: destination path 'anomaly-4G-detection' already exists and is not an empty directory.\n"
          ],
          "name": "stdout"
        }
      ]
    },
    {
      "cell_type": "code",
      "metadata": {
        "id": "EiO_tVqEtbhr"
      },
      "source": [
        "train = pd.read_csv('anomaly-4G-detection/ML-MATT-CompetitionQT2021_train.csv', sep=';')\n",
        "test = pd.read_csv('anomaly-4G-detection/ML-MATT-CompetitionQT2021_test.xls', sep=';' )"
      ],
      "execution_count": 3,
      "outputs": []
    },
    {
      "cell_type": "code",
      "metadata": {
        "id": "1pQIAxp_wxGk"
      },
      "source": [
        "# Separate labels from data \n",
        "X = train.drop('Unusual', axis='columns')#.to_numpy()\n",
        "y = train['Unusual']#.to_numpy()\n",
        "\n",
        "# We split the data into training and validation subsets (80% and 20%) in\n",
        "# order to validate our training\n",
        "X_train, X_validation, y_train, y_validation = train_test_split(X, y, \n",
        "                                                                train_size=0.8,\n",
        "                                                                random_state=1)\n",
        "X_test = test"
      ],
      "execution_count": 4,
      "outputs": []
    },
    {
      "cell_type": "code",
      "metadata": {
        "id": "vIoTgjuA0yak"
      },
      "source": [
        "# Using only features that are actually numbers\n",
        "\n",
        "X_train = X_train.iloc[:,2:13].to_numpy()\n",
        "y_train = y_train.to_numpy()\n",
        "\n",
        "X_validation = X_validation.iloc[:,2:13].to_numpy()\n",
        "y_validation = y_validation.to_numpy()\n",
        "\n",
        "X_test = test.iloc[:,2:13].to_numpy()\n",
        "\n",
        "X = X.iloc[:,2:13].to_numpy()\n",
        "y = y.to_numpy()"
      ],
      "execution_count": 5,
      "outputs": []
    },
    {
      "cell_type": "markdown",
      "metadata": {
        "id": "Wn4TROMqCcUY"
      },
      "source": [
        "# Solving the Classification Problem"
      ]
    },
    {
      "cell_type": "code",
      "metadata": {
        "id": "GIuwI3emQ5KH"
      },
      "source": [
        "# List containing the classifiers for the voting system\n",
        "classifiers = []"
      ],
      "execution_count": 6,
      "outputs": []
    },
    {
      "cell_type": "markdown",
      "metadata": {
        "id": "Hg4xSSOOKx75"
      },
      "source": [
        "## Decission Tree Classifier"
      ]
    },
    {
      "cell_type": "code",
      "metadata": {
        "colab": {
          "base_uri": "https://localhost:8080/"
        },
        "id": "JSk27jtY2xyB",
        "outputId": "6409a293-53e4-4b1c-e635-6f80ff24e6ce"
      },
      "source": [
        "tree_clf = sklearn.tree.DecisionTreeClassifier(criterion='entropy', random_state=1)\n",
        "classifiers.append(tree_clf)\n",
        "\n",
        "tree_clf.fit(X_train, y_train)"
      ],
      "execution_count": 7,
      "outputs": [
        {
          "output_type": "execute_result",
          "data": {
            "text/plain": [
              "DecisionTreeClassifier(ccp_alpha=0.0, class_weight=None, criterion='entropy',\n",
              "                       max_depth=None, max_features=None, max_leaf_nodes=None,\n",
              "                       min_impurity_decrease=0.0, min_impurity_split=None,\n",
              "                       min_samples_leaf=1, min_samples_split=2,\n",
              "                       min_weight_fraction_leaf=0.0, presort='deprecated',\n",
              "                       random_state=1, splitter='best')"
            ]
          },
          "metadata": {
            "tags": []
          },
          "execution_count": 7
        }
      ]
    },
    {
      "cell_type": "code",
      "metadata": {
        "id": "N6s3bW7121UD"
      },
      "source": [
        "pred_tree_train = tree_clf.predict(X_train)\n",
        "pred_tree_val = tree_clf.predict(X_validation)"
      ],
      "execution_count": 8,
      "outputs": []
    },
    {
      "cell_type": "code",
      "metadata": {
        "colab": {
          "base_uri": "https://localhost:8080/"
        },
        "id": "luMnqSly3KZq",
        "outputId": "5b8a1d9d-c3d0-4387-8134-e53b0744c517"
      },
      "source": [
        "print(\"TRAINING\\n\" + classification_report(y_train, pred_tree_train))\n",
        "print(\"\\nTESTING\\n\" + classification_report(y_validation, pred_tree_val))"
      ],
      "execution_count": 9,
      "outputs": [
        {
          "output_type": "stream",
          "text": [
            "TRAINING\n",
            "              precision    recall  f1-score   support\n",
            "\n",
            "           0       1.00      1.00      1.00     21378\n",
            "           1       1.00      1.00      1.00      8145\n",
            "\n",
            "    accuracy                           1.00     29523\n",
            "   macro avg       1.00      1.00      1.00     29523\n",
            "weighted avg       1.00      1.00      1.00     29523\n",
            "\n",
            "\n",
            "TESTING\n",
            "              precision    recall  f1-score   support\n",
            "\n",
            "           0       0.98      0.98      0.98      5343\n",
            "           1       0.95      0.94      0.94      2038\n",
            "\n",
            "    accuracy                           0.97      7381\n",
            "   macro avg       0.96      0.96      0.96      7381\n",
            "weighted avg       0.97      0.97      0.97      7381\n",
            "\n"
          ],
          "name": "stdout"
        }
      ]
    },
    {
      "cell_type": "code",
      "metadata": {
        "colab": {
          "base_uri": "https://localhost:8080/"
        },
        "id": "VJ3k3xOb3j2U",
        "outputId": "37c9e5f9-4e29-41a2-8543-6b853913aabc"
      },
      "source": [
        "tree_train_error = 1. - accuracy_score(y_train, pred_tree_train)\n",
        "tree_train_cmat = confusion_matrix(y_train, pred_tree_train)\n",
        "tree_val_error = 1. - accuracy_score(y_validation, pred_tree_val)\n",
        "tree_val_cmat = confusion_matrix(y_validation, pred_tree_val)\n",
        "\n",
        "print('train error: %f ' % tree_train_error)\n",
        "print('train confusion matrix:')\n",
        "print(tree_train_cmat)\n",
        "print('test error: %f ' % tree_val_error)\n",
        "print('test confusion matrix:')\n",
        "print(tree_val_cmat)"
      ],
      "execution_count": 25,
      "outputs": [
        {
          "output_type": "stream",
          "text": [
            "train error: 0.000000 \n",
            "train confusion matrix:\n",
            "[[21378     0]\n",
            " [    0  8145]]\n",
            "test error: 0.030890 \n",
            "test confusion matrix:\n",
            "[[5242  101]\n",
            " [ 127 1911]]\n"
          ],
          "name": "stdout"
        }
      ]
    },
    {
      "cell_type": "markdown",
      "metadata": {
        "id": "G9R--MaGUJE-"
      },
      "source": [
        "## Non-linear SVM Classifier"
      ]
    },
    {
      "cell_type": "code",
      "metadata": {
        "colab": {
          "base_uri": "https://localhost:8080/"
        },
        "id": "UbSVTCH9UODc",
        "outputId": "e746e84e-a159-40eb-bc72-821572c0ba02"
      },
      "source": [
        "svm_clf = SVC(0.1, kernel=\"rbf\", gamma=1)\n",
        "classifiers.append(svm_clf)\n",
        "\n",
        "# svm_model = Pipeline([\n",
        "#     ('center', StandardScaler()),\n",
        "#     ('clf', svm_clf)\n",
        "# ])\n",
        "\n",
        "# svm_model.fit(X_train, y_train)\n",
        "svm_clf.fit(X_train, y_train)"
      ],
      "execution_count": 11,
      "outputs": [
        {
          "output_type": "execute_result",
          "data": {
            "text/plain": [
              "SVC(C=0.1, break_ties=False, cache_size=200, class_weight=None, coef0=0.0,\n",
              "    decision_function_shape='ovr', degree=3, gamma=1, kernel='rbf', max_iter=-1,\n",
              "    probability=False, random_state=None, shrinking=True, tol=0.001,\n",
              "    verbose=False)"
            ]
          },
          "metadata": {
            "tags": []
          },
          "execution_count": 11
        }
      ]
    },
    {
      "cell_type": "code",
      "metadata": {
        "colab": {
          "base_uri": "https://localhost:8080/"
        },
        "id": "g1b8hP_WVopq",
        "outputId": "f01629aa-c9ea-48ad-d4df-dc608885e693"
      },
      "source": [
        "# svm_model_pred_train = svm_model.predict(X_train)\n",
        "# svm_model_pred_val = svm_model.predict(X_validation)\n",
        "\n",
        "# print(\"TRAINING\\n\" + classification_report(y_train, svm_model_pred_train))\n",
        "# print(\"\\nTESTING\\n\" + classification_report(y_validation, svm_model_pred_val))"
      ],
      "execution_count": 12,
      "outputs": [
        {
          "output_type": "stream",
          "text": [
            "TRAINING\n",
            "              precision    recall  f1-score   support\n",
            "\n",
            "           0       0.72      1.00      0.84     21378\n",
            "           1       0.00      0.00      0.00      8145\n",
            "\n",
            "    accuracy                           0.72     29523\n",
            "   macro avg       0.36      0.50      0.42     29523\n",
            "weighted avg       0.52      0.72      0.61     29523\n",
            "\n",
            "\n",
            "TESTING\n",
            "              precision    recall  f1-score   support\n",
            "\n",
            "           0       0.72      1.00      0.84      5343\n",
            "           1       0.00      0.00      0.00      2038\n",
            "\n",
            "    accuracy                           0.72      7381\n",
            "   macro avg       0.36      0.50      0.42      7381\n",
            "weighted avg       0.52      0.72      0.61      7381\n",
            "\n"
          ],
          "name": "stdout"
        },
        {
          "output_type": "stream",
          "text": [
            "/usr/local/lib/python3.6/dist-packages/sklearn/metrics/_classification.py:1272: UndefinedMetricWarning: Precision and F-score are ill-defined and being set to 0.0 in labels with no predicted samples. Use `zero_division` parameter to control this behavior.\n",
            "  _warn_prf(average, modifier, msg_start, len(result))\n"
          ],
          "name": "stderr"
        }
      ]
    },
    {
      "cell_type": "code",
      "metadata": {
        "colab": {
          "base_uri": "https://localhost:8080/"
        },
        "id": "oNjIaufXWrZK",
        "outputId": "0814df7c-500f-4df4-94ce-c78abea4fe74"
      },
      "source": [
        "svm_clf_pred_train = svm_clf.predict(X_train)\n",
        "svm_clf_pred_val = svm_clf.predict(X_validation)\n",
        "\n",
        "print(\"TRAINING\\n\" + classification_report(y_train, svm_clf_pred_train))\n",
        "print(\"\\nTESTING\\n\" + classification_report(y_validation, svm_clf_pred_val))"
      ],
      "execution_count": 13,
      "outputs": [
        {
          "output_type": "stream",
          "text": [
            "TRAINING\n",
            "              precision    recall  f1-score   support\n",
            "\n",
            "           0       0.74      0.99      0.85     21378\n",
            "           1       0.83      0.07      0.13      8145\n",
            "\n",
            "    accuracy                           0.74     29523\n",
            "   macro avg       0.79      0.53      0.49     29523\n",
            "weighted avg       0.76      0.74      0.65     29523\n",
            "\n",
            "\n",
            "TESTING\n",
            "              precision    recall  f1-score   support\n",
            "\n",
            "           0       0.74      0.99      0.85      5343\n",
            "           1       0.79      0.07      0.12      2038\n",
            "\n",
            "    accuracy                           0.74      7381\n",
            "   macro avg       0.76      0.53      0.48      7381\n",
            "weighted avg       0.75      0.74      0.65      7381\n",
            "\n"
          ],
          "name": "stdout"
        }
      ]
    },
    {
      "cell_type": "code",
      "metadata": {
        "colab": {
          "base_uri": "https://localhost:8080/"
        },
        "id": "jZHKeTVEmEMq",
        "outputId": "260edcea-fc29-42ae-ffff-cd3e5acea107"
      },
      "source": [
        "svm_train_error = 1. - accuracy_score(y_train, svm_clf_pred_train)\n",
        "svm_train_cmat = confusion_matrix(y_train, svm_clf_pred_train)\n",
        "svm_val_error = 1. - accuracy_score(y_validation, svm_clf_pred_val)\n",
        "svm_val_cmat = confusion_matrix(y_validation, svm_clf_pred_val)\n",
        "\n",
        "print('train error: %f ' % svm_train_error)\n",
        "print('train confusion matrix:')\n",
        "print(svm_train_cmat)\n",
        "print('test error: %f ' % svm_val_error)\n",
        "print('test confusion matrix:')\n",
        "print(svm_val_cmat)"
      ],
      "execution_count": 27,
      "outputs": [
        {
          "output_type": "stream",
          "text": [
            "train error: 0.260272 \n",
            "train confusion matrix:\n",
            "[[21264   114]\n",
            " [ 7570   575]]\n",
            "test error: 0.262702 \n",
            "test confusion matrix:\n",
            "[[5308   35]\n",
            " [1904  134]]\n"
          ],
          "name": "stdout"
        }
      ]
    },
    {
      "cell_type": "markdown",
      "metadata": {
        "id": "2ufn2556a93j"
      },
      "source": [
        "## MLP Classifier"
      ]
    },
    {
      "cell_type": "code",
      "metadata": {
        "colab": {
          "base_uri": "https://localhost:8080/"
        },
        "id": "hKqrLh1zbEb5",
        "outputId": "3f6ad2ca-21f2-4681-af97-199cb9667e94"
      },
      "source": [
        "mlp_clf = sklearn.neural_network.MLPClassifier(hidden_layer_sizes=(20,),solver='sgd',momentum=0)\n",
        "classifiers.append(mlp_clf)\n",
        "mlp_clf.fit(X_train, y_train)"
      ],
      "execution_count": 17,
      "outputs": [
        {
          "output_type": "stream",
          "text": [
            "/usr/local/lib/python3.6/dist-packages/sklearn/neural_network/_multilayer_perceptron.py:571: ConvergenceWarning: Stochastic Optimizer: Maximum iterations (200) reached and the optimization hasn't converged yet.\n",
            "  % self.max_iter, ConvergenceWarning)\n"
          ],
          "name": "stderr"
        },
        {
          "output_type": "execute_result",
          "data": {
            "text/plain": [
              "MLPClassifier(activation='relu', alpha=0.0001, batch_size='auto', beta_1=0.9,\n",
              "              beta_2=0.999, early_stopping=False, epsilon=1e-08,\n",
              "              hidden_layer_sizes=(20,), learning_rate='constant',\n",
              "              learning_rate_init=0.001, max_fun=15000, max_iter=200, momentum=0,\n",
              "              n_iter_no_change=10, nesterovs_momentum=True, power_t=0.5,\n",
              "              random_state=None, shuffle=True, solver='sgd', tol=0.0001,\n",
              "              validation_fraction=0.1, verbose=False, warm_start=False)"
            ]
          },
          "metadata": {
            "tags": []
          },
          "execution_count": 17
        }
      ]
    },
    {
      "cell_type": "code",
      "metadata": {
        "colab": {
          "base_uri": "https://localhost:8080/"
        },
        "id": "7r5GcIVCbUkS",
        "outputId": "46272dbf-8e57-4ed7-ef94-952775428f5f"
      },
      "source": [
        "mlp_clf_pred_train = mlp_clf.predict(X_train)\n",
        "mlp_clf_pred_val = mlp_clf.predict(X_validation)\n",
        "\n",
        "print(\"TRAINING\\n\" + classification_report(y_train, mlp_clf_pred_train))\n",
        "print(\"\\nTESTING\\n\" + classification_report(y_validation, mlp_clf_pred_val))"
      ],
      "execution_count": 18,
      "outputs": [
        {
          "output_type": "stream",
          "text": [
            "TRAINING\n",
            "              precision    recall  f1-score   support\n",
            "\n",
            "           0       0.73      0.99      0.84     21378\n",
            "           1       0.66      0.05      0.09      8145\n",
            "\n",
            "    accuracy                           0.73     29523\n",
            "   macro avg       0.70      0.52      0.47     29523\n",
            "weighted avg       0.71      0.73      0.64     29523\n",
            "\n",
            "\n",
            "TESTING\n",
            "              precision    recall  f1-score   support\n",
            "\n",
            "           0       0.73      0.99      0.84      5343\n",
            "           1       0.66      0.05      0.10      2038\n",
            "\n",
            "    accuracy                           0.73      7381\n",
            "   macro avg       0.70      0.52      0.47      7381\n",
            "weighted avg       0.71      0.73      0.64      7381\n",
            "\n"
          ],
          "name": "stdout"
        }
      ]
    },
    {
      "cell_type": "code",
      "metadata": {
        "colab": {
          "base_uri": "https://localhost:8080/"
        },
        "id": "2Pr1qGVVmiIu",
        "outputId": "2940c443-1a48-4137-c68b-d051092af722"
      },
      "source": [
        "mlp_train_error = 1. - accuracy_score(y_train, mlp_clf_pred_train)\n",
        "mlp_train_cmat = confusion_matrix(y_train, mlp_clf_pred_train)\n",
        "mlp_val_error = 1. - accuracy_score(y_validation, mlp_clf_pred_val)\n",
        "mlp_val_cmat = confusion_matrix(y_validation, mlp_clf_pred_val)\n",
        "\n",
        "print('train error: %f ' % mlp_train_error)\n",
        "print('train confusion matrix:')\n",
        "print(mlp_train_cmat)\n",
        "print('test error: %f ' % mlp_val_error)\n",
        "print('test confusion matrix:')\n",
        "print(mlp_val_cmat)"
      ],
      "execution_count": 28,
      "outputs": [
        {
          "output_type": "stream",
          "text": [
            "train error: 0.269044 \n",
            "train confusion matrix:\n",
            "[[21168   210]\n",
            " [ 7733   412]]\n",
            "test error: 0.268934 \n",
            "test confusion matrix:\n",
            "[[5288   55]\n",
            " [1930  108]]\n"
          ],
          "name": "stdout"
        }
      ]
    },
    {
      "cell_type": "markdown",
      "metadata": {
        "id": "SSJIyC5lMgFr"
      },
      "source": [
        "## Voting Classifier"
      ]
    },
    {
      "cell_type": "code",
      "metadata": {
        "colab": {
          "base_uri": "https://localhost:8080/"
        },
        "id": "sKj3bQNCMinC",
        "outputId": "2a3bc8c4-6429-4a46-bdab-5ff04d01f33a"
      },
      "source": [
        "voting_clf = VotingClassifier(\n",
        "    estimators=[('tree', tree_clf), ('svm', svm_clf), ('mlp', mlp_clf)],\n",
        "    voting='hard')\n",
        "\n",
        "classifiers.append(voting_clf)\n",
        "voting_clf.fit(X_train, y_train)"
      ],
      "execution_count": 19,
      "outputs": [
        {
          "output_type": "stream",
          "text": [
            "/usr/local/lib/python3.6/dist-packages/sklearn/neural_network/_multilayer_perceptron.py:571: ConvergenceWarning: Stochastic Optimizer: Maximum iterations (200) reached and the optimization hasn't converged yet.\n",
            "  % self.max_iter, ConvergenceWarning)\n"
          ],
          "name": "stderr"
        },
        {
          "output_type": "execute_result",
          "data": {
            "text/plain": [
              "VotingClassifier(estimators=[('tree',\n",
              "                              DecisionTreeClassifier(ccp_alpha=0.0,\n",
              "                                                     class_weight=None,\n",
              "                                                     criterion='entropy',\n",
              "                                                     max_depth=None,\n",
              "                                                     max_features=None,\n",
              "                                                     max_leaf_nodes=None,\n",
              "                                                     min_impurity_decrease=0.0,\n",
              "                                                     min_impurity_split=None,\n",
              "                                                     min_samples_leaf=1,\n",
              "                                                     min_samples_split=2,\n",
              "                                                     min_weight_fraction_leaf=0.0,\n",
              "                                                     presort='deprecated',\n",
              "                                                     random_state=1,\n",
              "                                                     splitter='best')),\n",
              "                             ('svm',\n",
              "                              SVC(C=...\n",
              "                                            epsilon=1e-08,\n",
              "                                            hidden_layer_sizes=(20,),\n",
              "                                            learning_rate='constant',\n",
              "                                            learning_rate_init=0.001,\n",
              "                                            max_fun=15000, max_iter=200,\n",
              "                                            momentum=0, n_iter_no_change=10,\n",
              "                                            nesterovs_momentum=True,\n",
              "                                            power_t=0.5, random_state=None,\n",
              "                                            shuffle=True, solver='sgd',\n",
              "                                            tol=0.0001, validation_fraction=0.1,\n",
              "                                            verbose=False, warm_start=False))],\n",
              "                 flatten_transform=True, n_jobs=None, voting='hard',\n",
              "                 weights=None)"
            ]
          },
          "metadata": {
            "tags": []
          },
          "execution_count": 19
        }
      ]
    },
    {
      "cell_type": "code",
      "metadata": {
        "colab": {
          "base_uri": "https://localhost:8080/"
        },
        "id": "Wo_aVeHiNHuq",
        "outputId": "71406a49-4c54-4ae6-d491-0c7de4ff279d"
      },
      "source": [
        "for clf in classifiers:\n",
        "    #clf.fit(X_train, y_train)\n",
        "    pred_val = clf.predict(X_validation)\n",
        "    print(clf.__class__.__name__, accuracy_score(y_validation, pred_val))"
      ],
      "execution_count": 20,
      "outputs": [
        {
          "output_type": "stream",
          "text": [
            "DecisionTreeClassifier 0.9691098767104729\n",
            "SVC 0.7372984690421353\n",
            "MLPClassifier 0.7310662511854762\n",
            "VotingClassifier 0.7456984148489365\n"
          ],
          "name": "stdout"
        }
      ]
    },
    {
      "cell_type": "code",
      "metadata": {
        "colab": {
          "base_uri": "https://localhost:8080/"
        },
        "id": "y_pkhXiaeZxx",
        "outputId": "66732253-4c5b-4b17-a6e2-1d648c56f2a3"
      },
      "source": [
        "voting_clf_pred_train = mlp_clf.predict(X_train)\n",
        "voting_clf_pred_val = mlp_clf.predict(X_validation)\n",
        "\n",
        "print(\"TRAINING\\n\" + classification_report(y_train, voting_clf_pred_train))\n",
        "print(\"\\nTESTING\\n\" + classification_report(y_validation, voting_clf_pred_val))"
      ],
      "execution_count": 21,
      "outputs": [
        {
          "output_type": "stream",
          "text": [
            "TRAINING\n",
            "              precision    recall  f1-score   support\n",
            "\n",
            "           0       0.73      0.99      0.84     21378\n",
            "           1       0.66      0.05      0.09      8145\n",
            "\n",
            "    accuracy                           0.73     29523\n",
            "   macro avg       0.70      0.52      0.47     29523\n",
            "weighted avg       0.71      0.73      0.64     29523\n",
            "\n",
            "\n",
            "TESTING\n",
            "              precision    recall  f1-score   support\n",
            "\n",
            "           0       0.73      0.99      0.84      5343\n",
            "           1       0.66      0.05      0.10      2038\n",
            "\n",
            "    accuracy                           0.73      7381\n",
            "   macro avg       0.70      0.52      0.47      7381\n",
            "weighted avg       0.71      0.73      0.64      7381\n",
            "\n"
          ],
          "name": "stdout"
        }
      ]
    },
    {
      "cell_type": "code",
      "metadata": {
        "colab": {
          "base_uri": "https://localhost:8080/"
        },
        "id": "MiAya7DzmnxT",
        "outputId": "21927056-362d-40ff-e776-2644e93ea83a"
      },
      "source": [
        "voting_train_error = 1. - accuracy_score(y_train, voting_clf_pred_train)\n",
        "voting_train_cmat = confusion_matrix(y_train, voting_clf_pred_train)\n",
        "voting_val_error = 1. - accuracy_score(y_validation, voting_clf_pred_val)\n",
        "voting_val_cmat = confusion_matrix(y_validation, voting_clf_pred_val)\n",
        "\n",
        "print('train error: %f ' % voting_train_error)\n",
        "print('train confusion matrix:')\n",
        "print(voting_train_cmat)\n",
        "print('test error: %f ' % voting_val_error)\n",
        "print('test confusion matrix:')\n",
        "print(voting_val_cmat)"
      ],
      "execution_count": 29,
      "outputs": [
        {
          "output_type": "stream",
          "text": [
            "train error: 0.269044 \n",
            "train confusion matrix:\n",
            "[[21168   210]\n",
            " [ 7733   412]]\n",
            "test error: 0.268934 \n",
            "test confusion matrix:\n",
            "[[5288   55]\n",
            " [1930  108]]\n"
          ],
          "name": "stdout"
        }
      ]
    },
    {
      "cell_type": "markdown",
      "metadata": {
        "id": "lEXkcLdtK2Rp"
      },
      "source": [
        "## Test Prediction"
      ]
    },
    {
      "cell_type": "code",
      "metadata": {
        "id": "9Tbj-UBH5Piz"
      },
      "source": [
        "pred_test = voting_clf.predict(X_test)"
      ],
      "execution_count": 22,
      "outputs": []
    },
    {
      "cell_type": "markdown",
      "metadata": {
        "id": "uMVDRYGJBkgO"
      },
      "source": [
        "# Submission Formatting"
      ]
    },
    {
      "cell_type": "code",
      "metadata": {
        "colab": {
          "base_uri": "https://localhost:8080/"
        },
        "id": "3H-d7HbGA1I2",
        "outputId": "06d29277-f598-4d78-ba29-b47f280e364f"
      },
      "source": [
        "%%shell\n",
        "# Create submission file if it does not exists\n",
        "file=predictions.csv\n",
        "if [ ! -e \"$file\" ] ; then\n",
        "    touch anomaly-4G-detection/\"$file\"\n",
        "fi"
      ],
      "execution_count": 23,
      "outputs": [
        {
          "output_type": "execute_result",
          "data": {
            "text/plain": [
              ""
            ]
          },
          "metadata": {
            "tags": []
          },
          "execution_count": 23
        }
      ]
    },
    {
      "cell_type": "code",
      "metadata": {
        "colab": {
          "base_uri": "https://localhost:8080/",
          "height": 407
        },
        "id": "U9CouZll67HG",
        "outputId": "50735bf1-e65b-4aad-8bef-81bb179c5738"
      },
      "source": [
        "# Create index column in data frame object\n",
        "submission_dataframe = pd.DataFrame(np.arange(1, 9159), columns=['Id']) \n",
        "\n",
        "# Append predictions of test data as column\n",
        "submission_dataframe['Label'] = pred_test\n",
        "\n",
        "# Convert Data Frame object to CSV\n",
        "submission_dataframe.to_csv('predictions.csv', index=False)\n",
        "\n",
        "!mv predictions.csv anomaly-4G-detection/\n",
        "predictions = pd.read_csv('anomaly-4G-detection/predictions.csv')\n",
        "predictions"
      ],
      "execution_count": 24,
      "outputs": [
        {
          "output_type": "execute_result",
          "data": {
            "text/html": [
              "<div>\n",
              "<style scoped>\n",
              "    .dataframe tbody tr th:only-of-type {\n",
              "        vertical-align: middle;\n",
              "    }\n",
              "\n",
              "    .dataframe tbody tr th {\n",
              "        vertical-align: top;\n",
              "    }\n",
              "\n",
              "    .dataframe thead th {\n",
              "        text-align: right;\n",
              "    }\n",
              "</style>\n",
              "<table border=\"1\" class=\"dataframe\">\n",
              "  <thead>\n",
              "    <tr style=\"text-align: right;\">\n",
              "      <th></th>\n",
              "      <th>Id</th>\n",
              "      <th>Label</th>\n",
              "    </tr>\n",
              "  </thead>\n",
              "  <tbody>\n",
              "    <tr>\n",
              "      <th>0</th>\n",
              "      <td>1</td>\n",
              "      <td>0</td>\n",
              "    </tr>\n",
              "    <tr>\n",
              "      <th>1</th>\n",
              "      <td>2</td>\n",
              "      <td>0</td>\n",
              "    </tr>\n",
              "    <tr>\n",
              "      <th>2</th>\n",
              "      <td>3</td>\n",
              "      <td>0</td>\n",
              "    </tr>\n",
              "    <tr>\n",
              "      <th>3</th>\n",
              "      <td>4</td>\n",
              "      <td>0</td>\n",
              "    </tr>\n",
              "    <tr>\n",
              "      <th>4</th>\n",
              "      <td>5</td>\n",
              "      <td>0</td>\n",
              "    </tr>\n",
              "    <tr>\n",
              "      <th>...</th>\n",
              "      <td>...</td>\n",
              "      <td>...</td>\n",
              "    </tr>\n",
              "    <tr>\n",
              "      <th>9153</th>\n",
              "      <td>9154</td>\n",
              "      <td>0</td>\n",
              "    </tr>\n",
              "    <tr>\n",
              "      <th>9154</th>\n",
              "      <td>9155</td>\n",
              "      <td>0</td>\n",
              "    </tr>\n",
              "    <tr>\n",
              "      <th>9155</th>\n",
              "      <td>9156</td>\n",
              "      <td>0</td>\n",
              "    </tr>\n",
              "    <tr>\n",
              "      <th>9156</th>\n",
              "      <td>9157</td>\n",
              "      <td>0</td>\n",
              "    </tr>\n",
              "    <tr>\n",
              "      <th>9157</th>\n",
              "      <td>9158</td>\n",
              "      <td>0</td>\n",
              "    </tr>\n",
              "  </tbody>\n",
              "</table>\n",
              "<p>9158 rows × 2 columns</p>\n",
              "</div>"
            ],
            "text/plain": [
              "        Id  Label\n",
              "0        1      0\n",
              "1        2      0\n",
              "2        3      0\n",
              "3        4      0\n",
              "4        5      0\n",
              "...    ...    ...\n",
              "9153  9154      0\n",
              "9154  9155      0\n",
              "9155  9156      0\n",
              "9156  9157      0\n",
              "9157  9158      0\n",
              "\n",
              "[9158 rows x 2 columns]"
            ]
          },
          "metadata": {
            "tags": []
          },
          "execution_count": 24
        }
      ]
    },
    {
      "cell_type": "code",
      "metadata": {
        "id": "pWZoB4CM4Qbo"
      },
      "source": [
        "!rm anomaly-4G-detection/predictions.csv"
      ],
      "execution_count": null,
      "outputs": []
    }
  ]
}