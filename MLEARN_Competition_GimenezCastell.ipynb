{
  "nbformat": 4,
  "nbformat_minor": 0,
  "metadata": {
    "colab": {
      "name": "MLEARN_Competition_GimenezCastell.ipynb",
      "provenance": [],
      "collapsed_sections": [
        "QzW43GdlCXoF",
        "Wn4TROMqCcUY",
        "uMVDRYGJBkgO"
      ],
      "toc_visible": true
    },
    "kernelspec": {
      "name": "python3",
      "display_name": "Python 3"
    },
    "accelerator": "TPU"
  },
  "cells": [
    {
      "cell_type": "markdown",
      "metadata": {
        "id": "QzW43GdlCXoF"
      },
      "source": [
        "# Load Datasets"
      ]
    },
    {
      "cell_type": "code",
      "metadata": {
        "id": "HdfF9Rz4nS1i"
      },
      "source": [
        "import numpy as np\n",
        "import pandas as pd\n",
        "import os\n",
        "\n",
        "import sklearn.tree\n",
        "import sklearn.ensemble\n",
        "\n",
        "from sklearn.preprocessing import StandardScaler\n",
        "from sklearn.model_selection import train_test_split\n",
        "from sklearn.metrics import classification_report, accuracy_score, confusion_matrix\n",
        "from sklearn.pipeline import Pipeline\n",
        "from sklearn.model_selection import GridSearchCV, RandomizedSearchCV\n",
        "from sklearn.decomposition import PCA"
      ],
      "execution_count": 21,
      "outputs": []
    },
    {
      "cell_type": "code",
      "metadata": {
        "colab": {
          "base_uri": "https://localhost:8080/"
        },
        "id": "mvdFxXlkwPIz",
        "outputId": "a6e668ce-c34f-4793-ea6c-792ce0c59bfa"
      },
      "source": [
        "# Clone repository in order to get access locally to the datasets\n",
        "!rm -rf .git README.md\n",
        "!git clone -b playing-emsembled-methods https://github.com/sergio-gimenez/anomaly-4G-detection "
      ],
      "execution_count": 22,
      "outputs": [
        {
          "output_type": "stream",
          "text": [
            "fatal: destination path 'anomaly-4G-detection' already exists and is not an empty directory.\n"
          ],
          "name": "stdout"
        }
      ]
    },
    {
      "cell_type": "code",
      "metadata": {
        "id": "BkZG0vkAQiRr",
        "colab": {
          "base_uri": "https://localhost:8080/"
        },
        "outputId": "891cca17-1226-4c31-bddb-04157123e014"
      },
      "source": [
        "!ls -la"
      ],
      "execution_count": 23,
      "outputs": [
        {
          "output_type": "stream",
          "text": [
            "total 20\n",
            "drwxr-xr-x 1 root root 4096 Dec 31 17:21 .\n",
            "drwxr-xr-x 1 root root 4096 Dec 31 16:56 ..\n",
            "drwxr-xr-x 4 root root 4096 Dec 31 17:25 anomaly-4G-detection\n",
            "drwxr-xr-x 1 root root 4096 Dec 21 17:29 .config\n",
            "drwxr-xr-x 1 root root 4096 Dec 21 17:29 sample_data\n"
          ],
          "name": "stdout"
        }
      ]
    },
    {
      "cell_type": "code",
      "metadata": {
        "id": "EiO_tVqEtbhr"
      },
      "source": [
        "train = pd.read_csv('anomaly-4G-detection/ML-MATT-CompetitionQT2021_train.csv', sep=';')\n",
        "test = pd.read_csv('anomaly-4G-detection/ML-MATT-CompetitionQT2021_test.xls', sep=';' )"
      ],
      "execution_count": 24,
      "outputs": []
    },
    {
      "cell_type": "code",
      "metadata": {
        "id": "1pQIAxp_wxGk"
      },
      "source": [
        "# Separate labels from data \n",
        "X = train.drop('Unusual', axis='columns')#.to_numpy()\n",
        "y = train['Unusual']#.to_numpy()\n",
        "\n",
        "# We split the data into training and validation subsets (80% and 20%) in\n",
        "# order to validate our training\n",
        "X_train, X_validation, y_train, y_validation = train_test_split(X, y, \n",
        "                                                                train_size=0.8,\n",
        "                                                                random_state=1, stratify = y)\n",
        "X_test = test"
      ],
      "execution_count": 25,
      "outputs": []
    },
    {
      "cell_type": "code",
      "metadata": {
        "id": "pkMgA0YsluhJ"
      },
      "source": [
        "#Refactor time feature to minuts and cellName to unique identifier 1:1\n",
        "def getTimeInMinutes(x):\n",
        "  hh, mm  = x.split(\":\")\n",
        "  return int(hh)* 60 + int(mm)\n",
        "\n",
        "def createCellNameDictionary(data):\n",
        "  cellList = []\n",
        "  for i in data[\"CellName\"]:\n",
        "    cellList.append(i)\n",
        "  cellList = set(cellList)\n",
        "  cellDict = {}\n",
        "  for idx, value in enumerate(cellList):\n",
        "    cellDict[value]=idx\n",
        "  return cellDict\n",
        "\n",
        "def refactorFeaturesDataframe(data):\n",
        "  data[\"Time\"] = data[\"Time\"].apply(lambda x: getTimeInMinutes(x))\n",
        "  cellNameDict = createCellNameDictionary(data);\n",
        "  data[\"CellName\"] = data[\"CellName\"].apply(lambda x: cellNameDict[x])\n",
        "  return data\n"
      ],
      "execution_count": 26,
      "outputs": []
    },
    {
      "cell_type": "code",
      "metadata": {
        "id": "vIoTgjuA0yak",
        "colab": {
          "base_uri": "https://localhost:8080/"
        },
        "outputId": "df268654-f3f6-456d-99d5-2e5b21ea038a"
      },
      "source": [
        "#Refactoring data from features to useful values\n",
        "X_train = refactorFeaturesDataframe(X_train).to_numpy()\n",
        "y_train = y_train.to_numpy()\n",
        "\n",
        "X_validation = refactorFeaturesDataframe(X_validation).to_numpy()\n",
        "y_validation = y_validation.to_numpy()\n",
        "\n",
        "X_test = refactorFeaturesDataframe(test).to_numpy()"
      ],
      "execution_count": 27,
      "outputs": [
        {
          "output_type": "stream",
          "text": [
            "/usr/local/lib/python3.6/dist-packages/ipykernel_launcher.py:17: SettingWithCopyWarning: \n",
            "A value is trying to be set on a copy of a slice from a DataFrame.\n",
            "Try using .loc[row_indexer,col_indexer] = value instead\n",
            "\n",
            "See the caveats in the documentation: https://pandas.pydata.org/pandas-docs/stable/user_guide/indexing.html#returning-a-view-versus-a-copy\n",
            "/usr/local/lib/python3.6/dist-packages/ipykernel_launcher.py:19: SettingWithCopyWarning: \n",
            "A value is trying to be set on a copy of a slice from a DataFrame.\n",
            "Try using .loc[row_indexer,col_indexer] = value instead\n",
            "\n",
            "See the caveats in the documentation: https://pandas.pydata.org/pandas-docs/stable/user_guide/indexing.html#returning-a-view-versus-a-copy\n"
          ],
          "name": "stderr"
        }
      ]
    },
    {
      "cell_type": "markdown",
      "metadata": {
        "id": "Wn4TROMqCcUY"
      },
      "source": [
        "# Solving the Classification Problem"
      ]
    },
    {
      "cell_type": "code",
      "metadata": {
        "id": "JSk27jtY2xyB"
      },
      "source": [
        "clf = sklearn.tree.DecisionTreeClassifier(random_state=1)\n",
        "pipe = Pipeline(steps=[('std_slc', StandardScaler()),\n",
        "                           ('dec_tree', clf)])\n",
        "\n",
        "n_components = list(range(1,X_train.shape[1]+1,2))\n",
        "criterion = ['gini', 'entropy']\n",
        "max_depth = [None,2,8,12]\n",
        "min_samples_split = [2,4,8,10]\n",
        "min_samples_leaf = [1,2,5]\n",
        "\n",
        "parameters = dict(dec_tree__criterion=criterion,\n",
        "                      dec_tree__min_samples_split=min_samples_split,\n",
        "                      dec_tree__min_samples_leaf=min_samples_leaf,\n",
        "                      dec_tree__max_depth=max_depth)\n",
        "#clf_GS = GridSearchCV(pipe, parameters)\n",
        "#clf_GS.fit(X_train, y_train)\n",
        "\n",
        "#clf.fit(X_train, y_train)"
      ],
      "execution_count": 28,
      "outputs": []
    },
    {
      "cell_type": "code",
      "metadata": {
        "id": "N6s3bW7121UD"
      },
      "source": [
        "#pred_train = clf_GS.predict(X_train)\n",
        "#pred_val = clf_GS.predict(X_validation)"
      ],
      "execution_count": 29,
      "outputs": []
    },
    {
      "cell_type": "markdown",
      "metadata": {
        "id": "P31bEittujim"
      },
      "source": [
        "# Voting Classifier with GridSearch"
      ]
    },
    {
      "cell_type": "code",
      "metadata": {
        "id": "DHDdmOgCuo_P",
        "colab": {
          "base_uri": "https://localhost:8080/",
          "height": 102
        },
        "outputId": "441336bd-3b9b-4b47-c7c6-1c96b663afe9"
      },
      "source": [
        "from sklearn.ensemble import VotingClassifier\n",
        "from sklearn.ensemble import GradientBoostingClassifier\n",
        "from sklearn.ensemble import AdaBoostClassifier\n",
        "from sklearn.tree import DecisionTreeClassifier\n",
        "from sklearn.neighbors import KNeighborsClassifier\n",
        "from xgboost import XGBClassifier\n",
        "from joblib import dump, load\n",
        "from google.colab import files\n",
        "from scipy.stats import uniform, randint\n",
        "\n",
        "#if performVoting == 'y':\n",
        "  \n",
        "try:\n",
        "  clf_GS = load('anomaly-4G-detection/voting_model.joblib') \n",
        "  \n",
        "\n",
        "except:\n",
        "  voting_clf = VotingClassifier( estimators=[ \n",
        "      ('xgb', XGBClassifier(random_state=1,  min_child_weight=1)),\n",
        "      ('dt', DecisionTreeClassifier(random_state=1, criterion='entropy', min_samples_leaf=2)),\n",
        "      ('knn', KNeighborsClassifier(metric=\"euclidean\", p = 1))\n",
        "      ], voting='soft')\n",
        "  \n",
        "  pipe = Pipeline(steps=[('std_slc', StandardScaler()),\n",
        "                              ('voting_clf', voting_clf)])\n",
        "\n",
        "  #Params ADA\n",
        "  n_estimators_ada = [600, 800]\n",
        "  learning_rate = [0.1,1,10]\n",
        "  #Params Decision Tree\n",
        "  min_samples_split_dt = [2,10,14]\n",
        "  min_samples_leaf_dt = [1,2,5]\n",
        "  #Params GradientBoost\n",
        "  \n",
        "  parameters = {\n",
        "  'voting_clf__knn__n_neighbors'    : randint(5, 30),\n",
        "  'voting_clf__knn__metric'    : ['euclidian', 'manhattan'],\n",
        "  'voting_clf__knn__weights'    : ['uniform', 'distance'],\n",
        "  'voting_clf__xgb__eta'    : uniform(0.1, 0.3),\n",
        "  \"voting_clf__xgb__colsample_bytree\": uniform(0.7, 0.3),\n",
        "  \"voting_clf__xgb__gamma\": uniform(0, 0.5),\n",
        "  \"voting_clf__xgb__learning_rate\": uniform(0.03, 0.3), # default 0.1 \n",
        "  \"voting_clf__xgb__max_depth\": randint(2, 20), # default 3\n",
        "  \"voting_clf__xgb__n_estimators\": randint(100, 1000), # default 100\n",
        "  \"voting_clf__xgb__subsample\": uniform(0.6, 0.4)\n",
        "  }\n",
        "\n",
        "  '''\n",
        "  parameters = dict(voting_clf__ada__n_estimators=n_estimators_ada,\n",
        "                    voting_clf__decision_tree__min_samples_split = min_samples_split_dt,\n",
        "                      )\n",
        "  '''\n",
        "  #clf_GS = GridSearchCV(estimator=pipe, param_grid=parameters, n_jobs=10, verbose=1, )\n",
        "  clf_GS = RandomizedSearchCV(estimator=pipe, param_distributions=parameters, n_jobs=10, verbose=1, cv=5, n_iter= 50 )\n",
        "  clf_GS.fit(X_train,y_train)\n",
        "\n",
        "  #Save the model in a file and download locally.\n",
        "  dump(clf_GS, 'voting_model.joblib')\n",
        "  files.download('voting_model.joblib') "
      ],
      "execution_count": 30,
      "outputs": [
        {
          "output_type": "stream",
          "text": [
            "[Parallel(n_jobs=10)]: Using backend LokyBackend with 10 concurrent workers.\n"
          ],
          "name": "stderr"
        },
        {
          "output_type": "stream",
          "text": [
            "Fitting 5 folds for each of 50 candidates, totalling 250 fits\n"
          ],
          "name": "stdout"
        },
        {
          "output_type": "stream",
          "text": [
            "[Parallel(n_jobs=10)]: Done  30 tasks      | elapsed:  8.5min\n",
            "[Parallel(n_jobs=10)]: Done 180 tasks      | elapsed: 53.2min\n",
            "[Parallel(n_jobs=10)]: Done 250 out of 250 | elapsed: 76.5min finished\n"
          ],
          "name": "stderr"
        },
        {
          "output_type": "display_data",
          "data": {
            "application/javascript": [
              "\n",
              "    async function download(id, filename, size) {\n",
              "      if (!google.colab.kernel.accessAllowed) {\n",
              "        return;\n",
              "      }\n",
              "      const div = document.createElement('div');\n",
              "      const label = document.createElement('label');\n",
              "      label.textContent = `Downloading \"${filename}\": `;\n",
              "      div.appendChild(label);\n",
              "      const progress = document.createElement('progress');\n",
              "      progress.max = size;\n",
              "      div.appendChild(progress);\n",
              "      document.body.appendChild(div);\n",
              "\n",
              "      const buffers = [];\n",
              "      let downloaded = 0;\n",
              "\n",
              "      const channel = await google.colab.kernel.comms.open(id);\n",
              "      // Send a message to notify the kernel that we're ready.\n",
              "      channel.send({})\n",
              "\n",
              "      for await (const message of channel.messages) {\n",
              "        // Send a message to notify the kernel that we're ready.\n",
              "        channel.send({})\n",
              "        if (message.buffers) {\n",
              "          for (const buffer of message.buffers) {\n",
              "            buffers.push(buffer);\n",
              "            downloaded += buffer.byteLength;\n",
              "            progress.value = downloaded;\n",
              "          }\n",
              "        }\n",
              "      }\n",
              "      const blob = new Blob(buffers, {type: 'application/binary'});\n",
              "      const a = document.createElement('a');\n",
              "      a.href = window.URL.createObjectURL(blob);\n",
              "      a.download = filename;\n",
              "      div.appendChild(a);\n",
              "      a.click();\n",
              "      div.remove();\n",
              "    }\n",
              "  "
            ],
            "text/plain": [
              "<IPython.core.display.Javascript object>"
            ]
          },
          "metadata": {
            "tags": []
          }
        },
        {
          "output_type": "display_data",
          "data": {
            "application/javascript": [
              "download(\"download_11d98063-75e3-454a-867f-5850dd3a7cb3\", \"voting_model.joblib\", 7590194)"
            ],
            "text/plain": [
              "<IPython.core.display.Javascript object>"
            ]
          },
          "metadata": {
            "tags": []
          }
        }
      ]
    },
    {
      "cell_type": "code",
      "metadata": {
        "id": "F6XZezYqNpOh"
      },
      "source": [
        "pred_train = clf_GS.predict(X_train)\n",
        "pred_val = clf_GS.predict(X_validation)"
      ],
      "execution_count": 31,
      "outputs": []
    },
    {
      "cell_type": "code",
      "metadata": {
        "id": "luMnqSly3KZq",
        "colab": {
          "base_uri": "https://localhost:8080/"
        },
        "outputId": "aeb262ba-4805-4fed-a504-285488f4ca61"
      },
      "source": [
        "print(\"TRAINING\\n\" + classification_report(y_train, pred_train))\n",
        "print(\"\\nTESTING\\n\" + classification_report(y_validation, pred_val))"
      ],
      "execution_count": 32,
      "outputs": [
        {
          "output_type": "stream",
          "text": [
            "TRAINING\n",
            "              precision    recall  f1-score   support\n",
            "\n",
            "           0       1.00      1.00      1.00     21377\n",
            "           1       1.00      1.00      1.00      8146\n",
            "\n",
            "    accuracy                           1.00     29523\n",
            "   macro avg       1.00      1.00      1.00     29523\n",
            "weighted avg       1.00      1.00      1.00     29523\n",
            "\n",
            "\n",
            "TESTING\n",
            "              precision    recall  f1-score   support\n",
            "\n",
            "           0       0.98      1.00      0.99      5344\n",
            "           1       1.00      0.93      0.96      2037\n",
            "\n",
            "    accuracy                           0.98      7381\n",
            "   macro avg       0.99      0.97      0.98      7381\n",
            "weighted avg       0.98      0.98      0.98      7381\n",
            "\n"
          ],
          "name": "stdout"
        }
      ]
    },
    {
      "cell_type": "code",
      "metadata": {
        "id": "VJ3k3xOb3j2U",
        "colab": {
          "base_uri": "https://localhost:8080/"
        },
        "outputId": "4305d65a-e33f-4483-89e5-6db4f2ac2249"
      },
      "source": [
        "train_error = 1. - accuracy_score(y_train, pred_train)\n",
        "train_cmat = confusion_matrix(y_train, pred_train)\n",
        "val_error = 1. - accuracy_score(y_validation, pred_val)\n",
        "val_cmat = confusion_matrix(y_validation, pred_val)\n",
        "\n",
        "print('train error: %f ' % train_error)\n",
        "print('train confusion matrix:')\n",
        "print(train_cmat)\n",
        "print('test error: %f ' % val_error)\n",
        "print('test confusion matrix:')\n",
        "print(val_cmat)"
      ],
      "execution_count": 33,
      "outputs": [
        {
          "output_type": "stream",
          "text": [
            "train error: 0.000847 \n",
            "train confusion matrix:\n",
            "[[21377     0]\n",
            " [   25  8121]]\n",
            "test error: 0.019510 \n",
            "test confusion matrix:\n",
            "[[5335    9]\n",
            " [ 135 1902]]\n"
          ],
          "name": "stdout"
        }
      ]
    },
    {
      "cell_type": "code",
      "metadata": {
        "id": "9Tbj-UBH5Piz"
      },
      "source": [
        "pred_test = clf_GS.predict(X_test)"
      ],
      "execution_count": 39,
      "outputs": []
    },
    {
      "cell_type": "markdown",
      "metadata": {
        "id": "uMVDRYGJBkgO"
      },
      "source": [
        "# Submission Formatting"
      ]
    },
    {
      "cell_type": "code",
      "metadata": {
        "id": "3H-d7HbGA1I2",
        "colab": {
          "base_uri": "https://localhost:8080/"
        },
        "outputId": "8b7c253e-0002-4190-f56f-c704dafd42f6"
      },
      "source": [
        "%%shell\n",
        "# Create submission file if it does not exists\n",
        "file=predictions.csv\n",
        "if [ ! -e \"$file\" ] ; then\n",
        "    touch anomaly-4G-detection/\"$file\"\n",
        "fi"
      ],
      "execution_count": 40,
      "outputs": [
        {
          "output_type": "execute_result",
          "data": {
            "text/plain": [
              ""
            ]
          },
          "metadata": {
            "tags": []
          },
          "execution_count": 40
        }
      ]
    },
    {
      "cell_type": "code",
      "metadata": {
        "id": "U9CouZll67HG",
        "colab": {
          "base_uri": "https://localhost:8080/",
          "height": 419
        },
        "outputId": "b38d27ce-ae25-490d-edbb-c003bd194773"
      },
      "source": [
        "# Create index column in data frame object\n",
        "submission_dataframe = pd.DataFrame(np.arange(1, 9159), columns=['Id']) \n",
        "\n",
        "# Append predictions of test data as column\n",
        "submission_dataframe['Label'] = pred_test\n",
        "\n",
        "# Convert Data Frame object to CSV\n",
        "submission_dataframe.to_csv('predictions.csv', index=False)\n",
        "\n",
        "!mv predictions.csv anomaly-4G-detection/\n",
        "predictions = pd.read_csv('anomaly-4G-detection/predictions.csv')\n",
        "predictions"
      ],
      "execution_count": 41,
      "outputs": [
        {
          "output_type": "execute_result",
          "data": {
            "text/html": [
              "<div>\n",
              "<style scoped>\n",
              "    .dataframe tbody tr th:only-of-type {\n",
              "        vertical-align: middle;\n",
              "    }\n",
              "\n",
              "    .dataframe tbody tr th {\n",
              "        vertical-align: top;\n",
              "    }\n",
              "\n",
              "    .dataframe thead th {\n",
              "        text-align: right;\n",
              "    }\n",
              "</style>\n",
              "<table border=\"1\" class=\"dataframe\">\n",
              "  <thead>\n",
              "    <tr style=\"text-align: right;\">\n",
              "      <th></th>\n",
              "      <th>Id</th>\n",
              "      <th>Label</th>\n",
              "    </tr>\n",
              "  </thead>\n",
              "  <tbody>\n",
              "    <tr>\n",
              "      <th>0</th>\n",
              "      <td>1</td>\n",
              "      <td>0</td>\n",
              "    </tr>\n",
              "    <tr>\n",
              "      <th>1</th>\n",
              "      <td>2</td>\n",
              "      <td>0</td>\n",
              "    </tr>\n",
              "    <tr>\n",
              "      <th>2</th>\n",
              "      <td>3</td>\n",
              "      <td>0</td>\n",
              "    </tr>\n",
              "    <tr>\n",
              "      <th>3</th>\n",
              "      <td>4</td>\n",
              "      <td>0</td>\n",
              "    </tr>\n",
              "    <tr>\n",
              "      <th>4</th>\n",
              "      <td>5</td>\n",
              "      <td>1</td>\n",
              "    </tr>\n",
              "    <tr>\n",
              "      <th>...</th>\n",
              "      <td>...</td>\n",
              "      <td>...</td>\n",
              "    </tr>\n",
              "    <tr>\n",
              "      <th>9153</th>\n",
              "      <td>9154</td>\n",
              "      <td>0</td>\n",
              "    </tr>\n",
              "    <tr>\n",
              "      <th>9154</th>\n",
              "      <td>9155</td>\n",
              "      <td>1</td>\n",
              "    </tr>\n",
              "    <tr>\n",
              "      <th>9155</th>\n",
              "      <td>9156</td>\n",
              "      <td>0</td>\n",
              "    </tr>\n",
              "    <tr>\n",
              "      <th>9156</th>\n",
              "      <td>9157</td>\n",
              "      <td>0</td>\n",
              "    </tr>\n",
              "    <tr>\n",
              "      <th>9157</th>\n",
              "      <td>9158</td>\n",
              "      <td>0</td>\n",
              "    </tr>\n",
              "  </tbody>\n",
              "</table>\n",
              "<p>9158 rows × 2 columns</p>\n",
              "</div>"
            ],
            "text/plain": [
              "        Id  Label\n",
              "0        1      0\n",
              "1        2      0\n",
              "2        3      0\n",
              "3        4      0\n",
              "4        5      1\n",
              "...    ...    ...\n",
              "9153  9154      0\n",
              "9154  9155      1\n",
              "9155  9156      0\n",
              "9156  9157      0\n",
              "9157  9158      0\n",
              "\n",
              "[9158 rows x 2 columns]"
            ]
          },
          "metadata": {
            "tags": []
          },
          "execution_count": 41
        }
      ]
    },
    {
      "cell_type": "code",
      "metadata": {
        "id": "pWZoB4CM4Qbo"
      },
      "source": [
        "#!rm anomaly-4G-detection/predictions.csv"
      ],
      "execution_count": 42,
      "outputs": []
    },
    {
      "cell_type": "code",
      "metadata": {
        "id": "ASKJSoDN6Hhx",
        "colab": {
          "base_uri": "https://localhost:8080/"
        },
        "outputId": "beabaa66-fb7a-49d5-ac1d-ac300936a448"
      },
      "source": [
        "print(clf_GS.best_params_)\n",
        "#print(clf_GS.grid_scores_)"
      ],
      "execution_count": 43,
      "outputs": [
        {
          "output_type": "stream",
          "text": [
            "{'voting_clf__knn__metric': 'manhattan', 'voting_clf__knn__n_neighbors': 19, 'voting_clf__knn__weights': 'uniform', 'voting_clf__xgb__colsample_bytree': 0.9870337054924951, 'voting_clf__xgb__eta': 0.3731245202851634, 'voting_clf__xgb__gamma': 0.4715112192446209, 'voting_clf__xgb__learning_rate': 0.18715858072742775, 'voting_clf__xgb__max_depth': 5, 'voting_clf__xgb__n_estimators': 512, 'voting_clf__xgb__subsample': 0.9966637763089552}\n"
          ],
          "name": "stdout"
        }
      ]
    }
  ]
}