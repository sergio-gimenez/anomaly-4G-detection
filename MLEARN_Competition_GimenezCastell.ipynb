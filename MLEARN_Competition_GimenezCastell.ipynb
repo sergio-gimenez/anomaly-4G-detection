{
  "nbformat": 4,
  "nbformat_minor": 0,
  "metadata": {
    "accelerator": "TPU",
    "colab": {
      "name": "Copy of MLEARN_Competition_GimenezCastell.ipynb",
      "provenance": [],
      "collapsed_sections": [
        "qf0YGI3od-B0",
        "uMVDRYGJBkgO"
      ]
    },
    "kernelspec": {
      "display_name": "Python 3",
      "name": "python3"
    }
  },
  "cells": [
    {
      "cell_type": "markdown",
      "metadata": {
        "id": "QzW43GdlCXoF"
      },
      "source": [
        "# Load Datasets"
      ]
    },
    {
      "cell_type": "code",
      "metadata": {
        "id": "HdfF9Rz4nS1i"
      },
      "source": [
        "import numpy as np\n",
        "import pandas as pd\n",
        "import os\n",
        "import math\n",
        "\n",
        "import sklearn.tree\n",
        "import sklearn.ensemble\n",
        "\n",
        "from mpl_toolkits.mplot3d import Axes3D\n",
        "import matplotlib.pyplot as plt\n",
        "import seaborn as sns\n",
        "\n",
        "from sklearn.preprocessing import StandardScaler\n",
        "from sklearn.model_selection import train_test_split\n",
        "from sklearn.metrics import classification_report, accuracy_score, confusion_matrix\n",
        "from sklearn.pipeline import Pipeline\n",
        "from sklearn.model_selection import GridSearchCV, RandomizedSearchCV\n",
        "from sklearn.decomposition import PCA"
      ],
      "execution_count": null,
      "outputs": []
    },
    {
      "cell_type": "code",
      "metadata": {
        "colab": {
          "base_uri": "https://localhost:8080/"
        },
        "id": "mvdFxXlkwPIz",
        "outputId": "8de06e42-464c-4202-ff21-b5962d42711f"
      },
      "source": [
        "# Clone repository in order to get access locally to the datasets\n",
        "!rm -rf .git README.md\n",
        "!git clone https://github.com/sergio-gimenez/anomaly-4G-detection "
      ],
      "execution_count": null,
      "outputs": [
        {
          "output_type": "stream",
          "text": [
            "Cloning into 'anomaly-4G-detection'...\n",
            "remote: Enumerating objects: 160, done.\u001b[K\n",
            "remote: Counting objects: 100% (160/160), done.\u001b[K\n",
            "remote: Compressing objects: 100% (114/114), done.\u001b[K\n",
            "remote: Total 160 (delta 85), reused 116 (delta 44), pack-reused 0\u001b[K\n",
            "Receiving objects: 100% (160/160), 30.60 MiB | 24.63 MiB/s, done.\n",
            "Resolving deltas: 100% (85/85), done.\n"
          ],
          "name": "stdout"
        }
      ]
    },
    {
      "cell_type": "code",
      "metadata": {
        "id": "EiO_tVqEtbhr"
      },
      "source": [
        "train = pd.read_csv('anomaly-4G-detection/ML-MATT-CompetitionQT2021_train.csv', sep=';')\n",
        "test = pd.read_csv('anomaly-4G-detection/ML-MATT-CompetitionQT2021_test.xls', sep=';' )"
      ],
      "execution_count": null,
      "outputs": []
    },
    {
      "cell_type": "code",
      "metadata": {
        "id": "1pQIAxp_wxGk"
      },
      "source": [
        "# Separate labels from data \n",
        "X = train.drop('Unusual', axis='columns')\n",
        "y = train['Unusual']#\n",
        "# We split the data into training and validation subsets (80% and 20%) in\n",
        "# order to validate our training\n",
        "X_train, X_validation, y_train, y_validation = train_test_split(X, y, \n",
        "                                                                train_size=0.8,\n",
        "                                                                random_state=1, stratify = y)\n",
        "X_test = test"
      ],
      "execution_count": null,
      "outputs": []
    },
    {
      "cell_type": "code",
      "metadata": {
        "id": "pkMgA0YsluhJ"
      },
      "source": [
        "#Refactor time feature to minuts and cellName to unique identifier 1:1\n",
        "def getTimeInMinutes(x):\n",
        "  hh, mm  = x.split(\":\")\n",
        "  return int(hh)* 60 + int(mm)\n",
        "\n",
        "def createCellNameDictionary(data):\n",
        "  cellList = []\n",
        "  for i in data[\"CellName\"]:\n",
        "    cellList.append(i)\n",
        "  cellList = set(cellList)\n",
        "  cellDict = {}\n",
        "  for idx, value in enumerate(cellList):\n",
        "    cellDict[value]=idx\n",
        "  return cellDict\n",
        "\n",
        "def refactorFeaturesDataframe(data):\n",
        "  #data[\"Time\"] = data[\"Time\"].apply(lambda x: getTimeInMinutes(x))\n",
        "  data[\"TimeCos\"] = data[\"Time\"].apply(lambda x: math.cos(getTimeInMinutes(x)*math.pi/(12*60)))\n",
        "  data[\"TimeSin\"] = data[\"Time\"].apply(lambda x: math.sin(getTimeInMinutes(x)*math.pi/(12*60)))\n",
        "  del data[\"Time\"]\n",
        "\n",
        "  cellNameDict = createCellNameDictionary(data);\n",
        "  data[\"CellName\"] = data[\"CellName\"].apply(lambda x: cellNameDict[x])\n",
        "  print(data.head())\n",
        "  return data"
      ],
      "execution_count": null,
      "outputs": []
    },
    {
      "cell_type": "code",
      "metadata": {
        "id": "vIoTgjuA0yak"
      },
      "source": [
        "#Refactoring data from features to useful values\n",
        "%%capture\n",
        "X_train = refactorFeaturesDataframe(X_train).to_numpy()\n",
        "y_train = y_train.to_numpy()\n",
        "X_validation = refactorFeaturesDataframe(X_validation).to_numpy()\n",
        "y_validation = y_validation.to_numpy()\n",
        "X_test = refactorFeaturesDataframe(test).to_numpy()"
      ],
      "execution_count": null,
      "outputs": []
    },
    {
      "cell_type": "markdown",
      "metadata": {
        "id": "Wn4TROMqCcUY"
      },
      "source": [
        "# Solving the Classification Problem"
      ]
    },
    {
      "cell_type": "markdown",
      "metadata": {
        "id": "qf0YGI3od-B0"
      },
      "source": [
        "### XGBoost. Training the classifier"
      ]
    },
    {
      "cell_type": "code",
      "metadata": {
        "colab": {
          "base_uri": "https://localhost:8080/"
        },
        "id": "DHDdmOgCuo_P",
        "outputId": "d7a930a0-a2c9-469a-a391-b6c8f924b1b7"
      },
      "source": [
        "from sklearn.ensemble import VotingClassifier\n",
        "from sklearn.ensemble import GradientBoostingClassifier\n",
        "from sklearn.ensemble import AdaBoostClassifier\n",
        "from sklearn.tree import DecisionTreeClassifier\n",
        "from sklearn.neighbors import KNeighborsClassifier\n",
        "from xgboost import XGBClassifier\n",
        "from joblib import dump, load\n",
        "from google.colab import files\n",
        "from scipy.stats import uniform, randint\n",
        " \n",
        "try:\n",
        "  clf_GS = load('anomaly-4G-detection/xgb_model.joblib') \n",
        "  training = False\n",
        "  \n",
        "except:\n",
        "  training = True\n",
        "  pipe = Pipeline(steps=[('std_slc', StandardScaler()),\n",
        "                         ('xgb_clf', XGBClassifier(random_state=1,\n",
        "                                                      scale_pos_weight=7,\n",
        "                                                      colsample_bytree= 0.053381469489678104,\n",
        "                                                      eta= 0.20289460663803338,\n",
        "                                                      gamma= 0.88723107873764,\n",
        "                                                      learning_rate= 0.15455380920536027,\n",
        "                                                      max_depth= 26,\n",
        "                                                      min_child_weight= 1,\n",
        "                                                      n_estimators= 565,\n",
        "                                                      subsample= 0.9738168894035317))])\n",
        "  \n",
        "  parameters = {\n",
        "  # 'xgb_clf__eta'    : uniform(0.2, 0.35),\n",
        "  # \"xgb_clf__colsample_bytree\": uniform(0.05, 0.2),\n",
        "  # \"xgb_clf__min_child_weight\": randint(1, 5),\n",
        "  # \"xgb_clf__gamma\": uniform(0.35, 0.6),\n",
        "  # \"xgb_clf__learning_rate\": uniform(0.1, 0.3), # default 0.1 \n",
        "  # \"xgb_clf__max_depth\": randint(10, 30), # default 3\n",
        "  # \"xgb_clf__n_estimators\": randint(500, 1000), # default 100\n",
        "  # \"xgb_clf__subsample\": uniform(0.6, 0.99)\n",
        "  }\n",
        "\n",
        "  #clf_GS = RandomizedSearchCV(estimator=pipe, param_distributions=parameters, n_jobs=10, verbose=1, cv=5, n_iter= 500)\n",
        "  clf_GS = RandomizedSearchCV(estimator=pipe, param_distributions=parameters, n_jobs=10, verbose=1, cv=3, n_iter= 1)\n",
        "  clf_GS.fit(X_train, y_train)\n",
        "\n",
        "  #Save the model in a file and download locally.\n",
        "  # dump(clf_GS, 'xgb_model.joblib')\n",
        "  # files.download('xgb_model.joblib') \n",
        "  "
      ],
      "execution_count": null,
      "outputs": [
        {
          "output_type": "stream",
          "text": [
            "Fitting 3 folds for each of 1 candidates, totalling 3 fits\n"
          ],
          "name": "stdout"
        },
        {
          "output_type": "stream",
          "text": [
            "[Parallel(n_jobs=10)]: Using backend LokyBackend with 10 concurrent workers.\n",
            "[Parallel(n_jobs=10)]: Done   3 out of   3 | elapsed:   23.0s finished\n"
          ],
          "name": "stderr"
        }
      ]
    },
    {
      "cell_type": "code",
      "metadata": {
        "id": "SAXZglsQd2Pf"
      },
      "source": [
        "clf_GS.best_params_"
      ],
      "execution_count": null,
      "outputs": []
    },
    {
      "cell_type": "markdown",
      "metadata": {
        "id": "uh-ClFCAeCzs"
      },
      "source": [
        "### Select features from model"
      ]
    },
    {
      "cell_type": "code",
      "metadata": {
        "colab": {
          "base_uri": "https://localhost:8080/"
        },
        "id": "fAZGYxcSfbZO",
        "outputId": "15a3b908-9844-4efe-95e1-a4815ebd1c3d"
      },
      "source": [
        "from sklearn.feature_selection import SelectFromModel\n",
        "\n",
        "if training:\n",
        "\n",
        "  treshold_train_error = []\n",
        "  treshold_val_error = []\n",
        "\n",
        "\n",
        "  thresholds = np.sort(clf_GS.best_estimator_.named_steps[\"xgb_clf\"].feature_importances_)\n",
        "\n",
        "  i = 0\n",
        "  current_error = 100.0\n",
        "  best_th = 0\n",
        "  for thresh in thresholds:\n",
        "    new_X_train = X_train\n",
        "    selection = SelectFromModel(clf_GS.best_estimator_.named_steps[\"xgb_clf\"], threshold=thresh, prefit=True)\n",
        "    select_X_train = selection.transform(new_X_train)\n",
        "    if select_X_train.shape[1] == 3:\n",
        "      best_transformation = select_X_train\n",
        "    # print(select_X_train)\n",
        "    # print(select_X_train.shape)\n",
        "    # print(\"\\n------------------\\n\")\n",
        "\n",
        "    selection_model = RandomizedSearchCV(estimator=pipe, param_distributions=parameters, n_jobs=10, cv=3, n_iter= 1)\n",
        "    selection_model.fit(select_X_train, y_train)\n",
        "    \n",
        " \n",
        "    pred_train = selection_model.predict(select_X_train)\n",
        "    select_X_val = selection.transform(X_validation)\n",
        "    pred_val = selection_model.predict(select_X_val)\n",
        "    \n",
        "    i = i + 1\n",
        "\n",
        "    train_error = 1. - accuracy_score(y_train, pred_train)    \n",
        "    train_cmat = confusion_matrix(y_train, pred_train)\n",
        "    val_error = 1. - accuracy_score(y_validation, pred_val)\n",
        "    val_cmat = confusion_matrix(y_validation, pred_val)\n",
        "\n",
        "    treshold_train_error.append(train_error)\n",
        "    treshold_val_error.append(val_error)\n",
        "\n",
        "    print(\"\\nThreshold of value %f\" % thresh)\n",
        "    print(\"--------------------------------\")\n",
        "    print('\\ntrain error: %f ' % train_error)\n",
        "    print('train confusion matrix:')\n",
        "    print(train_cmat)\n",
        "    print('\\ntest error: %f ' % val_error)\n",
        "    print('test confusion matrix:')\n",
        "    print(val_cmat)\n",
        "    print(\"\\n\")\n",
        "\n",
        "    if val_error < current_error:\n",
        "      current_error = val_error\n",
        "      best_th = thresh"
      ],
      "execution_count": null,
      "outputs": [
        {
          "output_type": "stream",
          "text": [
            "\n",
            "Threshold of value 0.005312\n",
            "--------------------------------\n",
            "\n",
            "train error: 0.000000 \n",
            "train confusion matrix:\n",
            "[[21377     0]\n",
            " [    0  8146]]\n",
            "\n",
            "test error: 0.003658 \n",
            "test confusion matrix:\n",
            "[[5340    4]\n",
            " [  23 2014]]\n",
            "\n",
            "\n",
            "\n",
            "Threshold of value 0.005552\n",
            "--------------------------------\n",
            "\n",
            "train error: 0.000000 \n",
            "train confusion matrix:\n",
            "[[21377     0]\n",
            " [    0  8146]]\n",
            "\n",
            "test error: 0.003523 \n",
            "test confusion matrix:\n",
            "[[5339    5]\n",
            " [  21 2016]]\n",
            "\n",
            "\n",
            "\n",
            "Threshold of value 0.008172\n",
            "--------------------------------\n",
            "\n",
            "train error: 0.000000 \n",
            "train confusion matrix:\n",
            "[[21377     0]\n",
            " [    0  8146]]\n",
            "\n",
            "test error: 0.003252 \n",
            "test confusion matrix:\n",
            "[[5339    5]\n",
            " [  19 2018]]\n",
            "\n",
            "\n",
            "\n",
            "Threshold of value 0.009224\n",
            "--------------------------------\n",
            "\n",
            "train error: 0.000000 \n",
            "train confusion matrix:\n",
            "[[21377     0]\n",
            " [    0  8146]]\n",
            "\n",
            "test error: 0.002710 \n",
            "test confusion matrix:\n",
            "[[5341    3]\n",
            " [  17 2020]]\n",
            "\n",
            "\n",
            "\n",
            "Threshold of value 0.011679\n",
            "--------------------------------\n",
            "\n",
            "train error: 0.000034 \n",
            "train confusion matrix:\n",
            "[[21376     1]\n",
            " [    0  8146]]\n",
            "\n",
            "test error: 0.003116 \n",
            "test confusion matrix:\n",
            "[[5340    4]\n",
            " [  19 2018]]\n",
            "\n",
            "\n",
            "\n",
            "Threshold of value 0.013926\n",
            "--------------------------------\n",
            "\n",
            "train error: 0.000034 \n",
            "train confusion matrix:\n",
            "[[21376     1]\n",
            " [    0  8146]]\n",
            "\n",
            "test error: 0.002439 \n",
            "test confusion matrix:\n",
            "[[5340    4]\n",
            " [  14 2023]]\n",
            "\n",
            "\n",
            "\n",
            "Threshold of value 0.035226\n",
            "--------------------------------\n",
            "\n",
            "train error: 0.000034 \n",
            "train confusion matrix:\n",
            "[[21376     1]\n",
            " [    0  8146]]\n",
            "\n",
            "test error: 0.002981 \n",
            "test confusion matrix:\n",
            "[[5338    6]\n",
            " [  16 2021]]\n",
            "\n",
            "\n",
            "\n",
            "Threshold of value 0.044610\n",
            "--------------------------------\n",
            "\n",
            "train error: 0.000068 \n",
            "train confusion matrix:\n",
            "[[21375     2]\n",
            " [    0  8146]]\n",
            "\n",
            "test error: 0.003387 \n",
            "test confusion matrix:\n",
            "[[5339    5]\n",
            " [  20 2017]]\n",
            "\n",
            "\n",
            "\n",
            "Threshold of value 0.047895\n",
            "--------------------------------\n",
            "\n",
            "train error: 0.000034 \n",
            "train confusion matrix:\n",
            "[[21376     1]\n",
            " [    0  8146]]\n",
            "\n",
            "test error: 0.003252 \n",
            "test confusion matrix:\n",
            "[[5338    6]\n",
            " [  18 2019]]\n",
            "\n",
            "\n",
            "\n",
            "Threshold of value 0.066095\n",
            "--------------------------------\n",
            "\n",
            "train error: 0.000102 \n",
            "train confusion matrix:\n",
            "[[21374     3]\n",
            " [    0  8146]]\n",
            "\n",
            "test error: 0.002574 \n",
            "test confusion matrix:\n",
            "[[5338    6]\n",
            " [  13 2024]]\n",
            "\n",
            "\n",
            "\n",
            "Threshold of value 0.070109\n",
            "--------------------------------\n",
            "\n",
            "train error: 0.000068 \n",
            "train confusion matrix:\n",
            "[[21375     2]\n",
            " [    0  8146]]\n",
            "\n",
            "test error: 0.002439 \n",
            "test confusion matrix:\n",
            "[[5340    4]\n",
            " [  14 2023]]\n",
            "\n",
            "\n",
            "\n",
            "Threshold of value 0.098573\n",
            "--------------------------------\n",
            "\n",
            "train error: 0.000000 \n",
            "train confusion matrix:\n",
            "[[21377     0]\n",
            " [    0  8146]]\n",
            "\n",
            "test error: 0.002439 \n",
            "test confusion matrix:\n",
            "[[5340    4]\n",
            " [  14 2023]]\n",
            "\n",
            "\n",
            "\n",
            "Threshold of value 0.126091\n",
            "--------------------------------\n",
            "\n",
            "train error: 0.012228 \n",
            "train confusion matrix:\n",
            "[[21365    12]\n",
            " [  349  7797]]\n",
            "\n",
            "test error: 0.015987 \n",
            "test confusion matrix:\n",
            "[[5336    8]\n",
            " [ 110 1927]]\n",
            "\n",
            "\n",
            "\n",
            "Threshold of value 0.457537\n",
            "--------------------------------\n",
            "\n",
            "train error: 0.017647 \n",
            "train confusion matrix:\n",
            "[[21201   176]\n",
            " [  345  7801]]\n",
            "\n",
            "test error: 0.020051 \n",
            "test confusion matrix:\n",
            "[[5303   41]\n",
            " [ 107 1930]]\n",
            "\n",
            "\n"
          ],
          "name": "stdout"
        }
      ]
    },
    {
      "cell_type": "code",
      "metadata": {
        "colab": {
          "base_uri": "https://localhost:8080/",
          "height": 279
        },
        "id": "1Jyq8XXagsIj",
        "outputId": "70a8b9d1-d5ff-44a2-ec59-0e9bd7c2a0e6"
      },
      "source": [
        "  fig, ax = plt.subplots()\n",
        "  ax.plot(thresholds, treshold_train_error, label='training')\n",
        "  ax.plot(thresholds, treshold_val_error, label='validation')\n",
        "  ax.set(xlabel='Threshold', ylabel='Error')\n",
        "  ax.legend()  \n",
        "  plt.show()"
      ],
      "execution_count": null,
      "outputs": [
        {
          "output_type": "display_data",
          "data": {
            "image/png": "[encoded data removed]",
            "text/plain": [
              "<Figure size 432x288 with 1 Axes>"
            ]
          },
          "metadata": {
            "tags": [],
            "needs_background": "light"
          }
        }
      ]
    },
    {
      "cell_type": "code",
      "metadata": {
        "colab": {
          "base_uri": "https://localhost:8080/",
          "height": 285
        },
        "id": "N22Kgd4htU6U",
        "outputId": "a2a61579-2740-4e44-b678-3169890ad9cc"
      },
      "source": [
        "  print('Best th:', best_th)\n",
        "  print('current error :', current_error)\n",
        "\n",
        "  \n",
        "  #TODO plot best estimator\n",
        "  colors=['green' if l==0 else 'red' for l in y_train]\n",
        "  fig = plt.figure()\n",
        "  ax = fig.add_subplot(111, projection='3d')\n",
        "  ax.scatter(best_transformation[:,0], best_transformation[:, 1], best_transformation[:, 2], s=4, alpha=1,color=colors)\n",
        "  \n",
        "  plt.title('Best-Performance Feature Reduction')\n",
        "  plt.show()"
      ],
      "execution_count": null,
      "outputs": [
        {
          "output_type": "stream",
          "text": [
            "Best th: 0.013926399\n",
            "current error : 0.002438693943910053\n"
          ],
          "name": "stdout"
        },
        {
          "output_type": "display_data",
          "data": {
            "image/png": "[encoded data removed]",
            "text/plain": [
              "<Figure size 432x288 with 1 Axes>"
            ]
          },
          "metadata": {
            "tags": [],
            "needs_background": "light"
          }
        }
      ]
    },
    {
      "cell_type": "code",
      "metadata": {
        "colab": {
          "base_uri": "https://localhost:8080/",
          "height": 346
        },
        "id": "IpZ00dbOhSv2",
        "outputId": "dc4a7015-a49e-4217-cf95-25d76ee8b7bf"
      },
      "source": [
        "  feature_importances = clf_GS.best_estimator_.named_steps[\"xgb_clf\"].feature_importances_\n",
        "  columns = ['SineTime', 'CosineTime', 'CellName', 'PRBUsageUL', 'PRBUsageDL', 'meanThr_DL', 'meanThr_UL', 'maxThr_DL', 'maxThr_UL', 'meanUE_DL', 'meanUE_UL', 'maxUE_DL', 'maxUE_UL', 'maxUE_UL+DL']\n",
        "\n",
        "  fig = plt.figure() \n",
        "  plt.bar(np.arange(14) , feature_importances, align='center', alpha=0.5)\n",
        "  plt.xticks(np.arange(14), columns, rotation='vertical')\n",
        "  plt.ylabel('Normalized Importance')\n",
        "  plt.title('Feature Importance')\n",
        "  plt.show()"
      ],
      "execution_count": null,
      "outputs": [
        {
          "output_type": "display_data",
          "data": {
            "image/png": "[encoded data removed]",
            "text/plain": [
              "<Figure size 432x288 with 1 Axes>"
            ]
          },
          "metadata": {
            "tags": [],
            "needs_background": "light"
          }
        }
      ]
    },
    {
      "cell_type": "code",
      "metadata": {
        "colab": {
          "background_save": true
        },
        "id": "hrbsXcTbgboA",
        "outputId": "433a15dd-859c-4d15-87bf-041fb2bf7136"
      },
      "source": [
        "  from sklearn.feature_selection import SelectFromModel\n",
        "  #print(clf_GS.best_estimator_.named_steps[\"xgb_clf\"].feature_importances_)\n",
        "  #print(clf_GS.best_estimator_.named_steps[\"xgb_clf\"].get_booster().get_fscore())\n",
        "  # TODO plot de importancia features\n",
        "\n",
        "  # thresholds = np.sort(clf_GS.best_estimator_.named_steps[\"xgb_clf\"].feature_importances_)\n",
        "  # print(thresholds)\n",
        "\n",
        "  new_X_train = X_train\n",
        "  selection = SelectFromModel(clf_GS.best_estimator_.named_steps[\"xgb_clf\"], threshold=best_th , prefit=True)\n",
        "  select_X_train = selection.transform(new_X_train)\n",
        "\n",
        "  selection_model = RandomizedSearchCV(estimator=pipe, param_distributions=parameters, n_jobs=10, verbose=1, cv=3, n_iter= 1)\n",
        "  selection_model.fit(select_X_train, y_train)\n",
        "\n",
        "  dump(clf_GS, 'best_th_feature_model.joblib')\n",
        "  files.download('best_th_feature_model.joblib')\n",
        "\n",
        "  pred_train = selection_model.predict(select_X_train)\n",
        "  select_X_val = selection.transform(X_validation)\n",
        "  pred_val = selection_model.predict(select_X_val)\n",
        "\n",
        "  train_error = 1. - accuracy_score(y_train, pred_train)\n",
        "  train_cmat = confusion_matrix(y_train, pred_train)\n",
        "  val_error = 1. - accuracy_score(y_validation, pred_val)\n",
        "  val_cmat = confusion_matrix(y_validation, pred_val)\n",
        "\n",
        "  print(\"\\nThreshold of value %f\" % thresh)\n",
        "  print(\"--------------------------------\")\n",
        "  print('\\ntrain error: %f ' % train_error)\n",
        "  print('train confusion matrix:')\n",
        "  print(train_cmat)\n",
        "  print('\\ntest error: %f ' % val_error)\n",
        "  print('test confusion matrix:')\n",
        "  print(val_cmat)\n",
        "  print(\"\\n\")"
      ],
      "execution_count": null,
      "outputs": [
        {
          "output_type": "stream",
          "text": [
            "Fitting 3 folds for each of 1 candidates, totalling 3 fits\n"
          ],
          "name": "stdout"
        },
        {
          "output_type": "stream",
          "text": [
            "[Parallel(n_jobs=10)]: Using backend LokyBackend with 10 concurrent workers.\n",
            "[Parallel(n_jobs=10)]: Done   3 out of   3 | elapsed:   19.4s finished\n"
          ],
          "name": "stderr"
        },
        {
          "output_type": "display_data",
          "data": {
            "application/javascript": [
              "\n",
              "    async function download(id, filename, size) {\n",
              "      if (!google.colab.kernel.accessAllowed) {\n",
              "        return;\n",
              "      }\n",
              "      const div = document.createElement('div');\n",
              "      const label = document.createElement('label');\n",
              "      label.textContent = `Downloading \"${filename}\": `;\n",
              "      div.appendChild(label);\n",
              "      const progress = document.createElement('progress');\n",
              "      progress.max = size;\n",
              "      div.appendChild(progress);\n",
              "      document.body.appendChild(div);\n",
              "\n",
              "      const buffers = [];\n",
              "      let downloaded = 0;\n",
              "\n",
              "      const channel = await google.colab.kernel.comms.open(id);\n",
              "      // Send a message to notify the kernel that we're ready.\n",
              "      channel.send({})\n",
              "\n",
              "      for await (const message of channel.messages) {\n",
              "        // Send a message to notify the kernel that we're ready.\n",
              "        channel.send({})\n",
              "        if (message.buffers) {\n",
              "          for (const buffer of message.buffers) {\n",
              "            buffers.push(buffer);\n",
              "            downloaded += buffer.byteLength;\n",
              "            progress.value = downloaded;\n",
              "          }\n",
              "        }\n",
              "      }\n",
              "      const blob = new Blob(buffers, {type: 'application/binary'});\n",
              "      const a = document.createElement('a');\n",
              "      a.href = window.URL.createObjectURL(blob);\n",
              "      a.download = filename;\n",
              "      div.appendChild(a);\n",
              "      a.click();\n",
              "      div.remove();\n",
              "    }\n",
              "  "
            ],
            "text/plain": [
              "<IPython.core.display.Javascript object>"
            ]
          },
          "metadata": {
            "tags": []
          }
        },
        {
          "output_type": "display_data",
          "data": {
            "application/javascript": [
              "download(\"download_7af1d1c1-a102-49d0-9c0a-1963b16ee062\", \"best_th_feature_model.joblib\", 4015546)"
            ],
            "text/plain": [
              "<IPython.core.display.Javascript object>"
            ]
          },
          "metadata": {
            "tags": []
          }
        },
        {
          "output_type": "stream",
          "text": [
            "\n",
            "Threshold of value 0.452660\n",
            "--------------------------------\n",
            "\n",
            "train error: 0.000034 \n",
            "train confusion matrix:\n",
            "[[21376     1]\n",
            " [    0  8146]]\n",
            "\n",
            "test error: 0.002439 \n",
            "test confusion matrix:\n",
            "[[5340    4]\n",
            " [  14 2023]]\n",
            "\n",
            "\n"
          ],
          "name": "stdout"
        }
      ]
    },
    {
      "cell_type": "code",
      "metadata": {
        "colab": {
          "background_save": true
        },
        "id": "9Tbj-UBH5Piz"
      },
      "source": [
        "  #pred_test = clf_GS.predict(X_test)\n",
        "  select_X_test = selection.transform(X_test)\n",
        "  pred_test = selection_model.predict(select_X_test)"
      ],
      "execution_count": null,
      "outputs": []
    },
    {
      "cell_type": "code",
      "metadata": {
        "colab": {
          "background_save": true
        },
        "id": "gpbApf9QrM3X"
      },
      "source": [
        "if training == False:\n",
        "\n",
        "  pred_train = clf_GS.predict(X_train)\n",
        "  pred_val = clf_GS.predict(X_validation)\n",
        "\n",
        "  print(\"TRAINING\\n\" + classification_report(y_train, pred_train))\n",
        "  print(\"\\nTESTING\\n\" + classification_report(y_validation, pred_val))\n",
        "\n",
        "  train_error = 1. - accuracy_score(y_train, pred_train)\n",
        "  train_cmat = confusion_matrix(y_train, pred_train)\n",
        "  val_error = 1. - accuracy_score(y_validation, pred_val)\n",
        "  val_cmat = confusion_matrix(y_validation, pred_val)\n",
        "\n",
        "  print('train error: %f ' % train_error)\n",
        "  print('train confusion matrix:')\n",
        "  print(train_cmat)\n",
        "  print('test error: %f ' % val_error)\n",
        "  print('test confusion matrix:')\n",
        "  print(val_cmat)"
      ],
      "execution_count": null,
      "outputs": []
    },
    {
      "cell_type": "markdown",
      "metadata": {
        "id": "uMVDRYGJBkgO"
      },
      "source": [
        "# Submission Formatting"
      ]
    },
    {
      "cell_type": "code",
      "metadata": {
        "colab": {
          "background_save": true
        },
        "id": "3H-d7HbGA1I2",
        "outputId": "5d644e3d-3dca-494e-ee5e-25cff42d1c78"
      },
      "source": [
        "%%shell\n",
        "# Create submission file if it does not exists\n",
        "file=predictions.csv\n",
        "if [ ! -e \"$file\" ] ; then\n",
        "    touch anomaly-4G-detection/\"$file\"\n",
        "fi"
      ],
      "execution_count": null,
      "outputs": [
        {
          "output_type": "execute_result",
          "data": {
            "text/plain": [
              ""
            ]
          },
          "metadata": {
            "tags": []
          },
          "execution_count": 0
        }
      ]
    },
    {
      "cell_type": "code",
      "metadata": {
        "colab": {
          "background_save": true
        },
        "id": "U9CouZll67HG",
        "outputId": "143e67be-0e7a-4c1f-a93f-7926b21efe79"
      },
      "source": [
        "# Create index column in data frame object\n",
        "submission_dataframe = pd.DataFrame(np.arange(1, 9159), columns=['Id']) \n",
        "\n",
        "# Append predictions of test data as column\n",
        "submission_dataframe['Label'] = pred_test\n",
        "\n",
        "# Convert Data Frame object to CSV\n",
        "submission_dataframe.to_csv('predictions.csv', index=False)\n",
        "\n",
        "!mv predictions.csv anomaly-4G-detection/\n",
        "predictions = pd.read_csv('anomaly-4G-detection/predictions.csv')\n",
        "predictions"
      ],
      "execution_count": null,
      "outputs": [
        {
          "output_type": "execute_result",
          "data": {
            "text/html": [
              "<div>\n",
              "<style scoped>\n",
              "    .dataframe tbody tr th:only-of-type {\n",
              "        vertical-align: middle;\n",
              "    }\n",
              "\n",
              "    .dataframe tbody tr th {\n",
              "        vertical-align: top;\n",
              "    }\n",
              "\n",
              "    .dataframe thead th {\n",
              "        text-align: right;\n",
              "    }\n",
              "</style>\n",
              "<table border=\"1\" class=\"dataframe\">\n",
              "  <thead>\n",
              "    <tr style=\"text-align: right;\">\n",
              "      <th></th>\n",
              "      <th>Id</th>\n",
              "      <th>Label</th>\n",
              "    </tr>\n",
              "  </thead>\n",
              "  <tbody>\n",
              "    <tr>\n",
              "      <th>0</th>\n",
              "      <td>1</td>\n",
              "      <td>1</td>\n",
              "    </tr>\n",
              "    <tr>\n",
              "      <th>1</th>\n",
              "      <td>2</td>\n",
              "      <td>0</td>\n",
              "    </tr>\n",
              "    <tr>\n",
              "      <th>2</th>\n",
              "      <td>3</td>\n",
              "      <td>0</td>\n",
              "    </tr>\n",
              "    <tr>\n",
              "      <th>3</th>\n",
              "      <td>4</td>\n",
              "      <td>0</td>\n",
              "    </tr>\n",
              "    <tr>\n",
              "      <th>4</th>\n",
              "      <td>5</td>\n",
              "      <td>1</td>\n",
              "    </tr>\n",
              "    <tr>\n",
              "      <th>...</th>\n",
              "      <td>...</td>\n",
              "      <td>...</td>\n",
              "    </tr>\n",
              "    <tr>\n",
              "      <th>9153</th>\n",
              "      <td>9154</td>\n",
              "      <td>0</td>\n",
              "    </tr>\n",
              "    <tr>\n",
              "      <th>9154</th>\n",
              "      <td>9155</td>\n",
              "      <td>1</td>\n",
              "    </tr>\n",
              "    <tr>\n",
              "      <th>9155</th>\n",
              "      <td>9156</td>\n",
              "      <td>0</td>\n",
              "    </tr>\n",
              "    <tr>\n",
              "      <th>9156</th>\n",
              "      <td>9157</td>\n",
              "      <td>0</td>\n",
              "    </tr>\n",
              "    <tr>\n",
              "      <th>9157</th>\n",
              "      <td>9158</td>\n",
              "      <td>0</td>\n",
              "    </tr>\n",
              "  </tbody>\n",
              "</table>\n",
              "<p>9158 rows × 2 columns</p>\n",
              "</div>"
            ],
            "text/plain": [
              "        Id  Label\n",
              "0        1      1\n",
              "1        2      0\n",
              "2        3      0\n",
              "3        4      0\n",
              "4        5      1\n",
              "...    ...    ...\n",
              "9153  9154      0\n",
              "9154  9155      1\n",
              "9155  9156      0\n",
              "9156  9157      0\n",
              "9157  9158      0\n",
              "\n",
              "[9158 rows x 2 columns]"
            ]
          },
          "metadata": {
            "tags": []
          },
          "execution_count": 0
        }
      ]
    },
    {
      "cell_type": "code",
      "metadata": {
        "colab": {
          "background_save": true
        },
        "id": "pWZoB4CM4Qbo"
      },
      "source": [
        "#!rm anomaly-4G-detection/predictions.csv"
      ],
      "execution_count": null,
      "outputs": []
    },
    {
      "cell_type": "code",
      "metadata": {
        "colab": {
          "background_save": true
        },
        "id": "ASKJSoDN6Hhx",
        "outputId": "4302b70c-8741-4909-b611-b223df4385cc"
      },
      "source": [
        "#print(clf_GS.grid_scores_)"
      ],
      "execution_count": null,
      "outputs": [
        {
          "output_type": "execute_result",
          "data": {
            "text/plain": [
              "{}"
            ]
          },
          "metadata": {
            "tags": []
          },
          "execution_count": 0
        }
      ]
    }
  ]
}