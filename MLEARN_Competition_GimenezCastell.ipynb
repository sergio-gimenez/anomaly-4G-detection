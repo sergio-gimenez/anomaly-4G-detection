{
  "nbformat": 4,
  "nbformat_minor": 0,
  "metadata": {
    "colab": {
      "name": "MLEARN_Competition_GimenezCastell.ipynb",
      "provenance": [],
      "collapsed_sections": []
    },
    "kernelspec": {
      "name": "python3",
      "display_name": "Python 3"
    }
  },
  "cells": [
    {
      "cell_type": "code",
      "metadata": {
        "colab": {
          "base_uri": "https://localhost:8080/"
        },
        "id": "mvdFxXlkwPIz",
        "outputId": "13433865-d1cd-4fb6-c961-1f610a08c5ae"
      },
      "source": [
        "!git clone https://github.com/sergio-gimenez/anomaly-4G-detection"
      ],
      "execution_count": 1,
      "outputs": [
        {
          "output_type": "stream",
          "text": [
            "Cloning into 'anomaly-4G-detection'...\n",
            "remote: Enumerating objects: 7, done.\u001b[K\n",
            "remote: Counting objects: 100% (7/7), done.\u001b[K\n",
            "remote: Compressing objects: 100% (6/6), done.\u001b[K\n",
            "remote: Total 7 (delta 1), reused 7 (delta 1), pack-reused 0\u001b[K\n",
            "Unpacking objects: 100% (7/7), done.\n"
          ],
          "name": "stdout"
        }
      ]
    },
    {
      "cell_type": "code",
      "metadata": {
        "id": "HdfF9Rz4nS1i"
      },
      "source": [
        "import matplotlib.pyplot as plt\n",
        "import seaborn as sns\n",
        "import numpy as np\n",
        "import pandas as pd\n",
        "import os\n",
        "from sklearn.model_selection import train_test_split\n",
        "\n",
        "import sklearn.tree\n",
        "import sklearn.ensemble"
      ],
      "execution_count": 3,
      "outputs": []
    },
    {
      "cell_type": "code",
      "metadata": {
        "id": "EiO_tVqEtbhr"
      },
      "source": [
        "train = pd.read_csv('anomaly-4G-detection/ML-MATT-CompetitionQT2021_train.csv', sep=';')\n",
        "test = pd.read_csv('anomaly-4G-detection/ML-MATT-CompetitionQT2021_test.xls', sep=';' )"
      ],
      "execution_count": 4,
      "outputs": []
    },
    {
      "cell_type": "code",
      "metadata": {
        "colab": {
          "base_uri": "https://localhost:8080/",
          "height": 218
        },
        "id": "9QwRg0DavErc",
        "outputId": "83edb45b-df62-4145-a78f-b76dd420cf9e"
      },
      "source": [
        "train.head(5)"
      ],
      "execution_count": 5,
      "outputs": [
        {
          "output_type": "execute_result",
          "data": {
            "text/html": [
              "<div>\n",
              "<style scoped>\n",
              "    .dataframe tbody tr th:only-of-type {\n",
              "        vertical-align: middle;\n",
              "    }\n",
              "\n",
              "    .dataframe tbody tr th {\n",
              "        vertical-align: top;\n",
              "    }\n",
              "\n",
              "    .dataframe thead th {\n",
              "        text-align: right;\n",
              "    }\n",
              "</style>\n",
              "<table border=\"1\" class=\"dataframe\">\n",
              "  <thead>\n",
              "    <tr style=\"text-align: right;\">\n",
              "      <th></th>\n",
              "      <th>Time</th>\n",
              "      <th>CellName</th>\n",
              "      <th>PRBUsageUL</th>\n",
              "      <th>PRBUsageDL</th>\n",
              "      <th>meanThr_DL</th>\n",
              "      <th>meanThr_UL</th>\n",
              "      <th>maxThr_DL</th>\n",
              "      <th>maxThr_UL</th>\n",
              "      <th>meanUE_DL</th>\n",
              "      <th>meanUE_UL</th>\n",
              "      <th>maxUE_DL</th>\n",
              "      <th>maxUE_UL</th>\n",
              "      <th>maxUE_UL+DL</th>\n",
              "      <th>Unusual</th>\n",
              "    </tr>\n",
              "  </thead>\n",
              "  <tbody>\n",
              "    <tr>\n",
              "      <th>0</th>\n",
              "      <td>10:45</td>\n",
              "      <td>3BLTE</td>\n",
              "      <td>12.3848</td>\n",
              "      <td>1.4019</td>\n",
              "      <td>0.3927</td>\n",
              "      <td>0.0438</td>\n",
              "      <td>16.6522</td>\n",
              "      <td>0.6806</td>\n",
              "      <td>1.1293</td>\n",
              "      <td>1.0491</td>\n",
              "      <td>5</td>\n",
              "      <td>3</td>\n",
              "      <td>8</td>\n",
              "      <td>1</td>\n",
              "    </tr>\n",
              "    <tr>\n",
              "      <th>1</th>\n",
              "      <td>9:45</td>\n",
              "      <td>1BLTE</td>\n",
              "      <td>22.0438</td>\n",
              "      <td>2.0016</td>\n",
              "      <td>0.5620</td>\n",
              "      <td>0.2697</td>\n",
              "      <td>10.3994</td>\n",
              "      <td>1.1771</td>\n",
              "      <td>1.4480</td>\n",
              "      <td>1.1630</td>\n",
              "      <td>6</td>\n",
              "      <td>5</td>\n",
              "      <td>11</td>\n",
              "      <td>1</td>\n",
              "    </tr>\n",
              "    <tr>\n",
              "      <th>2</th>\n",
              "      <td>7:45</td>\n",
              "      <td>9BLTE</td>\n",
              "      <td>0.5105</td>\n",
              "      <td>0.4258</td>\n",
              "      <td>0.0152</td>\n",
              "      <td>0.0106</td>\n",
              "      <td>0.2755</td>\n",
              "      <td>0.1685</td>\n",
              "      <td>1.0379</td>\n",
              "      <td>1.0535</td>\n",
              "      <td>1</td>\n",
              "      <td>2</td>\n",
              "      <td>3</td>\n",
              "      <td>1</td>\n",
              "    </tr>\n",
              "    <tr>\n",
              "      <th>3</th>\n",
              "      <td>2:45</td>\n",
              "      <td>4ALTE</td>\n",
              "      <td>1.9963</td>\n",
              "      <td>1.1513</td>\n",
              "      <td>0.9908</td>\n",
              "      <td>0.0245</td>\n",
              "      <td>64.7465</td>\n",
              "      <td>0.8747</td>\n",
              "      <td>1.0766</td>\n",
              "      <td>1.0526</td>\n",
              "      <td>3</td>\n",
              "      <td>2</td>\n",
              "      <td>5</td>\n",
              "      <td>1</td>\n",
              "    </tr>\n",
              "    <tr>\n",
              "      <th>4</th>\n",
              "      <td>3:30</td>\n",
              "      <td>10BLTE</td>\n",
              "      <td>0.3030</td>\n",
              "      <td>0.4040</td>\n",
              "      <td>0.0160</td>\n",
              "      <td>0.0130</td>\n",
              "      <td>0.3480</td>\n",
              "      <td>0.1680</td>\n",
              "      <td>1.0110</td>\n",
              "      <td>1.0110</td>\n",
              "      <td>2</td>\n",
              "      <td>1</td>\n",
              "      <td>3</td>\n",
              "      <td>0</td>\n",
              "    </tr>\n",
              "  </tbody>\n",
              "</table>\n",
              "</div>"
            ],
            "text/plain": [
              "    Time CellName  PRBUsageUL  ...  maxUE_UL  maxUE_UL+DL  Unusual\n",
              "0  10:45    3BLTE     12.3848  ...         3            8        1\n",
              "1   9:45    1BLTE     22.0438  ...         5           11        1\n",
              "2   7:45    9BLTE      0.5105  ...         2            3        1\n",
              "3   2:45    4ALTE      1.9963  ...         2            5        1\n",
              "4   3:30   10BLTE      0.3030  ...         1            3        0\n",
              "\n",
              "[5 rows x 14 columns]"
            ]
          },
          "metadata": {
            "tags": []
          },
          "execution_count": 5
        }
      ]
    },
    {
      "cell_type": "code",
      "metadata": {
        "colab": {
          "base_uri": "https://localhost:8080/",
          "height": 198
        },
        "id": "314tKDgvv-k2",
        "outputId": "23030033-6736-448b-f92f-d82e8dce4cb3"
      },
      "source": [
        "test.head(5)"
      ],
      "execution_count": 6,
      "outputs": [
        {
          "output_type": "execute_result",
          "data": {
            "text/html": [
              "<div>\n",
              "<style scoped>\n",
              "    .dataframe tbody tr th:only-of-type {\n",
              "        vertical-align: middle;\n",
              "    }\n",
              "\n",
              "    .dataframe tbody tr th {\n",
              "        vertical-align: top;\n",
              "    }\n",
              "\n",
              "    .dataframe thead th {\n",
              "        text-align: right;\n",
              "    }\n",
              "</style>\n",
              "<table border=\"1\" class=\"dataframe\">\n",
              "  <thead>\n",
              "    <tr style=\"text-align: right;\">\n",
              "      <th></th>\n",
              "      <th>Time</th>\n",
              "      <th>CellName</th>\n",
              "      <th>PRBUsageUL</th>\n",
              "      <th>PRBUsageDL</th>\n",
              "      <th>meanThr_DL</th>\n",
              "      <th>meanThr_UL</th>\n",
              "      <th>maxThr_DL</th>\n",
              "      <th>maxThr_UL</th>\n",
              "      <th>meanUE_DL</th>\n",
              "      <th>meanUE_UL</th>\n",
              "      <th>maxUE_DL</th>\n",
              "      <th>maxUE_UL</th>\n",
              "      <th>maxUE_UL+DL</th>\n",
              "    </tr>\n",
              "  </thead>\n",
              "  <tbody>\n",
              "    <tr>\n",
              "      <th>0</th>\n",
              "      <td>3:00</td>\n",
              "      <td>6ALTE</td>\n",
              "      <td>3.8177</td>\n",
              "      <td>1.5251</td>\n",
              "      <td>0.5829</td>\n",
              "      <td>0.0445</td>\n",
              "      <td>23.1688</td>\n",
              "      <td>0.7669</td>\n",
              "      <td>1.0262</td>\n",
              "      <td>0.0100</td>\n",
              "      <td>3</td>\n",
              "      <td>3</td>\n",
              "      <td>6</td>\n",
              "    </tr>\n",
              "    <tr>\n",
              "      <th>1</th>\n",
              "      <td>20:30</td>\n",
              "      <td>6ULTE</td>\n",
              "      <td>2.0210</td>\n",
              "      <td>3.3350</td>\n",
              "      <td>0.5690</td>\n",
              "      <td>0.0750</td>\n",
              "      <td>29.2650</td>\n",
              "      <td>1.0490</td>\n",
              "      <td>1.3140</td>\n",
              "      <td>0.0100</td>\n",
              "      <td>6</td>\n",
              "      <td>3</td>\n",
              "      <td>9</td>\n",
              "    </tr>\n",
              "    <tr>\n",
              "      <th>2</th>\n",
              "      <td>11:30</td>\n",
              "      <td>2ALTE</td>\n",
              "      <td>0.5050</td>\n",
              "      <td>0.4040</td>\n",
              "      <td>0.0140</td>\n",
              "      <td>0.0100</td>\n",
              "      <td>0.2270</td>\n",
              "      <td>0.0970</td>\n",
              "      <td>1.0110</td>\n",
              "      <td>0.0100</td>\n",
              "      <td>2</td>\n",
              "      <td>1</td>\n",
              "      <td>3</td>\n",
              "    </tr>\n",
              "    <tr>\n",
              "      <th>3</th>\n",
              "      <td>6:45</td>\n",
              "      <td>3CLTE</td>\n",
              "      <td>1.0110</td>\n",
              "      <td>0.5050</td>\n",
              "      <td>0.2380</td>\n",
              "      <td>0.0210</td>\n",
              "      <td>20.9620</td>\n",
              "      <td>0.6090</td>\n",
              "      <td>1.0110</td>\n",
              "      <td>1.0110</td>\n",
              "      <td>2</td>\n",
              "      <td>1</td>\n",
              "      <td>3</td>\n",
              "    </tr>\n",
              "    <tr>\n",
              "      <th>4</th>\n",
              "      <td>15:45</td>\n",
              "      <td>6CLTE</td>\n",
              "      <td>4.0269</td>\n",
              "      <td>0.5104</td>\n",
              "      <td>0.0807</td>\n",
              "      <td>0.0414</td>\n",
              "      <td>3.9317</td>\n",
              "      <td>1.7811</td>\n",
              "      <td>1.0575</td>\n",
              "      <td>0.0107</td>\n",
              "      <td>3</td>\n",
              "      <td>2</td>\n",
              "      <td>5</td>\n",
              "    </tr>\n",
              "  </tbody>\n",
              "</table>\n",
              "</div>"
            ],
            "text/plain": [
              "    Time CellName  PRBUsageUL  ...  maxUE_DL  maxUE_UL  maxUE_UL+DL\n",
              "0   3:00    6ALTE      3.8177  ...         3         3            6\n",
              "1  20:30    6ULTE      2.0210  ...         6         3            9\n",
              "2  11:30    2ALTE      0.5050  ...         2         1            3\n",
              "3   6:45    3CLTE      1.0110  ...         2         1            3\n",
              "4  15:45    6CLTE      4.0269  ...         3         2            5\n",
              "\n",
              "[5 rows x 13 columns]"
            ]
          },
          "metadata": {
            "tags": []
          },
          "execution_count": 6
        }
      ]
    },
    {
      "cell_type": "code",
      "metadata": {
        "id": "1pQIAxp_wxGk",
        "colab": {
          "base_uri": "https://localhost:8080/"
        },
        "outputId": "90e4ff0d-34ad-4fef-ec64-bcbeaf720aae"
      },
      "source": [
        "X = train.drop('Unusual', axis='columns').to_numpy()\n",
        "y = train['Unusual'].to_numpy()\n",
        "X_train, X_validation, y_train, y_validation = train_test_split(X, y, train_size=0.8, random_state=1)\n",
        "X_test = test\n",
        "\n",
        "\n",
        "X"
      ],
      "execution_count": 7,
      "outputs": [
        {
          "output_type": "execute_result",
          "data": {
            "text/plain": [
              "array([['10:45', '3BLTE', 12.3848, ..., 5, 3, 8],\n",
              "       ['9:45', '1BLTE', 22.0438, ..., 6, 5, 11],\n",
              "       ['7:45', '9BLTE', 0.5105, ..., 1, 2, 3],\n",
              "       ...,\n",
              "       ['13:30', '9BLTE', 4.5128, ..., 4, 4, 8],\n",
              "       ['12:30', '3CLTE', 13.339, ..., 5, 4, 9],\n",
              "       ['15:45', '5BLTE', 22.231, ..., 6, 4, 10]], dtype=object)"
            ]
          },
          "metadata": {
            "tags": []
          },
          "execution_count": 7
        }
      ]
    }
  ]
}