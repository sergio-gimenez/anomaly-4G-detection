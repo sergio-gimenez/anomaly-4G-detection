{
  "nbformat": 4,
  "nbformat_minor": 0,
  "metadata": {
    "colab": {
      "name": "MLEARN_Competition_GimenezCastell.ipynb",
      "provenance": [],
      "collapsed_sections": [],
      "toc_visible": true
    },
    "kernelspec": {
      "name": "python3",
      "display_name": "Python 3"
    },
    "accelerator": "TPU"
  },
  "cells": [
    {
      "cell_type": "markdown",
      "metadata": {
        "id": "QzW43GdlCXoF"
      },
      "source": [
        "# Load Datasets"
      ]
    },
    {
      "cell_type": "code",
      "metadata": {
        "id": "HdfF9Rz4nS1i"
      },
      "source": [
        "import numpy as np\n",
        "import pandas as pd\n",
        "import os\n",
        "import math\n",
        "\n",
        "import sklearn.tree\n",
        "import sklearn.ensemble\n",
        "\n",
        "from sklearn.preprocessing import StandardScaler\n",
        "from sklearn.model_selection import train_test_split\n",
        "from sklearn.metrics import classification_report, accuracy_score, confusion_matrix\n",
        "from sklearn.pipeline import Pipeline\n",
        "from sklearn.model_selection import GridSearchCV, RandomizedSearchCV\n",
        "from sklearn.decomposition import PCA"
      ],
      "execution_count": 186,
      "outputs": []
    },
    {
      "cell_type": "code",
      "metadata": {
        "colab": {
          "base_uri": "https://localhost:8080/"
        },
        "id": "mvdFxXlkwPIz",
        "outputId": "58ed99ef-0f07-4da5-f6da-c007a628b24d"
      },
      "source": [
        "# Clone repository in order to get access locally to the datasets\n",
        "!rm -rf .git README.md\n",
        "!git clone -b playing-emsembled-methods https://github.com/sergio-gimenez/anomaly-4G-detection "
      ],
      "execution_count": 187,
      "outputs": [
        {
          "output_type": "stream",
          "text": [
            "fatal: destination path 'anomaly-4G-detection' already exists and is not an empty directory.\n"
          ],
          "name": "stdout"
        }
      ]
    },
    {
      "cell_type": "code",
      "metadata": {
        "id": "EiO_tVqEtbhr"
      },
      "source": [
        "train = pd.read_csv('anomaly-4G-detection/ML-MATT-CompetitionQT2021_train.csv', sep=';')\n",
        "test = pd.read_csv('anomaly-4G-detection/ML-MATT-CompetitionQT2021_test.xls', sep=';' )"
      ],
      "execution_count": 188,
      "outputs": []
    },
    {
      "cell_type": "code",
      "metadata": {
        "id": "1pQIAxp_wxGk",
        "colab": {
          "base_uri": "https://localhost:8080/"
        },
        "outputId": "76417e07-6ba6-4025-d9dc-76594b5171d9"
      },
      "source": [
        "# Separate labels from data \n",
        "X = train.drop('Unusual', axis='columns')#.to_numpy()\n",
        "y = train['Unusual']#.to_numpy()\n",
        "\n",
        "# We split the data into training and validation subsets (80% and 20%) in\n",
        "# order to validate our training\n",
        "X_train, X_validation, y_train, y_validation = train_test_split(X, y, \n",
        "                                                                train_size=0.8,\n",
        "                                                                random_state=1, stratify = y)\n",
        "X_test = test\n",
        "#X_train = X\n",
        "#y_train = y\n",
        "zeros = []\n",
        "ones = []\n",
        "for a in y_train:\n",
        "  if a == 0:\n",
        "    zeros.append(a)\n",
        "  else:\n",
        "    ones.append(1)\n",
        "print(len(zeros), len(ones), len(ones)+ len(zeros), y_train.shape)"
      ],
      "execution_count": 189,
      "outputs": [
        {
          "output_type": "stream",
          "text": [
            "21377 8146 29523 (29523,)\n"
          ],
          "name": "stdout"
        }
      ]
    },
    {
      "cell_type": "code",
      "metadata": {
        "id": "pkMgA0YsluhJ"
      },
      "source": [
        "#Refactor time feature to minuts and cellName to unique identifier 1:1\n",
        "def getTimeInMinutes(x):\n",
        "  hh, mm  = x.split(\":\")\n",
        "  return int(hh)* 60 + int(mm)\n",
        "\n",
        "def createCellNameDictionary(data):\n",
        "  cellList = []\n",
        "  for i in data[\"CellName\"]:\n",
        "    cellList.append(i)\n",
        "  cellList = set(cellList)\n",
        "  cellDict = {}\n",
        "  for idx, value in enumerate(cellList):\n",
        "    cellDict[value]=idx\n",
        "  return cellDict\n",
        "\n",
        "def refactorFeaturesDataframe(data):\n",
        "  #data[\"Time\"] = data[\"Time\"].apply(lambda x: getTimeInMinutes(x))\n",
        "  data[\"TimeCos\"] = data[\"Time\"].apply(lambda x: math.cos(getTimeInMinutes(x)*math.pi/(12*60)))\n",
        "  data[\"TimeSin\"] = data[\"Time\"].apply(lambda x: math.sin(getTimeInMinutes(x)*math.pi/(12*60)))\n",
        "  del data[\"Time\"]\n",
        "\n",
        "  cellNameDict = createCellNameDictionary(data);\n",
        "  data[\"CellName\"] = data[\"CellName\"].apply(lambda x: cellNameDict[x])\n",
        "  print(data.head())\n",
        "  return data\n"
      ],
      "execution_count": 190,
      "outputs": []
    },
    {
      "cell_type": "code",
      "metadata": {
        "id": "vIoTgjuA0yak",
        "colab": {
          "base_uri": "https://localhost:8080/"
        },
        "outputId": "8fe40e9e-69c5-4a9e-df23-868a715f06ff"
      },
      "source": [
        "#Refactoring data from features to useful values\n",
        "X_train = refactorFeaturesDataframe(X_train).to_numpy()\n",
        "y_train = y_train.to_numpy()\n",
        "\n",
        "\n",
        "X_validation = refactorFeaturesDataframe(X_validation).to_numpy()\n",
        "y_validation = y_validation.to_numpy()\n",
        "\n",
        "X_test = refactorFeaturesDataframe(test).to_numpy()"
      ],
      "execution_count": 191,
      "outputs": [
        {
          "output_type": "stream",
          "text": [
            "       CellName  PRBUsageUL  PRBUsageDL  ...  maxUE_UL+DL   TimeCos   TimeSin\n",
            "14974        19      22.837       2.728  ...           12 -0.991445  0.130526\n",
            "5318         27       7.377       1.011  ...            7 -0.442289  0.896873\n",
            "31338        20       0.101       0.808  ...            4  0.442289  0.896873\n",
            "22493        24       2.425       9.701  ...           10 -0.831470  0.555570\n",
            "27949        15      22.938       3.335  ...           12 -0.923880  0.382683\n",
            "\n",
            "[5 rows x 14 columns]\n",
            "       CellName  PRBUsageUL  PRBUsageDL  ...  maxUE_UL+DL   TimeCos   TimeSin\n",
            "11936        17      0.2020      0.5050  ...            5 -0.555570  0.831470\n",
            "23788        15      4.0413      1.2222  ...            7  0.500000  0.866025\n",
            "29595         0      0.2020      0.8080  ...            3 -0.130526  0.991445\n",
            "29759         9      3.3674      0.5049  ...            6  0.831470  0.555570\n",
            "33580        16     12.4290      1.1120  ...            7  0.321439 -0.946930\n",
            "\n",
            "[5 rows x 14 columns]\n",
            "   CellName  PRBUsageUL  PRBUsageDL  ...  maxUE_UL+DL   TimeCos   TimeSin\n",
            "0         7      3.8177      1.5251  ...            6  0.707107  0.707107\n",
            "1         0      2.0210      3.3350  ...            9  0.608761 -0.793353\n",
            "2        30      0.5050      0.4040  ...            3 -0.991445  0.130526\n",
            "3        18      1.0110      0.5050  ...            3 -0.195090  0.980785\n",
            "4         9      4.0269      0.5104  ...            5 -0.555570 -0.831470\n",
            "\n",
            "[5 rows x 14 columns]\n"
          ],
          "name": "stdout"
        },
        {
          "output_type": "stream",
          "text": [
            "/usr/local/lib/python3.6/dist-packages/ipykernel_launcher.py:18: SettingWithCopyWarning: \n",
            "A value is trying to be set on a copy of a slice from a DataFrame.\n",
            "Try using .loc[row_indexer,col_indexer] = value instead\n",
            "\n",
            "See the caveats in the documentation: https://pandas.pydata.org/pandas-docs/stable/user_guide/indexing.html#returning-a-view-versus-a-copy\n",
            "/usr/local/lib/python3.6/dist-packages/ipykernel_launcher.py:19: SettingWithCopyWarning: \n",
            "A value is trying to be set on a copy of a slice from a DataFrame.\n",
            "Try using .loc[row_indexer,col_indexer] = value instead\n",
            "\n",
            "See the caveats in the documentation: https://pandas.pydata.org/pandas-docs/stable/user_guide/indexing.html#returning-a-view-versus-a-copy\n",
            "/usr/local/lib/python3.6/dist-packages/ipykernel_launcher.py:23: SettingWithCopyWarning: \n",
            "A value is trying to be set on a copy of a slice from a DataFrame.\n",
            "Try using .loc[row_indexer,col_indexer] = value instead\n",
            "\n",
            "See the caveats in the documentation: https://pandas.pydata.org/pandas-docs/stable/user_guide/indexing.html#returning-a-view-versus-a-copy\n",
            "/usr/local/lib/python3.6/dist-packages/ipykernel_launcher.py:18: SettingWithCopyWarning: \n",
            "A value is trying to be set on a copy of a slice from a DataFrame.\n",
            "Try using .loc[row_indexer,col_indexer] = value instead\n",
            "\n",
            "See the caveats in the documentation: https://pandas.pydata.org/pandas-docs/stable/user_guide/indexing.html#returning-a-view-versus-a-copy\n",
            "/usr/local/lib/python3.6/dist-packages/ipykernel_launcher.py:19: SettingWithCopyWarning: \n",
            "A value is trying to be set on a copy of a slice from a DataFrame.\n",
            "Try using .loc[row_indexer,col_indexer] = value instead\n",
            "\n",
            "See the caveats in the documentation: https://pandas.pydata.org/pandas-docs/stable/user_guide/indexing.html#returning-a-view-versus-a-copy\n",
            "/usr/local/lib/python3.6/dist-packages/ipykernel_launcher.py:23: SettingWithCopyWarning: \n",
            "A value is trying to be set on a copy of a slice from a DataFrame.\n",
            "Try using .loc[row_indexer,col_indexer] = value instead\n",
            "\n",
            "See the caveats in the documentation: https://pandas.pydata.org/pandas-docs/stable/user_guide/indexing.html#returning-a-view-versus-a-copy\n"
          ],
          "name": "stderr"
        }
      ]
    },
    {
      "cell_type": "markdown",
      "metadata": {
        "id": "Wn4TROMqCcUY"
      },
      "source": [
        "# Solving the Classification Problem"
      ]
    },
    {
      "cell_type": "code",
      "metadata": {
        "id": "DHDdmOgCuo_P",
        "colab": {
          "base_uri": "https://localhost:8080/",
          "height": 68
        },
        "outputId": "f9e12398-ae6d-421f-f9b2-15dc87a78706"
      },
      "source": [
        "from sklearn.ensemble import VotingClassifier\n",
        "from sklearn.ensemble import GradientBoostingClassifier\n",
        "from sklearn.ensemble import AdaBoostClassifier\n",
        "from sklearn.tree import DecisionTreeClassifier\n",
        "from sklearn.neighbors import KNeighborsClassifier\n",
        "from xgboost import XGBClassifier\n",
        "from joblib import dump, load\n",
        "from google.colab import files\n",
        "from scipy.stats import uniform, randint\n",
        "\n",
        "#if performVoting == 'y':\n",
        "  \n",
        "try:\n",
        "  clf_GS = load('anomaly-4G-detection/voting_model.joblib') \n",
        "\n",
        "except:\n",
        "  voting_clf = VotingClassifier( estimators=[ \n",
        "      ('xgb', XGBClassifier(random_state=1)),\n",
        "      ('dt', DecisionTreeClassifier(random_state=1)),\n",
        "      ('knn', KNeighborsClassifier())\n",
        "      ], voting='soft')\n",
        "\n",
        "  def xgb_f1(y, t, threshold=0.5):\n",
        "    t = t.get_label()\n",
        "    y_bin = (y > threshold).astype(int) # works for both type(y) == <class 'numpy.ndarray'> and type(y) == <class 'pandas.core.series.Series'>\n",
        "    return 'f1',f1_score(t,y_bin)\n",
        "\n",
        "  pipe = Pipeline(steps=[('std_slc', StandardScaler()),\n",
        "                         ('voting_clf', XGBClassifier(random_state=1,\n",
        "                                                      scale_pos_weight=7,\n",
        "                                                      colsample_bytree= 0.053381469489678104,\n",
        "                                                      eta= 0.20289460663803338,\n",
        "                                                      gamma= 0.88723107873764,\n",
        "                                                      learning_rate= 0.15455380920536027,\n",
        "                                                      max_depth= 26,\n",
        "                                                      min_child_weight= 1,\n",
        "                                                      n_estimators= 565,\n",
        "                                                      subsample= 0.9738168894035317))])\n",
        "  \n",
        "  parameters = {\n",
        "  # 'voting_clf__eta'    : uniform(0.2, 0.35),\n",
        "  # \"voting_clf__colsample_bytree\": uniform(0.05, 0.2),\n",
        "  # \"voting_clf__min_child_weight\": randint(1, 5),\n",
        "  # \"voting_clf__gamma\": uniform(0.35, 0.6),\n",
        "  # \"voting_clf__learning_rate\": uniform(0.1, 0.3), # default 0.1 \n",
        "  # \"voting_clf__max_depth\": randint(10, 30), # default 3\n",
        "  # \"voting_clf__n_estimators\": randint(500, 1000), # default 100\n",
        "  # \"voting_clf__subsample\": uniform(0.6, 0.99)\n",
        "  }\n",
        "\n",
        "  # grid_params = {\n",
        "  # \"voting_clf__colsample_bytree\": [0.1, 0.2],\n",
        "  # \"voting_clf__min_child_weight\": [1],\n",
        "  # \"voting_clf__gamma\": [0.35, 0.4, 0.5],\n",
        "  # \"voting_clf__learning_rate\": [0.15, 0.2, 0.3], # default 0.1 \n",
        "  # \"voting_clf__max_depth\": [15, 19, 21], # default 3\n",
        "  # \"voting_clf__n_estimators\": [600, 700, 800], # default 100\n",
        "  # \"voting_clf__subsample\": [0.932]\n",
        "  # }\n",
        "\n",
        "  # parameters = {'voting_clf__colsample_bytree': 0.053381469489678104,\n",
        "  # 'voting_clf__eta': 0.20289460663803338,\n",
        "  # 'voting_clf__gamma': 0.88723107873764,\n",
        "  # 'voting_clf__learning_rate': 0.15455380920536027,\n",
        "  # 'voting_clf__max_depth': 26,\n",
        "  # 'voting_clf__min_child_weight': 1,\n",
        "  # 'voting_clf__n_estimators': 565,\n",
        "  # 'voting_clf__subsample': 0.9738168894035317}\n",
        "\n",
        "  #clf_GS = GridSearchCV(estimator=pipe, param_grid=grid_params, n_jobs=10, verbose=1, cv=3 )\n",
        "  clf_GS = RandomizedSearchCV(estimator=pipe, param_distributions=parameters, n_jobs=10, verbose=1, cv=3, n_iter= 1)\n",
        "  clf_GS.fit(X_train, y_train)\n",
        "\n",
        "  #Save the model in a file and download locally.\n",
        "  dump(clf_GS, 'voting_model.joblib')\n",
        "  files.download('voting_model.joblib') "
      ],
      "execution_count": 192,
      "outputs": [
        {
          "output_type": "stream",
          "text": [
            "Fitting 3 folds for each of 1 candidates, totalling 3 fits\n"
          ],
          "name": "stdout"
        },
        {
          "output_type": "stream",
          "text": [
            "[Parallel(n_jobs=10)]: Using backend LokyBackend with 10 concurrent workers.\n",
            "[Parallel(n_jobs=10)]: Done   3 out of   3 | elapsed:   26.1s finished\n"
          ],
          "name": "stderr"
        },
        {
          "output_type": "display_data",
          "data": {
            "application/javascript": [
              "\n",
              "    async function download(id, filename, size) {\n",
              "      if (!google.colab.kernel.accessAllowed) {\n",
              "        return;\n",
              "      }\n",
              "      const div = document.createElement('div');\n",
              "      const label = document.createElement('label');\n",
              "      label.textContent = `Downloading \"${filename}\": `;\n",
              "      div.appendChild(label);\n",
              "      const progress = document.createElement('progress');\n",
              "      progress.max = size;\n",
              "      div.appendChild(progress);\n",
              "      document.body.appendChild(div);\n",
              "\n",
              "      const buffers = [];\n",
              "      let downloaded = 0;\n",
              "\n",
              "      const channel = await google.colab.kernel.comms.open(id);\n",
              "      // Send a message to notify the kernel that we're ready.\n",
              "      channel.send({})\n",
              "\n",
              "      for await (const message of channel.messages) {\n",
              "        // Send a message to notify the kernel that we're ready.\n",
              "        channel.send({})\n",
              "        if (message.buffers) {\n",
              "          for (const buffer of message.buffers) {\n",
              "            buffers.push(buffer);\n",
              "            downloaded += buffer.byteLength;\n",
              "            progress.value = downloaded;\n",
              "          }\n",
              "        }\n",
              "      }\n",
              "      const blob = new Blob(buffers, {type: 'application/binary'});\n",
              "      const a = document.createElement('a');\n",
              "      a.href = window.URL.createObjectURL(blob);\n",
              "      a.download = filename;\n",
              "      div.appendChild(a);\n",
              "      a.click();\n",
              "      div.remove();\n",
              "    }\n",
              "  "
            ],
            "text/plain": [
              "<IPython.core.display.Javascript object>"
            ]
          },
          "metadata": {
            "tags": []
          }
        },
        {
          "output_type": "display_data",
          "data": {
            "application/javascript": [
              "download(\"download_ac8cbc6a-155e-4f32-83b2-700104add24e\", \"voting_model.joblib\", 4064678)"
            ],
            "text/plain": [
              "<IPython.core.display.Javascript object>"
            ]
          },
          "metadata": {
            "tags": []
          }
        }
      ]
    },
    {
      "cell_type": "code",
      "metadata": {
        "id": "F6XZezYqNpOh"
      },
      "source": [
        "pred_train = clf_GS.predict(X_train)\n",
        "pred_val = clf_GS.predict(X_validation)"
      ],
      "execution_count": 193,
      "outputs": []
    },
    {
      "cell_type": "code",
      "metadata": {
        "id": "luMnqSly3KZq",
        "colab": {
          "base_uri": "https://localhost:8080/"
        },
        "outputId": "763b88c7-58ff-4e9c-bd14-6c442e41105b"
      },
      "source": [
        "print(\"TRAINING\\n\" + classification_report(y_train, pred_train))\n",
        "print(\"\\nTESTING\\n\" + classification_report(y_validation, pred_val))"
      ],
      "execution_count": 194,
      "outputs": [
        {
          "output_type": "stream",
          "text": [
            "TRAINING\n",
            "              precision    recall  f1-score   support\n",
            "\n",
            "           0       1.00      1.00      1.00     21377\n",
            "           1       1.00      1.00      1.00      8146\n",
            "\n",
            "    accuracy                           1.00     29523\n",
            "   macro avg       1.00      1.00      1.00     29523\n",
            "weighted avg       1.00      1.00      1.00     29523\n",
            "\n",
            "\n",
            "TESTING\n",
            "              precision    recall  f1-score   support\n",
            "\n",
            "           0       1.00      1.00      1.00      5344\n",
            "           1       1.00      0.99      0.99      2037\n",
            "\n",
            "    accuracy                           1.00      7381\n",
            "   macro avg       1.00      0.99      1.00      7381\n",
            "weighted avg       1.00      1.00      1.00      7381\n",
            "\n"
          ],
          "name": "stdout"
        }
      ]
    },
    {
      "cell_type": "code",
      "metadata": {
        "id": "VJ3k3xOb3j2U",
        "colab": {
          "base_uri": "https://localhost:8080/"
        },
        "outputId": "6b2b4c27-563d-4e5b-f731-4f3fcb1d063c"
      },
      "source": [
        "train_error = 1. - accuracy_score(y_train, pred_train)\n",
        "train_cmat = confusion_matrix(y_train, pred_train)\n",
        "val_error = 1. - accuracy_score(y_validation, pred_val)\n",
        "val_cmat = confusion_matrix(y_validation, pred_val)\n",
        "\n",
        "print('train error: %f ' % train_error)\n",
        "print('train confusion matrix:')\n",
        "print(train_cmat)\n",
        "print('test error: %f ' % val_error)\n",
        "print('test confusion matrix:')\n",
        "print(val_cmat)"
      ],
      "execution_count": 195,
      "outputs": [
        {
          "output_type": "stream",
          "text": [
            "train error: 0.000000 \n",
            "train confusion matrix:\n",
            "[[21377     0]\n",
            " [    0  8146]]\n",
            "test error: 0.003658 \n",
            "test confusion matrix:\n",
            "[[5340    4]\n",
            " [  23 2014]]\n"
          ],
          "name": "stdout"
        }
      ]
    },
    {
      "cell_type": "code",
      "metadata": {
        "colab": {
          "base_uri": "https://localhost:8080/"
        },
        "id": "fAZGYxcSfbZO",
        "outputId": "cac5dafa-a236-4f1b-c8d2-4ffc7b987225"
      },
      "source": [
        "from sklearn.feature_selection import SelectFromModel\n",
        "#print(clf_GS.best_estimator_.named_steps[\"voting_clf\"].feature_importances_)\n",
        "#print(clf_GS.best_estimator_.named_steps[\"voting_clf\"].get_booster().get_fscore())\n",
        "\n",
        "thresholds = np.sort(clf_GS.best_estimator_.named_steps[\"voting_clf\"].feature_importances_)\n",
        "print(thresholds)\n",
        "i = 0\n",
        "for thresh in thresholds:\n",
        "  new_X_train = X_train\n",
        "  selection = SelectFromModel(clf_GS.best_estimator_.named_steps[\"voting_clf\"], threshold=thresh, prefit=True)\n",
        "  select_X_train = selection.transform(new_X_train)\n",
        "\n",
        "  selection_model = RandomizedSearchCV(estimator=pipe, param_distributions=parameters, n_jobs=10, verbose=1, cv=3, n_iter= 1)\n",
        "  selection_model.fit(select_X_train, y_train)\n",
        "  #dump(clf_GS, '%dselected_feature_model.joblib' % i)\n",
        "  #files.download('%dselected_feature_model.joblib' % i) \n",
        "  pred_train = selection_model.predict(select_X_train)\n",
        "  print(X_validation.shape, X_train.shape)\n",
        "  select_X_val = selection.transform(X_validation)\n",
        "  pred_val = selection_model.predict(select_X_val)\n",
        "  \n",
        "  i = i + 1\n",
        "\n",
        "  train_error = 1. - accuracy_score(y_train, pred_train)\n",
        "  train_cmat = confusion_matrix(y_train, pred_train)\n",
        "  val_error = 1. - accuracy_score(y_validation, pred_val)\n",
        "  val_cmat = confusion_matrix(y_validation, pred_val)\n",
        "\n",
        "  print(\"Threshold: %f \\n\" % thresh)\n",
        "  print('train error: %f ' % train_error)\n",
        "  print('train confusion matrix:')\n",
        "  print(train_cmat)\n",
        "  print('test error: %f ' % val_error)\n",
        "  print('test confusion matrix:')\n",
        "  print(val_cmat)"
      ],
      "execution_count": 196,
      "outputs": [
        {
          "output_type": "stream",
          "text": [
            "[0.0051622  0.00552674 0.00815703 0.01028607 0.01257942 0.0125976\n",
            " 0.03616058 0.04108327 0.0518401  0.05857509 0.07333045 0.09147334\n",
            " 0.13227946 0.46094868]\n",
            "Fitting 3 folds for each of 1 candidates, totalling 3 fits\n"
          ],
          "name": "stdout"
        },
        {
          "output_type": "stream",
          "text": [
            "[Parallel(n_jobs=10)]: Using backend LokyBackend with 10 concurrent workers.\n",
            "[Parallel(n_jobs=10)]: Done   3 out of   3 | elapsed:   24.0s finished\n"
          ],
          "name": "stderr"
        },
        {
          "output_type": "stream",
          "text": [
            "(7381, 14) (29523, 14)\n",
            "Threshold: 0.005162 \n",
            "\n",
            "train error: 0.000000 \n",
            "train confusion matrix:\n",
            "[[21377     0]\n",
            " [    0  8146]]\n",
            "test error: 0.003658 \n",
            "test confusion matrix:\n",
            "[[5340    4]\n",
            " [  23 2014]]\n",
            "Fitting 3 folds for each of 1 candidates, totalling 3 fits\n"
          ],
          "name": "stdout"
        },
        {
          "output_type": "stream",
          "text": [
            "[Parallel(n_jobs=10)]: Using backend LokyBackend with 10 concurrent workers.\n",
            "[Parallel(n_jobs=10)]: Done   3 out of   3 | elapsed:   23.5s finished\n"
          ],
          "name": "stderr"
        },
        {
          "output_type": "stream",
          "text": [
            "(7381, 14) (29523, 14)\n",
            "Threshold: 0.005527 \n",
            "\n",
            "train error: 0.000000 \n",
            "train confusion matrix:\n",
            "[[21377     0]\n",
            " [    0  8146]]\n",
            "test error: 0.003794 \n",
            "test confusion matrix:\n",
            "[[5339    5]\n",
            " [  23 2014]]\n",
            "Fitting 3 folds for each of 1 candidates, totalling 3 fits\n"
          ],
          "name": "stdout"
        },
        {
          "output_type": "stream",
          "text": [
            "[Parallel(n_jobs=10)]: Using backend LokyBackend with 10 concurrent workers.\n",
            "[Parallel(n_jobs=10)]: Done   3 out of   3 | elapsed:   21.4s finished\n"
          ],
          "name": "stderr"
        },
        {
          "output_type": "stream",
          "text": [
            "(7381, 14) (29523, 14)\n",
            "Threshold: 0.008157 \n",
            "\n",
            "train error: 0.000000 \n",
            "train confusion matrix:\n",
            "[[21377     0]\n",
            " [    0  8146]]\n",
            "test error: 0.003387 \n",
            "test confusion matrix:\n",
            "[[5339    5]\n",
            " [  20 2017]]\n",
            "Fitting 3 folds for each of 1 candidates, totalling 3 fits\n"
          ],
          "name": "stdout"
        },
        {
          "output_type": "stream",
          "text": [
            "[Parallel(n_jobs=10)]: Using backend LokyBackend with 10 concurrent workers.\n",
            "[Parallel(n_jobs=10)]: Done   3 out of   3 | elapsed:   21.5s finished\n"
          ],
          "name": "stderr"
        },
        {
          "output_type": "stream",
          "text": [
            "(7381, 14) (29523, 14)\n",
            "Threshold: 0.010286 \n",
            "\n",
            "train error: 0.000000 \n",
            "train confusion matrix:\n",
            "[[21377     0]\n",
            " [    0  8146]]\n",
            "test error: 0.003387 \n",
            "test confusion matrix:\n",
            "[[5339    5]\n",
            " [  20 2017]]\n",
            "Fitting 3 folds for each of 1 candidates, totalling 3 fits\n"
          ],
          "name": "stdout"
        },
        {
          "output_type": "stream",
          "text": [
            "[Parallel(n_jobs=10)]: Using backend LokyBackend with 10 concurrent workers.\n",
            "[Parallel(n_jobs=10)]: Done   3 out of   3 | elapsed:   20.3s finished\n"
          ],
          "name": "stderr"
        },
        {
          "output_type": "stream",
          "text": [
            "(7381, 14) (29523, 14)\n",
            "Threshold: 0.012579 \n",
            "\n",
            "train error: 0.000034 \n",
            "train confusion matrix:\n",
            "[[21376     1]\n",
            " [    0  8146]]\n",
            "test error: 0.002845 \n",
            "test confusion matrix:\n",
            "[[5340    4]\n",
            " [  17 2020]]\n",
            "Fitting 3 folds for each of 1 candidates, totalling 3 fits\n"
          ],
          "name": "stdout"
        },
        {
          "output_type": "stream",
          "text": [
            "[Parallel(n_jobs=10)]: Using backend LokyBackend with 10 concurrent workers.\n",
            "[Parallel(n_jobs=10)]: Done   3 out of   3 | elapsed:   20.7s finished\n"
          ],
          "name": "stderr"
        },
        {
          "output_type": "stream",
          "text": [
            "(7381, 14) (29523, 14)\n",
            "Threshold: 0.012598 \n",
            "\n",
            "train error: 0.000034 \n",
            "train confusion matrix:\n",
            "[[21376     1]\n",
            " [    0  8146]]\n",
            "test error: 0.002845 \n",
            "test confusion matrix:\n",
            "[[5340    4]\n",
            " [  17 2020]]\n",
            "Fitting 3 folds for each of 1 candidates, totalling 3 fits\n"
          ],
          "name": "stdout"
        },
        {
          "output_type": "stream",
          "text": [
            "[Parallel(n_jobs=10)]: Using backend LokyBackend with 10 concurrent workers.\n",
            "[Parallel(n_jobs=10)]: Done   3 out of   3 | elapsed:   20.5s finished\n"
          ],
          "name": "stderr"
        },
        {
          "output_type": "stream",
          "text": [
            "(7381, 14) (29523, 14)\n",
            "Threshold: 0.036161 \n",
            "\n",
            "train error: 0.000034 \n",
            "train confusion matrix:\n",
            "[[21376     1]\n",
            " [    0  8146]]\n",
            "test error: 0.002981 \n",
            "test confusion matrix:\n",
            "[[5338    6]\n",
            " [  16 2021]]\n",
            "Fitting 3 folds for each of 1 candidates, totalling 3 fits\n"
          ],
          "name": "stdout"
        },
        {
          "output_type": "stream",
          "text": [
            "[Parallel(n_jobs=10)]: Using backend LokyBackend with 10 concurrent workers.\n",
            "[Parallel(n_jobs=10)]: Done   3 out of   3 | elapsed:   21.9s finished\n"
          ],
          "name": "stderr"
        },
        {
          "output_type": "stream",
          "text": [
            "(7381, 14) (29523, 14)\n",
            "Threshold: 0.041083 \n",
            "\n",
            "train error: 0.000068 \n",
            "train confusion matrix:\n",
            "[[21375     2]\n",
            " [    0  8146]]\n",
            "test error: 0.003387 \n",
            "test confusion matrix:\n",
            "[[5339    5]\n",
            " [  20 2017]]\n",
            "Fitting 3 folds for each of 1 candidates, totalling 3 fits\n"
          ],
          "name": "stdout"
        },
        {
          "output_type": "stream",
          "text": [
            "[Parallel(n_jobs=10)]: Using backend LokyBackend with 10 concurrent workers.\n",
            "[Parallel(n_jobs=10)]: Done   3 out of   3 | elapsed:   24.0s finished\n"
          ],
          "name": "stderr"
        },
        {
          "output_type": "stream",
          "text": [
            "(7381, 14) (29523, 14)\n",
            "Threshold: 0.051840 \n",
            "\n",
            "train error: 0.000034 \n",
            "train confusion matrix:\n",
            "[[21376     1]\n",
            " [    0  8146]]\n",
            "test error: 0.003252 \n",
            "test confusion matrix:\n",
            "[[5338    6]\n",
            " [  18 2019]]\n",
            "Fitting 3 folds for each of 1 candidates, totalling 3 fits\n"
          ],
          "name": "stdout"
        },
        {
          "output_type": "stream",
          "text": [
            "[Parallel(n_jobs=10)]: Using backend LokyBackend with 10 concurrent workers.\n",
            "[Parallel(n_jobs=10)]: Done   3 out of   3 | elapsed:   23.1s finished\n"
          ],
          "name": "stderr"
        },
        {
          "output_type": "stream",
          "text": [
            "(7381, 14) (29523, 14)\n",
            "Threshold: 0.058575 \n",
            "\n",
            "train error: 0.000102 \n",
            "train confusion matrix:\n",
            "[[21374     3]\n",
            " [    0  8146]]\n",
            "test error: 0.002574 \n",
            "test confusion matrix:\n",
            "[[5338    6]\n",
            " [  13 2024]]\n",
            "Fitting 3 folds for each of 1 candidates, totalling 3 fits\n"
          ],
          "name": "stdout"
        },
        {
          "output_type": "stream",
          "text": [
            "[Parallel(n_jobs=10)]: Using backend LokyBackend with 10 concurrent workers.\n",
            "[Parallel(n_jobs=10)]: Done   3 out of   3 | elapsed:   22.2s finished\n"
          ],
          "name": "stderr"
        },
        {
          "output_type": "stream",
          "text": [
            "(7381, 14) (29523, 14)\n",
            "Threshold: 0.073330 \n",
            "\n",
            "train error: 0.000068 \n",
            "train confusion matrix:\n",
            "[[21375     2]\n",
            " [    0  8146]]\n",
            "test error: 0.002439 \n",
            "test confusion matrix:\n",
            "[[5340    4]\n",
            " [  14 2023]]\n",
            "Fitting 3 folds for each of 1 candidates, totalling 3 fits\n"
          ],
          "name": "stdout"
        },
        {
          "output_type": "stream",
          "text": [
            "[Parallel(n_jobs=10)]: Using backend LokyBackend with 10 concurrent workers.\n",
            "[Parallel(n_jobs=10)]: Done   3 out of   3 | elapsed:   21.2s finished\n"
          ],
          "name": "stderr"
        },
        {
          "output_type": "stream",
          "text": [
            "(7381, 14) (29523, 14)\n",
            "Threshold: 0.091473 \n",
            "\n",
            "train error: 0.000000 \n",
            "train confusion matrix:\n",
            "[[21377     0]\n",
            " [    0  8146]]\n",
            "test error: 0.002439 \n",
            "test confusion matrix:\n",
            "[[5340    4]\n",
            " [  14 2023]]\n",
            "Fitting 3 folds for each of 1 candidates, totalling 3 fits\n"
          ],
          "name": "stdout"
        },
        {
          "output_type": "stream",
          "text": [
            "[Parallel(n_jobs=10)]: Using backend LokyBackend with 10 concurrent workers.\n",
            "[Parallel(n_jobs=10)]: Done   3 out of   3 | elapsed:   17.8s finished\n"
          ],
          "name": "stderr"
        },
        {
          "output_type": "stream",
          "text": [
            "(7381, 14) (29523, 14)\n",
            "Threshold: 0.132279 \n",
            "\n",
            "train error: 0.012228 \n",
            "train confusion matrix:\n",
            "[[21365    12]\n",
            " [  349  7797]]\n",
            "test error: 0.015987 \n",
            "test confusion matrix:\n",
            "[[5336    8]\n",
            " [ 110 1927]]\n",
            "Fitting 3 folds for each of 1 candidates, totalling 3 fits\n"
          ],
          "name": "stdout"
        },
        {
          "output_type": "stream",
          "text": [
            "[Parallel(n_jobs=10)]: Using backend LokyBackend with 10 concurrent workers.\n",
            "[Parallel(n_jobs=10)]: Done   3 out of   3 | elapsed:   21.9s finished\n"
          ],
          "name": "stderr"
        },
        {
          "output_type": "stream",
          "text": [
            "(7381, 14) (29523, 14)\n",
            "Threshold: 0.460949 \n",
            "\n",
            "train error: 0.017647 \n",
            "train confusion matrix:\n",
            "[[21201   176]\n",
            " [  345  7801]]\n",
            "test error: 0.020051 \n",
            "test confusion matrix:\n",
            "[[5303   41]\n",
            " [ 107 1930]]\n"
          ],
          "name": "stdout"
        }
      ]
    },
    {
      "cell_type": "code",
      "metadata": {
        "id": "hrbsXcTbgboA",
        "colab": {
          "base_uri": "https://localhost:8080/",
          "height": 289
        },
        "outputId": "11a51818-cf27-4a0b-ea44-eee87093029f"
      },
      "source": [
        "from sklearn.feature_selection import SelectFromModel\n",
        "#print(clf_GS.best_estimator_.named_steps[\"voting_clf\"].feature_importances_)\n",
        "#print(clf_GS.best_estimator_.named_steps[\"voting_clf\"].get_booster().get_fscore())\n",
        "\n",
        "thresholds = np.sort(clf_GS.best_estimator_.named_steps[\"voting_clf\"].feature_importances_)\n",
        "print(thresholds)\n",
        "i = 0\n",
        "new_X_train = X_train\n",
        "selection = SelectFromModel(clf_GS.best_estimator_.named_steps[\"voting_clf\"], threshold=0.091473 , prefit=True)\n",
        "select_X_train = selection.transform(new_X_train)\n",
        "\n",
        "selection_model = RandomizedSearchCV(estimator=pipe, param_distributions=parameters, n_jobs=10, verbose=1, cv=3, n_iter= 1)\n",
        "selection_model.fit(select_X_train, y_train)\n",
        "dump(clf_GS, '%dselected_feature_model.joblib' % i)\n",
        "files.download('%dselected_feature_model.joblib' % i) \n",
        "pred_train = selection_model.predict(select_X_train)\n",
        "select_X_val = selection.transform(X_validation)\n",
        "pred_val = selection_model.predict(select_X_val)\n",
        "\n",
        "i = i + 1\n",
        "\n",
        "train_error = 1. - accuracy_score(y_train, pred_train)\n",
        "train_cmat = confusion_matrix(y_train, pred_train)\n",
        "val_error = 1. - accuracy_score(y_validation, pred_val)\n",
        "val_cmat = confusion_matrix(y_validation, pred_val)\n",
        "\n",
        "print(\"Threshold: %f \\n\" % thresh)\n",
        "print('train error: %f ' % train_error)\n",
        "print('train confusion matrix:')\n",
        "print(train_cmat)\n",
        "print('test error: %f ' % val_error)\n",
        "print('test confusion matrix:')\n",
        "print(val_cmat)"
      ],
      "execution_count": 202,
      "outputs": [
        {
          "output_type": "stream",
          "text": [
            "[0.0051622  0.00552674 0.00815703 0.01028607 0.01257942 0.0125976\n",
            " 0.03616058 0.04108327 0.0518401  0.05857509 0.07333045 0.09147334\n",
            " 0.13227946 0.46094868]\n",
            "Fitting 3 folds for each of 1 candidates, totalling 3 fits\n"
          ],
          "name": "stdout"
        },
        {
          "output_type": "stream",
          "text": [
            "[Parallel(n_jobs=10)]: Using backend LokyBackend with 10 concurrent workers.\n",
            "[Parallel(n_jobs=10)]: Done   3 out of   3 | elapsed:   24.2s finished\n"
          ],
          "name": "stderr"
        },
        {
          "output_type": "display_data",
          "data": {
            "application/javascript": [
              "\n",
              "    async function download(id, filename, size) {\n",
              "      if (!google.colab.kernel.accessAllowed) {\n",
              "        return;\n",
              "      }\n",
              "      const div = document.createElement('div');\n",
              "      const label = document.createElement('label');\n",
              "      label.textContent = `Downloading \"${filename}\": `;\n",
              "      div.appendChild(label);\n",
              "      const progress = document.createElement('progress');\n",
              "      progress.max = size;\n",
              "      div.appendChild(progress);\n",
              "      document.body.appendChild(div);\n",
              "\n",
              "      const buffers = [];\n",
              "      let downloaded = 0;\n",
              "\n",
              "      const channel = await google.colab.kernel.comms.open(id);\n",
              "      // Send a message to notify the kernel that we're ready.\n",
              "      channel.send({})\n",
              "\n",
              "      for await (const message of channel.messages) {\n",
              "        // Send a message to notify the kernel that we're ready.\n",
              "        channel.send({})\n",
              "        if (message.buffers) {\n",
              "          for (const buffer of message.buffers) {\n",
              "            buffers.push(buffer);\n",
              "            downloaded += buffer.byteLength;\n",
              "            progress.value = downloaded;\n",
              "          }\n",
              "        }\n",
              "      }\n",
              "      const blob = new Blob(buffers, {type: 'application/binary'});\n",
              "      const a = document.createElement('a');\n",
              "      a.href = window.URL.createObjectURL(blob);\n",
              "      a.download = filename;\n",
              "      div.appendChild(a);\n",
              "      a.click();\n",
              "      div.remove();\n",
              "    }\n",
              "  "
            ],
            "text/plain": [
              "<IPython.core.display.Javascript object>"
            ]
          },
          "metadata": {
            "tags": []
          }
        },
        {
          "output_type": "display_data",
          "data": {
            "application/javascript": [
              "download(\"download_5fa75e96-3618-4396-855a-da229de6059f\", \"0selected_feature_model.joblib\", 4064678)"
            ],
            "text/plain": [
              "<IPython.core.display.Javascript object>"
            ]
          },
          "metadata": {
            "tags": []
          }
        },
        {
          "output_type": "stream",
          "text": [
            "Threshold: 0.460949 \n",
            "\n",
            "train error: 0.000000 \n",
            "train confusion matrix:\n",
            "[[21377     0]\n",
            " [    0  8146]]\n",
            "test error: 0.002439 \n",
            "test confusion matrix:\n",
            "[[5340    4]\n",
            " [  14 2023]]\n"
          ],
          "name": "stdout"
        }
      ]
    },
    {
      "cell_type": "code",
      "metadata": {
        "id": "9Tbj-UBH5Piz"
      },
      "source": [
        "#pred_test = clf_GS.predict(X_test)\n",
        "select_X_test = selection.transform(X_test)\n",
        "pred_test = selection_model.predict(select_X_test)\n",
        "#files.download('anomaly-4G-detection/predictions.csv')"
      ],
      "execution_count": 203,
      "outputs": []
    },
    {
      "cell_type": "markdown",
      "metadata": {
        "id": "uMVDRYGJBkgO"
      },
      "source": [
        "# Submission Formatting"
      ]
    },
    {
      "cell_type": "code",
      "metadata": {
        "id": "3H-d7HbGA1I2",
        "colab": {
          "base_uri": "https://localhost:8080/"
        },
        "outputId": "0c376cd6-55b0-4283-8451-cfa3e0b7e65f"
      },
      "source": [
        "%%shell\n",
        "# Create submission file if it does not exists\n",
        "file=predictions.csv\n",
        "if [ ! -e \"$file\" ] ; then\n",
        "    touch anomaly-4G-detection/\"$file\"\n",
        "fi"
      ],
      "execution_count": 204,
      "outputs": [
        {
          "output_type": "execute_result",
          "data": {
            "text/plain": [
              ""
            ]
          },
          "metadata": {
            "tags": []
          },
          "execution_count": 204
        }
      ]
    },
    {
      "cell_type": "code",
      "metadata": {
        "id": "U9CouZll67HG",
        "colab": {
          "base_uri": "https://localhost:8080/",
          "height": 419
        },
        "outputId": "eddcf633-486c-4fe1-ca29-1e055f3b7222"
      },
      "source": [
        "# Create index column in data frame object\n",
        "submission_dataframe = pd.DataFrame(np.arange(1, 9159), columns=['Id']) \n",
        "\n",
        "# Append predictions of test data as column\n",
        "submission_dataframe['Label'] = pred_test\n",
        "\n",
        "# Convert Data Frame object to CSV\n",
        "submission_dataframe.to_csv('predictions.csv', index=False)\n",
        "\n",
        "!mv predictions.csv anomaly-4G-detection/\n",
        "predictions = pd.read_csv('anomaly-4G-detection/predictions.csv')\n",
        "predictions"
      ],
      "execution_count": 205,
      "outputs": [
        {
          "output_type": "execute_result",
          "data": {
            "text/html": [
              "<div>\n",
              "<style scoped>\n",
              "    .dataframe tbody tr th:only-of-type {\n",
              "        vertical-align: middle;\n",
              "    }\n",
              "\n",
              "    .dataframe tbody tr th {\n",
              "        vertical-align: top;\n",
              "    }\n",
              "\n",
              "    .dataframe thead th {\n",
              "        text-align: right;\n",
              "    }\n",
              "</style>\n",
              "<table border=\"1\" class=\"dataframe\">\n",
              "  <thead>\n",
              "    <tr style=\"text-align: right;\">\n",
              "      <th></th>\n",
              "      <th>Id</th>\n",
              "      <th>Label</th>\n",
              "    </tr>\n",
              "  </thead>\n",
              "  <tbody>\n",
              "    <tr>\n",
              "      <th>0</th>\n",
              "      <td>1</td>\n",
              "      <td>1</td>\n",
              "    </tr>\n",
              "    <tr>\n",
              "      <th>1</th>\n",
              "      <td>2</td>\n",
              "      <td>0</td>\n",
              "    </tr>\n",
              "    <tr>\n",
              "      <th>2</th>\n",
              "      <td>3</td>\n",
              "      <td>0</td>\n",
              "    </tr>\n",
              "    <tr>\n",
              "      <th>3</th>\n",
              "      <td>4</td>\n",
              "      <td>0</td>\n",
              "    </tr>\n",
              "    <tr>\n",
              "      <th>4</th>\n",
              "      <td>5</td>\n",
              "      <td>1</td>\n",
              "    </tr>\n",
              "    <tr>\n",
              "      <th>...</th>\n",
              "      <td>...</td>\n",
              "      <td>...</td>\n",
              "    </tr>\n",
              "    <tr>\n",
              "      <th>9153</th>\n",
              "      <td>9154</td>\n",
              "      <td>0</td>\n",
              "    </tr>\n",
              "    <tr>\n",
              "      <th>9154</th>\n",
              "      <td>9155</td>\n",
              "      <td>1</td>\n",
              "    </tr>\n",
              "    <tr>\n",
              "      <th>9155</th>\n",
              "      <td>9156</td>\n",
              "      <td>0</td>\n",
              "    </tr>\n",
              "    <tr>\n",
              "      <th>9156</th>\n",
              "      <td>9157</td>\n",
              "      <td>0</td>\n",
              "    </tr>\n",
              "    <tr>\n",
              "      <th>9157</th>\n",
              "      <td>9158</td>\n",
              "      <td>0</td>\n",
              "    </tr>\n",
              "  </tbody>\n",
              "</table>\n",
              "<p>9158 rows × 2 columns</p>\n",
              "</div>"
            ],
            "text/plain": [
              "        Id  Label\n",
              "0        1      1\n",
              "1        2      0\n",
              "2        3      0\n",
              "3        4      0\n",
              "4        5      1\n",
              "...    ...    ...\n",
              "9153  9154      0\n",
              "9154  9155      1\n",
              "9155  9156      0\n",
              "9156  9157      0\n",
              "9157  9158      0\n",
              "\n",
              "[9158 rows x 2 columns]"
            ]
          },
          "metadata": {
            "tags": []
          },
          "execution_count": 205
        }
      ]
    },
    {
      "cell_type": "code",
      "metadata": {
        "id": "pWZoB4CM4Qbo"
      },
      "source": [
        "#!rm anomaly-4G-detection/predictions.csv"
      ],
      "execution_count": 206,
      "outputs": []
    },
    {
      "cell_type": "code",
      "metadata": {
        "id": "ASKJSoDN6Hhx",
        "colab": {
          "base_uri": "https://localhost:8080/"
        },
        "outputId": "102bab11-f38e-4be7-d363-4528d97ed3f0"
      },
      "source": [
        "clf_GS.best_params_\n",
        "#print(clf_GS.grid_scores_)"
      ],
      "execution_count": 207,
      "outputs": [
        {
          "output_type": "execute_result",
          "data": {
            "text/plain": [
              "{}"
            ]
          },
          "metadata": {
            "tags": []
          },
          "execution_count": 207
        }
      ]
    }
  ]
}